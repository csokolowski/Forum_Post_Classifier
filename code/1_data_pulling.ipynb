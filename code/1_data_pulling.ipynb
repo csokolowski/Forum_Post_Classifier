{
 "cells": [
  {
   "cell_type": "markdown",
   "id": "a11d65b0-98d0-475a-9577-457a812dcb9e",
   "metadata": {},
   "source": [
    "# Imports"
   ]
  },
  {
   "cell_type": "code",
   "execution_count": 2,
   "id": "14562690-075f-4a30-8c4b-3f4413e51c4c",
   "metadata": {},
   "outputs": [],
   "source": [
    "import requests\n",
    "import pandas as pd\n",
    "import time"
   ]
  },
  {
   "cell_type": "markdown",
   "id": "8167c4d7-b0c5-45ee-9c53-cd73037b07c5",
   "metadata": {},
   "source": [
    "# API Scraping Function"
   ]
  },
  {
   "cell_type": "code",
   "execution_count": 3,
   "id": "bbdc4c97-743d-497c-b0ab-9339b2ef19d5",
   "metadata": {},
   "outputs": [],
   "source": [
    "def get_title(subreddit, pulls):\n",
    "    df = pd.DataFrame()\n",
    "    url = 'https://api.pushshift.io/reddit/search/submission'\n",
    "    if subreddit == 'todayilearned':\n",
    "        important = ['title', 'created_utc', 'removed_by_category', 'score', 'subreddit']\n",
    "        #r/TIL keeps up moderated content while r/STIL does not. 'removed_by_category' will allow us to delete those posts later\n",
    "    else:\n",
    "        important = ['title', 'created_utc', 'score', 'subreddit']\n",
    "    params = {\n",
    "            'subreddit' : subreddit, \n",
    "            'size' : 100,\n",
    "            'before' : 2000000000\n",
    "            #'before' is set to a date in the future, so it will first grab the newest posts\n",
    "            }\n",
    "    for i in range(pulls):\n",
    "        res = requests.get(url, params)\n",
    "        data = res.json()\n",
    "        posts = data['data']\n",
    "        posts_frame = pd.DataFrame(posts)\n",
    "        #puts the posts in a temporary dataframe\n",
    "        df = df.append(posts_frame[important])\n",
    "        #adds the temporary mainframe to the main dataframe\n",
    "        params['before'] = posts_frame['created_utc'].min()\n",
    "        #looks at the oldest post and changes 'before' to that value. Next pull will look at the newest posts that are older than that last post\n",
    "        time.sleep(1)\n",
    "        #just to make sure I don't send too many pull requests too quickly\n",
    "    df.to_csv(f'../data/{subreddit}.csv', index=False)\n",
    "    #no return value necessary. Just want to save that dataframe."
   ]
  },
  {
   "cell_type": "markdown",
   "id": "1d236b9e-6a98-43a3-9306-1b719af6fcdf",
   "metadata": {},
   "source": [
    "# Function Use"
   ]
  },
  {
   "cell_type": "code",
   "execution_count": 3,
   "id": "65d4e1ce-acd8-431f-bd11-2cf8e61333e8",
   "metadata": {},
   "outputs": [],
   "source": [
    "get_title('shittytodayilearned', 79)"
   ]
  },
  {
   "cell_type": "markdown",
   "id": "f17ca001-bd09-496c-b322-b567ddd7cc3b",
   "metadata": {},
   "source": [
    "This will grab the entire post history of r/STIL"
   ]
  },
  {
   "cell_type": "code",
   "execution_count": 4,
   "id": "79e8969f-41f4-4d81-8f95-c592f24c3684",
   "metadata": {},
   "outputs": [],
   "source": [
    "get_title('todayilearned', 1_250)"
   ]
  },
  {
   "cell_type": "markdown",
   "id": "568c7ec3-3fbd-4bf8-9c5d-057c52855d5f",
   "metadata": {},
   "source": [
    "This amount is what's necessary to grab enough r/TIL posts for method 2"
   ]
  }
 ],
 "metadata": {
  "kernelspec": {
   "display_name": "Python [conda env:dsi-111]",
   "language": "python",
   "name": "conda-env-dsi-111-py"
  },
  "language_info": {
   "codemirror_mode": {
    "name": "ipython",
    "version": 3
   },
   "file_extension": ".py",
   "mimetype": "text/x-python",
   "name": "python",
   "nbconvert_exporter": "python",
   "pygments_lexer": "ipython3",
   "version": "3.8.8"
  }
 },
 "nbformat": 4,
 "nbformat_minor": 5
}
