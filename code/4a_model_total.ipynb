{
 "cells": [
  {
   "cell_type": "markdown",
   "id": "a29b14ff-c277-41cc-8627-2cd58e4df4f1",
   "metadata": {},
   "source": [
    "# Imports"
   ]
  },
  {
   "cell_type": "code",
   "execution_count": 1,
   "id": "1cf92c4d-897e-4a21-a3b8-01222d7a17ff",
   "metadata": {},
   "outputs": [],
   "source": [
    "import numpy as np\n",
    "import pandas as pd\n",
    "import seaborn as sns\n",
    "import matplotlib.pyplot as plt\n",
    "import nltk\n",
    "\n",
    "from sklearn.pipeline import Pipeline\n",
    "from sklearn.linear_model import LogisticRegressionCV\n",
    "from sklearn.tree import DecisionTreeClassifier\n",
    "from sklearn.ensemble import RandomForestClassifier, ExtraTreesClassifier, GradientBoostingClassifier, AdaBoostClassifier, BaggingClassifier\n",
    "\n",
    "from sklearn.model_selection import train_test_split, GridSearchCV\n",
    "from sklearn.feature_extraction.text import CountVectorizer, TfidfVectorizer\n",
    "\n",
    "from sklearn.metrics import confusion_matrix, plot_confusion_matrix"
   ]
  },
  {
   "cell_type": "markdown",
   "id": "504cc533-6e30-4817-ac55-971371ab150c",
   "metadata": {},
   "source": [
    "# Last Dataset Check/Additions"
   ]
  },
  {
   "cell_type": "code",
   "execution_count": 2,
   "id": "826eee49-9d93-4f39-94f5-0d24dac5b7ce",
   "metadata": {},
   "outputs": [],
   "source": [
    "model = pd.read_csv('../data/combined_total.csv')"
   ]
  },
  {
   "cell_type": "code",
   "execution_count": 3,
   "id": "57a34e74-39a5-4299-9129-410f3d03509f",
   "metadata": {},
   "outputs": [
    {
     "data": {
      "text/html": [
       "<div>\n",
       "<style scoped>\n",
       "    .dataframe tbody tr th:only-of-type {\n",
       "        vertical-align: middle;\n",
       "    }\n",
       "\n",
       "    .dataframe tbody tr th {\n",
       "        vertical-align: top;\n",
       "    }\n",
       "\n",
       "    .dataframe thead th {\n",
       "        text-align: right;\n",
       "    }\n",
       "</style>\n",
       "<table border=\"1\" class=\"dataframe\">\n",
       "  <thead>\n",
       "    <tr style=\"text-align: right;\">\n",
       "      <th></th>\n",
       "      <th>title</th>\n",
       "      <th>created_utc</th>\n",
       "      <th>score</th>\n",
       "      <th>subreddit</th>\n",
       "      <th>words</th>\n",
       "    </tr>\n",
       "  </thead>\n",
       "  <tbody>\n",
       "    <tr>\n",
       "      <th>0</th>\n",
       "      <td>TIL that the infectious earworm that is the Sk...</td>\n",
       "      <td>1627824715</td>\n",
       "      <td>1</td>\n",
       "      <td>todayilearned</td>\n",
       "      <td>20</td>\n",
       "    </tr>\n",
       "    <tr>\n",
       "      <th>1</th>\n",
       "      <td>TIL: Ian Manuel was 13 when he shot Debbie Bai...</td>\n",
       "      <td>1633789935</td>\n",
       "      <td>1</td>\n",
       "      <td>todayilearned</td>\n",
       "      <td>30</td>\n",
       "    </tr>\n",
       "    <tr>\n",
       "      <th>2</th>\n",
       "      <td>TIL Handheld Flamethrowers were invented by th...</td>\n",
       "      <td>1601932476</td>\n",
       "      <td>1</td>\n",
       "      <td>todayilearned</td>\n",
       "      <td>22</td>\n",
       "    </tr>\n",
       "    <tr>\n",
       "      <th>3</th>\n",
       "      <td>TIL that a stolen 9.5 million dollar Stradivar...</td>\n",
       "      <td>1607907053</td>\n",
       "      <td>2</td>\n",
       "      <td>todayilearned</td>\n",
       "      <td>17</td>\n",
       "    </tr>\n",
       "    <tr>\n",
       "      <th>4</th>\n",
       "      <td>TIL that only 5.5% of participants responded “...</td>\n",
       "      <td>1615603706</td>\n",
       "      <td>1</td>\n",
       "      <td>todayilearned</td>\n",
       "      <td>32</td>\n",
       "    </tr>\n",
       "  </tbody>\n",
       "</table>\n",
       "</div>"
      ],
      "text/plain": [
       "                                               title  created_utc  score  \\\n",
       "0  TIL that the infectious earworm that is the Sk...   1627824715      1   \n",
       "1  TIL: Ian Manuel was 13 when he shot Debbie Bai...   1633789935      1   \n",
       "2  TIL Handheld Flamethrowers were invented by th...   1601932476      1   \n",
       "3  TIL that a stolen 9.5 million dollar Stradivar...   1607907053      2   \n",
       "4  TIL that only 5.5% of participants responded “...   1615603706      1   \n",
       "\n",
       "       subreddit  words  \n",
       "0  todayilearned     20  \n",
       "1  todayilearned     30  \n",
       "2  todayilearned     22  \n",
       "3  todayilearned     17  \n",
       "4  todayilearned     32  "
      ]
     },
     "execution_count": 3,
     "metadata": {},
     "output_type": "execute_result"
    }
   ],
   "source": [
    "model.head()"
   ]
  },
  {
   "cell_type": "code",
   "execution_count": 4,
   "id": "6ca03e63-30db-4bfd-9ca7-189e2a50bb55",
   "metadata": {},
   "outputs": [
    {
     "data": {
      "text/plain": [
       "title          0\n",
       "created_utc    0\n",
       "score          0\n",
       "subreddit      0\n",
       "words          0\n",
       "dtype: int64"
      ]
     },
     "execution_count": 4,
     "metadata": {},
     "output_type": "execute_result"
    }
   ],
   "source": [
    "model.isnull().sum()"
   ]
  },
  {
   "cell_type": "markdown",
   "id": "3723e457-d0cd-4f10-8ff9-b2fffba07e4c",
   "metadata": {},
   "source": [
    "All looks clean"
   ]
  },
  {
   "cell_type": "markdown",
   "id": "57b877a6-f3b1-4140-9780-8c35cb7b27f9",
   "metadata": {},
   "source": [
    "### Binarizing the Subreddit Column"
   ]
  },
  {
   "cell_type": "code",
   "execution_count": 5,
   "id": "bd62fb7f-0f80-429e-b12f-527288bc7866",
   "metadata": {},
   "outputs": [],
   "source": [
    "model.subreddit = model.subreddit.str.replace('todayilearned','1')\n",
    "model.subreddit = model.subreddit.str.replace('ShittyTodayILearned','0')\n",
    "\n",
    "model['subreddit'] = model['subreddit'].astype(int)"
   ]
  },
  {
   "cell_type": "markdown",
   "id": "5f7f517f-2855-4525-bfe0-ec2b4a54046f",
   "metadata": {},
   "source": [
    "### Creating Stopwords List"
   ]
  },
  {
   "cell_type": "code",
   "execution_count": 6,
   "id": "e5c905d6-83c4-45a4-b005-042d96f5cfd0",
   "metadata": {},
   "outputs": [],
   "source": [
    "stopwords = nltk.corpus.stopwords.words('english')\n",
    "stopwords.extend(('til', 'todayilearned', 'til:', 'stil', 'shittytodayilearned', 'today', 'learned'))"
   ]
  },
  {
   "cell_type": "markdown",
   "id": "7f55d648-8c72-402b-a668-d36a44120b31",
   "metadata": {},
   "source": [
    "These words might artificially increase accuracy, which I do not want"
   ]
  },
  {
   "cell_type": "markdown",
   "id": "1ab1c5ef-778e-4ab6-875c-49a8b40919ff",
   "metadata": {},
   "source": [
    "# Simple Models"
   ]
  },
  {
   "cell_type": "markdown",
   "id": "fee471cd-9e95-415f-bf75-072e994fa345",
   "metadata": {},
   "source": [
    "I will run all models and save comments until I see all. I am looking for models that have a higher accuracy than average."
   ]
  },
  {
   "cell_type": "code",
   "execution_count": 7,
   "id": "8d8696be-8c2f-4718-95b9-fc010fc100bc",
   "metadata": {
    "tags": []
   },
   "outputs": [],
   "source": [
    "X = model['title']\n",
    "y = model['subreddit']\n",
    "\n",
    "X_train, X_test, y_train, y_test = train_test_split(X , y, random_state = 42)"
   ]
  },
  {
   "cell_type": "markdown",
   "id": "81e5abbe-27e2-473b-956b-de8532cad909",
   "metadata": {},
   "source": [
    "This will be used in all models"
   ]
  },
  {
   "cell_type": "markdown",
   "id": "b60addee-3114-4df4-8d09-086c25b6f6ae",
   "metadata": {},
   "source": [
    "## CV Logistic Regression"
   ]
  },
  {
   "cell_type": "code",
   "execution_count": 8,
   "id": "f94ff5c8-5a2e-42d6-a6fa-98f2449109e2",
   "metadata": {},
   "outputs": [
    {
     "name": "stdout",
     "output_type": "stream",
     "text": [
      "Training Accuracy: 0.9869155086722792\n",
      "Testing Accuracy: 0.7642226954669912\n"
     ]
    }
   ],
   "source": [
    "pipe = Pipeline([\n",
    "    ('cv', CountVectorizer(stop_words = stopwords, ngram_range = (1, 2))),\n",
    "    ('lr', LogisticRegressionCV())\n",
    "    ])\n",
    "\n",
    "pipe.fit(X_train, y_train)\n",
    "print(f'Training Accuracy: {pipe.score(X_train, y_train)}')\n",
    "print(f'Testing Accuracy: {pipe.score(X_test, y_test)}')"
   ]
  },
  {
   "cell_type": "code",
   "execution_count": 9,
   "id": "da249320-d6f7-414b-957e-a906d295e74b",
   "metadata": {},
   "outputs": [
    {
     "name": "stdout",
     "output_type": "stream",
     "text": [
      "Specificity: 0.8420398009950248\n",
      "Type I Error: 0.15796019900497515\n",
      "Precision: 0.8201133144475921\n",
      "Recall: 0.6896962477665277\n"
     ]
    },
    {
     "data": {
      "image/png": "[encoded data removed]",
      "text/plain": [
       "<Figure size 432x288 with 2 Axes>"
      ]
     },
     "metadata": {
      "needs_background": "light"
     },
     "output_type": "display_data"
    }
   ],
   "source": [
    "preds = pipe.predict(X_test)\n",
    "tn, fp, fn, tp = confusion_matrix(y_test, preds).ravel()\n",
    "plot_confusion_matrix(pipe, X_test, y_test, cmap='Blues', values_format='d');\n",
    "print(f'Specificity: {(tn) / (tn + fp)}')\n",
    "print(f'Type I Error: {(1 - (tn) / (tn + fp))}')\n",
    "print(f'Precision: {(tp) / (tp + fp)}')\n",
    "print(f'Recall: {(tp) / (tp + fn)}')\n",
    "plt.savefig('../images/cvlr_matrix.png')"
   ]
  },
  {
   "cell_type": "markdown",
   "id": "28068a74-cbb9-4a4a-b9eb-a70f96e830e7",
   "metadata": {},
   "source": [
    "## CV Decision Trees"
   ]
  },
  {
   "cell_type": "code",
   "execution_count": 10,
   "id": "9f3babff-3e9c-4c0d-a694-ac153a17bbd8",
   "metadata": {},
   "outputs": [
    {
     "name": "stdout",
     "output_type": "stream",
     "text": [
      "Training Accuracy: 0.9998985698346688\n",
      "Testing Accuracy: 0.6689990873136599\n"
     ]
    }
   ],
   "source": [
    "pipe = Pipeline([\n",
    "    ('cv', CountVectorizer(stop_words = stopwords, ngram_range = (1, 2))),\n",
    "    ('dt', DecisionTreeClassifier())\n",
    "    ])\n",
    "\n",
    "pipe.fit(X_train, y_train)\n",
    "print(f'Training Accuracy: {pipe.score(X_train, y_train)}')\n",
    "print(f'Testing Accuracy: {pipe.score(X_test, y_test)}')"
   ]
  },
  {
   "cell_type": "code",
   "execution_count": 11,
   "id": "51dd8928-8eff-4936-9739-36f8a8bd4ea9",
   "metadata": {},
   "outputs": [
    {
     "name": "stdout",
     "output_type": "stream",
     "text": [
      "Specificity: 0.6579601990049752\n",
      "Type I Error: 0.34203980099502485\n"
     ]
    },
    {
     "data": {
      "image/png": "[encoded data removed]",
      "text/plain": [
       "<Figure size 432x288 with 2 Axes>"
      ]
     },
     "metadata": {
      "needs_background": "light"
     },
     "output_type": "display_data"
    }
   ],
   "source": [
    "preds = pipe.predict(X_test)\n",
    "tn, fp, fn, tp = confusion_matrix(y_test, preds).ravel()\n",
    "plot_confusion_matrix(pipe, X_test, y_test, cmap='Blues', values_format='d');\n",
    "print(f'Specificity: {(tn) / (tn + fp)}')\n",
    "print(f'Type I Error: {(1 - (tn) / (tn + fp))}')"
   ]
  },
  {
   "cell_type": "markdown",
   "id": "7b03f49f-4867-4a03-ada9-be845a5920e5",
   "metadata": {},
   "source": [
    "## CV Gradient Boost"
   ]
  },
  {
   "cell_type": "code",
   "execution_count": 12,
   "id": "b77d10f5-216d-4e79-b6bb-b361d20d4c2a",
   "metadata": {},
   "outputs": [
    {
     "name": "stdout",
     "output_type": "stream",
     "text": [
      "Training Accuracy: 0.715792676742063\n",
      "Testing Accuracy: 0.6683906297535747\n"
     ]
    }
   ],
   "source": [
    "pipe = Pipeline([\n",
    "    ('cv', CountVectorizer(stop_words = stopwords, ngram_range = (1, 2))),\n",
    "    ('gb', GradientBoostingClassifier())\n",
    "    ])\n",
    "\n",
    "pipe.fit(X_train, y_train)\n",
    "print(f'Training Accuracy: {pipe.score(X_train, y_train)}')\n",
    "print(f'Testing Accuracy: {pipe.score(X_test, y_test)}')"
   ]
  },
  {
   "cell_type": "code",
   "execution_count": 13,
   "id": "226fa771-d228-4bd9-99a5-6c802dbcf397",
   "metadata": {},
   "outputs": [
    {
     "name": "stdout",
     "output_type": "stream",
     "text": [
      "Specificity: 0.7985074626865671\n",
      "Type I Error: 0.20149253731343286\n"
     ]
    },
    {
     "data": {
      "image/png": "[encoded data removed]",
      "text/plain": [
       "<Figure size 432x288 with 2 Axes>"
      ]
     },
     "metadata": {
      "needs_background": "light"
     },
     "output_type": "display_data"
    }
   ],
   "source": [
    "preds = pipe.predict(X_test)\n",
    "tn, fp, fn, tp = confusion_matrix(y_test, preds).ravel()\n",
    "plot_confusion_matrix(pipe, X_test, y_test, cmap='Blues', values_format='d');\n",
    "print(f'Specificity: {(tn) / (tn + fp)}')\n",
    "print(f'Type I Error: {(1 - (tn) / (tn + fp))}')"
   ]
  },
  {
   "cell_type": "markdown",
   "id": "861f1ac0-88b7-4736-a238-3fba6e8a529c",
   "metadata": {},
   "source": [
    "## CV ADA Boost"
   ]
  },
  {
   "cell_type": "code",
   "execution_count": 14,
   "id": "bed8cfea-dc4d-4e19-a091-62fecf661b05",
   "metadata": {},
   "outputs": [
    {
     "name": "stdout",
     "output_type": "stream",
     "text": [
      "Training Accuracy: 0.6786692362308551\n",
      "Testing Accuracy: 0.6616975965926377\n"
     ]
    }
   ],
   "source": [
    "pipe = Pipeline([\n",
    "    ('cv', CountVectorizer(stop_words = stopwords, ngram_range = (1, 2))),\n",
    "    ('abc', AdaBoostClassifier())\n",
    "    ])\n",
    "\n",
    "pipe.fit(X_train, y_train)\n",
    "print(f'Training Accuracy: {pipe.score(X_train, y_train)}')\n",
    "print(f'Testing Accuracy: {pipe.score(X_test, y_test)}')"
   ]
  },
  {
   "cell_type": "code",
   "execution_count": 15,
   "id": "0d26d634-1600-4eab-931b-c205ad48ae6c",
   "metadata": {},
   "outputs": [
    {
     "name": "stdout",
     "output_type": "stream",
     "text": [
      "Specificity: 0.8084577114427861\n",
      "Type I Error: 0.1915422885572139\n"
     ]
    },
    {
     "data": {
      "image/png": "[encoded data removed]",
      "text/plain": [
       "<Figure size 432x288 with 2 Axes>"
      ]
     },
     "metadata": {
      "needs_background": "light"
     },
     "output_type": "display_data"
    }
   ],
   "source": [
    "preds = pipe.predict(X_test)\n",
    "tn, fp, fn, tp = confusion_matrix(y_test, preds).ravel()\n",
    "plot_confusion_matrix(pipe, X_test, y_test, cmap='Blues', values_format='d');\n",
    "print(f'Specificity: {(tn) / (tn + fp)}')\n",
    "print(f'Type I Error: {(1 - (tn) / (tn + fp))}')"
   ]
  },
  {
   "cell_type": "markdown",
   "id": "06a7e261-a341-4752-b175-d89c64db8d18",
   "metadata": {},
   "source": [
    "## CV Bagging"
   ]
  },
  {
   "cell_type": "code",
   "execution_count": 16,
   "id": "14f1855c-29d3-4007-8600-4afd186574bf",
   "metadata": {},
   "outputs": [
    {
     "name": "stdout",
     "output_type": "stream",
     "text": [
      "Training Accuracy: 0.9745410285018764\n",
      "Testing Accuracy: 0.6979008214177062\n"
     ]
    }
   ],
   "source": [
    "pipe = Pipeline([\n",
    "    ('cv', CountVectorizer(stop_words = stopwords, ngram_range = (1, 2))),\n",
    "    ('bc', BaggingClassifier())\n",
    "    ])\n",
    "\n",
    "pipe.fit(X_train, y_train)\n",
    "print(f'Training Accuracy: {pipe.score(X_train, y_train)}')\n",
    "print(f'Testing Accuracy: {pipe.score(X_test, y_test)}')"
   ]
  },
  {
   "cell_type": "code",
   "execution_count": 17,
   "id": "f2b982f0-07ca-4141-8081-d77d8aa270aa",
   "metadata": {},
   "outputs": [
    {
     "name": "stdout",
     "output_type": "stream",
     "text": [
      "Specificity: 0.7232587064676617\n",
      "Type I Error: 0.27674129353233834\n"
     ]
    },
    {
     "data": {
      "image/png": "[encoded data removed]",
      "text/plain": [
       "<Figure size 432x288 with 2 Axes>"
      ]
     },
     "metadata": {
      "needs_background": "light"
     },
     "output_type": "display_data"
    }
   ],
   "source": [
    "preds = pipe.predict(X_test)\n",
    "tn, fp, fn, tp = confusion_matrix(y_test, preds).ravel()\n",
    "plot_confusion_matrix(pipe, X_test, y_test, cmap='Blues', values_format='d');\n",
    "print(f'Specificity: {(tn) / (tn + fp)}')\n",
    "print(f'Type I Error: {(1 - (tn) / (tn + fp))}')"
   ]
  },
  {
   "cell_type": "markdown",
   "id": "c59f79d1-3a63-473b-b4b9-c683349dadea",
   "metadata": {},
   "source": [
    "## TFID Logistic Regression"
   ]
  },
  {
   "cell_type": "code",
   "execution_count": 18,
   "id": "64ee0b77-dafd-4f64-8533-de7db11ad1ff",
   "metadata": {},
   "outputs": [
    {
     "name": "stdout",
     "output_type": "stream",
     "text": [
      "Training Accuracy: 0.952733542955675\n",
      "Testing Accuracy: 0.7572254335260116\n"
     ]
    }
   ],
   "source": [
    "pipe = Pipeline([\n",
    "    ('tf', TfidfVectorizer(stop_words = stopwords)),\n",
    "    ('lr', LogisticRegressionCV(solver = 'liblinear'))\n",
    "    ])\n",
    "\n",
    "pipe.fit(X_train, y_train)\n",
    "print(f'Training Accuracy: {pipe.score(X_train, y_train)}')\n",
    "print(f'Testing Accuracy: {pipe.score(X_test, y_test)}')"
   ]
  },
  {
   "cell_type": "code",
   "execution_count": 19,
   "id": "d052d4b1-791a-4da9-99bf-25ffe141825c",
   "metadata": {},
   "outputs": [
    {
     "name": "stdout",
     "output_type": "stream",
     "text": [
      "Specificity: 0.7338308457711443\n",
      "Type I Error: 0.2661691542288557\n"
     ]
    },
    {
     "data": {
      "image/png": "[encoded data removed]",
      "text/plain": [
       "<Figure size 432x288 with 2 Axes>"
      ]
     },
     "metadata": {
      "needs_background": "light"
     },
     "output_type": "display_data"
    }
   ],
   "source": [
    "preds = pipe.predict(X_test)\n",
    "tn, fp, fn, tp = confusion_matrix(y_test, preds).ravel()\n",
    "plot_confusion_matrix(pipe, X_test, y_test, cmap='Blues', values_format='d');\n",
    "print(f'Specificity: {(tn) / (tn + fp)}')\n",
    "print(f'Type I Error: {(1 - (tn) / (tn + fp))}')"
   ]
  },
  {
   "cell_type": "markdown",
   "id": "c43e6f2a-0b29-48d4-b0d1-f1ebbc874e47",
   "metadata": {},
   "source": [
    "## TFID Decision Trees"
   ]
  },
  {
   "cell_type": "code",
   "execution_count": 20,
   "id": "71892edc-ef06-40b3-96bc-64032655e2ec",
   "metadata": {},
   "outputs": [
    {
     "name": "stdout",
     "output_type": "stream",
     "text": [
      "Training Accuracy: 0.9998985698346688\n",
      "Testing Accuracy: 0.6814724672954061\n"
     ]
    }
   ],
   "source": [
    "pipe = Pipeline([\n",
    "    ('tf', TfidfVectorizer(stop_words = stopwords)),\n",
    "    ('dt', DecisionTreeClassifier())\n",
    "    ])\n",
    "\n",
    "pipe.fit(X_train, y_train)\n",
    "print(f'Training Accuracy: {pipe.score(X_train, y_train)}')\n",
    "print(f'Testing Accuracy: {pipe.score(X_test, y_test)}')"
   ]
  },
  {
   "cell_type": "code",
   "execution_count": 21,
   "id": "c63173f0-e93d-4ce8-8e50-8dfac417f421",
   "metadata": {},
   "outputs": [
    {
     "name": "stdout",
     "output_type": "stream",
     "text": [
      "Specificity: 0.724502487562189\n",
      "Type I Error: 0.27549751243781095\n"
     ]
    },
    {
     "data": {
      "image/png": "[encoded data removed]",
      "text/plain": [
       "<Figure size 432x288 with 2 Axes>"
      ]
     },
     "metadata": {
      "needs_background": "light"
     },
     "output_type": "display_data"
    }
   ],
   "source": [
    "preds = pipe.predict(X_test)\n",
    "tn, fp, fn, tp = confusion_matrix(y_test, preds).ravel()\n",
    "plot_confusion_matrix(pipe, X_test, y_test, cmap='Blues', values_format='d');\n",
    "print(f'Specificity: {(tn) / (tn + fp)}')\n",
    "print(f'Type I Error: {(1 - (tn) / (tn + fp))}')"
   ]
  },
  {
   "cell_type": "markdown",
   "id": "c44e8634-d163-4cf5-a8e9-70a331c381ec",
   "metadata": {},
   "source": [
    "## TFID Random Forest"
   ]
  },
  {
   "cell_type": "code",
   "execution_count": 22,
   "id": "f2b820f3-d8d1-4d38-8b92-ec385a9241be",
   "metadata": {},
   "outputs": [
    {
     "name": "stdout",
     "output_type": "stream",
     "text": [
      "Training Accuracy: 0.9998985698346688\n",
      "Testing Accuracy: 0.6802555521752358\n"
     ]
    }
   ],
   "source": [
    "pipe_rf1 = Pipeline([\n",
    "    ('tf', TfidfVectorizer(stop_words = stopwords)),\n",
    "    ('rf', RandomForestClassifier())\n",
    "    ])\n",
    "\n",
    "pipe.fit(X_train, y_train)\n",
    "print(f'Training Accuracy: {pipe.score(X_train, y_train)}')\n",
    "print(f'Testing Accuracy: {pipe.score(X_test, y_test)}')"
   ]
  },
  {
   "cell_type": "code",
   "execution_count": 23,
   "id": "9472584e-ab25-4c4b-9f66-c3d5a6b01ec0",
   "metadata": {},
   "outputs": [
    {
     "name": "stdout",
     "output_type": "stream",
     "text": [
      "Specificity: 0.7257462686567164\n",
      "Type I Error: 0.27425373134328357\n"
     ]
    },
    {
     "data": {
      "image/png": "[encoded data removed]",
      "text/plain": [
       "<Figure size 432x288 with 2 Axes>"
      ]
     },
     "metadata": {
      "needs_background": "light"
     },
     "output_type": "display_data"
    }
   ],
   "source": [
    "preds = pipe.predict(X_test)\n",
    "tn, fp, fn, tp = confusion_matrix(y_test, preds).ravel()\n",
    "plot_confusion_matrix(pipe, X_test, y_test, cmap='Blues', values_format='d');\n",
    "print(f'Specificity: {(tn) / (tn + fp)}')\n",
    "print(f'Type I Error: {(1 - (tn) / (tn + fp))}')"
   ]
  },
  {
   "cell_type": "markdown",
   "id": "002edf10-04db-4c84-adba-f4a7f5c23f80",
   "metadata": {},
   "source": [
    "## TFID Extra Trees"
   ]
  },
  {
   "cell_type": "code",
   "execution_count": 24,
   "id": "4f72bb8d-9a97-4794-80d6-52b547b56e29",
   "metadata": {},
   "outputs": [
    {
     "name": "stdout",
     "output_type": "stream",
     "text": [
      "Training Accuracy: 0.9998985698346688\n",
      "Testing Accuracy: 0.7462731974444783\n"
     ]
    }
   ],
   "source": [
    "pipe = Pipeline([\n",
    "    ('tf', TfidfVectorizer(stop_words = stopwords)),\n",
    "    ('et', ExtraTreesClassifier())\n",
    "    ])\n",
    "\n",
    "pipe.fit(X_train, y_train)\n",
    "print(f'Training Accuracy: {pipe.score(X_train, y_train)}')\n",
    "print(f'Testing Accuracy: {pipe.score(X_test, y_test)}')"
   ]
  },
  {
   "cell_type": "code",
   "execution_count": 25,
   "id": "1b5538e4-2c35-4309-9753-408b75f82a85",
   "metadata": {},
   "outputs": [
    {
     "name": "stdout",
     "output_type": "stream",
     "text": [
      "Specificity: 0.8233830845771144\n",
      "Type I Error: 0.1766169154228856\n"
     ]
    },
    {
     "data": {
      "image/png": "[encoded data removed]",
      "text/plain": [
       "<Figure size 432x288 with 2 Axes>"
      ]
     },
     "metadata": {
      "needs_background": "light"
     },
     "output_type": "display_data"
    }
   ],
   "source": [
    "preds = pipe.predict(X_test)\n",
    "tn, fp, fn, tp = confusion_matrix(y_test, preds).ravel()\n",
    "plot_confusion_matrix(pipe, X_test, y_test, cmap='Blues', values_format='d');\n",
    "print(f'Specificity: {(tn) / (tn + fp)}')\n",
    "print(f'Type I Error: {(1 - (tn) / (tn + fp))}')"
   ]
  },
  {
   "cell_type": "markdown",
   "id": "e44c33a5-dd8b-4ed2-9aba-ec72eae2d9fd",
   "metadata": {},
   "source": [
    "## TFID Gradient Boost"
   ]
  },
  {
   "cell_type": "code",
   "execution_count": 26,
   "id": "0b5497a8-1ea5-4ae2-9b32-e459a2b03309",
   "metadata": {},
   "outputs": [
    {
     "name": "stdout",
     "output_type": "stream",
     "text": [
      "Training Accuracy: 0.7445988436961152\n",
      "Testing Accuracy: 0.7009431092181321\n"
     ]
    }
   ],
   "source": [
    "pipe = Pipeline([\n",
    "    ('tf', TfidfVectorizer(stop_words = stopwords)),\n",
    "    ('gb', GradientBoostingClassifier())\n",
    "    ])\n",
    "\n",
    "pipe.fit(X_train, y_train)\n",
    "print(f'Training Accuracy: {pipe.score(X_train, y_train)}')\n",
    "print(f'Testing Accuracy: {pipe.score(X_test, y_test)}')"
   ]
  },
  {
   "cell_type": "code",
   "execution_count": 27,
   "id": "d5869f4c-8233-4e69-8219-2d4d118c2042",
   "metadata": {},
   "outputs": [
    {
     "name": "stdout",
     "output_type": "stream",
     "text": [
      "Specificity: 0.8519900497512438\n",
      "Type I Error: 0.14800995024875618\n"
     ]
    },
    {
     "data": {
      "image/png": "[encoded data removed]",
      "text/plain": [
       "<Figure size 432x288 with 2 Axes>"
      ]
     },
     "metadata": {
      "needs_background": "light"
     },
     "output_type": "display_data"
    }
   ],
   "source": [
    "preds = pipe.predict(X_test)\n",
    "tn, fp, fn, tp = confusion_matrix(y_test, preds).ravel()\n",
    "plot_confusion_matrix(pipe, X_test, y_test, cmap='Blues', values_format='d');\n",
    "print(f'Specificity: {(tn) / (tn + fp)}')\n",
    "print(f'Type I Error: {(1 - (tn) / (tn + fp))}')"
   ]
  },
  {
   "cell_type": "markdown",
   "id": "390972c2-d871-42e6-a50e-f536d5047afc",
   "metadata": {},
   "source": [
    "## TFID ADA Boost"
   ]
  },
  {
   "cell_type": "code",
   "execution_count": 28,
   "id": "c5e11aab-6103-4cc2-9ebe-0cd3958ba382",
   "metadata": {},
   "outputs": [
    {
     "name": "stdout",
     "output_type": "stream",
     "text": [
      "Training Accuracy: 0.6728877168069783\n",
      "Testing Accuracy: 0.6522665044113173\n"
     ]
    }
   ],
   "source": [
    "pipe = Pipeline([\n",
    "    ('tf', TfidfVectorizer(stop_words = stopwords)),\n",
    "    ('abc', AdaBoostClassifier())\n",
    "    ])\n",
    "\n",
    "pipe.fit(X_train, y_train)\n",
    "print(f'Training Accuracy: {pipe.score(X_train, y_train)}')\n",
    "print(f'Testing Accuracy: {pipe.score(X_test, y_test)}')"
   ]
  },
  {
   "cell_type": "code",
   "execution_count": 29,
   "id": "47b74e6d-e252-4467-a80b-170aa29de22c",
   "metadata": {},
   "outputs": [
    {
     "name": "stdout",
     "output_type": "stream",
     "text": [
      "Specificity: 0.8762437810945274\n",
      "Type I Error: 0.12375621890547261\n"
     ]
    },
    {
     "data": {
      "image/png": "[encoded data removed]",
      "text/plain": [
       "<Figure size 432x288 with 2 Axes>"
      ]
     },
     "metadata": {
      "needs_background": "light"
     },
     "output_type": "display_data"
    }
   ],
   "source": [
    "preds = pipe.predict(X_test)\n",
    "tn, fp, fn, tp = confusion_matrix(y_test, preds).ravel()\n",
    "plot_confusion_matrix(pipe, X_test, y_test, cmap='Blues', values_format='d');\n",
    "print(f'Specificity: {(tn) / (tn + fp)}')\n",
    "print(f'Type I Error: {(1 - (tn) / (tn + fp))}')"
   ]
  },
  {
   "cell_type": "markdown",
   "id": "bcce71ef-f328-49fe-b52f-8866bd35614c",
   "metadata": {},
   "source": [
    "## TFID Bagging"
   ]
  },
  {
   "cell_type": "code",
   "execution_count": 30,
   "id": "53e305e7-d03a-4729-8946-d07ebfa7ec23",
   "metadata": {},
   "outputs": [
    {
     "name": "stdout",
     "output_type": "stream",
     "text": [
      "Training Accuracy: 0.9765696318084999\n",
      "Testing Accuracy: 0.717371463340432\n"
     ]
    }
   ],
   "source": [
    "pipe = Pipeline([\n",
    "    ('tf', TfidfVectorizer(stop_words = stopwords)),\n",
    "    ('bc', BaggingClassifier())\n",
    "    ])\n",
    "\n",
    "pipe.fit(X_train, y_train)\n",
    "print(f'Training Accuracy: {pipe.score(X_train, y_train)}')\n",
    "print(f'Testing Accuracy: {pipe.score(X_test, y_test)}')"
   ]
  },
  {
   "cell_type": "code",
   "execution_count": 31,
   "id": "ecce2036-fdee-4ddf-85da-dfe52f93573f",
   "metadata": {},
   "outputs": [
    {
     "name": "stdout",
     "output_type": "stream",
     "text": [
      "Specificity: 0.7972636815920398\n",
      "Type I Error: 0.20273631840796025\n"
     ]
    },
    {
     "data": {
      "image/png": "[encoded data removed]",
      "text/plain": [
       "<Figure size 432x288 with 2 Axes>"
      ]
     },
     "metadata": {
      "needs_background": "light"
     },
     "output_type": "display_data"
    }
   ],
   "source": [
    "preds = pipe.predict(X_test)\n",
    "tn, fp, fn, tp = confusion_matrix(y_test, preds).ravel()\n",
    "plot_confusion_matrix(pipe, X_test, y_test, cmap='Blues', values_format='d');\n",
    "print(f'Specificity: {(tn) / (tn + fp)}')\n",
    "print(f'Type I Error: {(1 - (tn) / (tn + fp))}')"
   ]
  },
  {
   "cell_type": "markdown",
   "id": "b400b955-d71a-4f72-ac8a-79565d05563a",
   "metadata": {},
   "source": [
    "Most classifiers fall into a testing accuracy of 70%. However, 3 models stand above the rest: CV Logistic Regression, TFID Logistic Regression, and TFID Extra Trees."
   ]
  },
  {
   "cell_type": "markdown",
   "id": "3103ab7c-09ec-46f0-b619-1abea875fea9",
   "metadata": {},
   "source": [
    "# GridSearches"
   ]
  },
  {
   "cell_type": "markdown",
   "id": "502bc511-e12d-4cf2-9653-ab60e2993da2",
   "metadata": {},
   "source": [
    "I will run all models and save comments until I see all. I am looking for models that have a higher accuracy than average."
   ]
  },
  {
   "cell_type": "code",
   "execution_count": 32,
   "id": "25808280-4ac1-499f-9c04-e83347b0c718",
   "metadata": {},
   "outputs": [
    {
     "name": "stdout",
     "output_type": "stream",
     "text": [
      "Fitting 5 folds for each of 432 candidates, totalling 2160 fits\n",
      "{'cv__max_features': None, 'cv__min_df': 1, 'lr__Cs': [1], 'lr__max_iter': 100, 'lr__penalty': 'l2'}\n",
      "Training Accuracy: 0.9759610508165129\n",
      "Testing Accuracy: 0.7617888652266505\n",
      "Cross Val: 0.7604214971035388\n"
     ]
    }
   ],
   "source": [
    "pipe = Pipeline([\n",
    "    ('cv', CountVectorizer(stop_words = stopwords)),\n",
    "    ('lr', LogisticRegressionCV(solver = 'liblinear'))\n",
    "    ])\n",
    "\n",
    "params = {   \n",
    "    'cv__max_features': [None, 100, 1000, 5000, 10000, 25000],\n",
    "    'cv__min_df': [1, 2, 3],\n",
    "    'lr__Cs': [[.1],[1],[5],[10]],\n",
    "    'lr__penalty': ['l1', 'l2'],\n",
    "    'lr__max_iter': [1, 100, 250]\n",
    "    }\n",
    "\n",
    "pipe.fit(X_train, y_train)\n",
    "pipe.score(X_train, y_train), pipe.score(X_test, y_test)\n",
    "\n",
    "pipe_cvlr = GridSearchCV(pipe,\n",
    "                         params,\n",
    "                         cv = 5,\n",
    "                         verbose = 10,\n",
    "                         n_jobs= -1 )\n",
    "\n",
    "pipe_cvlr.fit(X_train, y_train)\n",
    "\n",
    "print(pipe_cvlr.best_params_)\n",
    "print(f'Training Accuracy: {pipe_cvlr.score(X_train, y_train)}')\n",
    "print(f'Testing Accuracy: {pipe_cvlr.score(X_test, y_test)}')\n",
    "print(f'Cross Val: {pipe_cvlr.best_score_}')"
   ]
  },
  {
   "cell_type": "code",
   "execution_count": 33,
   "id": "1d852c3c-beb8-45eb-9545-05b1e6e913fa",
   "metadata": {},
   "outputs": [
    {
     "name": "stdout",
     "output_type": "stream",
     "text": [
      "Fitting 5 folds for each of 432 candidates, totalling 2160 fits\n",
      "{'lr__Cs': [1], 'lr__max_iter': 100, 'lr__penalty': 'l2', 'tf__max_features': None, 'tf__min_df': 2}\n",
      "Training Accuracy: 0.8872096561517395\n",
      "Testing Accuracy: 0.7490112564648616\n",
      "Cross Val: 0.7550455746251683\n"
     ]
    }
   ],
   "source": [
    "pipe = Pipeline([\n",
    "    ('tf', TfidfVectorizer(stop_words = stopwords)),\n",
    "    ('lr', LogisticRegressionCV(solver = 'liblinear'))\n",
    "    ])\n",
    "\n",
    "params = {\n",
    "    'tf__max_features': [None, 100, 1000, 5000, 10000, 25000],\n",
    "    'tf__min_df': [1, 2, 3],\n",
    "    'lr__Cs': [[.1],[1],[5],[10]],\n",
    "    'lr__penalty': ['l1', 'l2'],\n",
    "    'lr__max_iter': [1, 100, 250]\n",
    "    }\n",
    "\n",
    "pipe.fit(X_train, y_train)\n",
    "pipe.score(X_train, y_train), pipe.score(X_test, y_test)\n",
    "\n",
    "pipe_tflr = GridSearchCV(pipe,\n",
    "                         params,\n",
    "                         cv = 5,\n",
    "                         verbose = 1,\n",
    "                         n_jobs= -1 )\n",
    "\n",
    "pipe_tflr.fit(X_train, y_train)\n",
    "\n",
    "print(pipe_tflr.best_params_)\n",
    "print(f'Training Accuracy: {pipe_tflr.score(X_train, y_train)}')\n",
    "print(f'Testing Accuracy: {pipe_tflr.score(X_test, y_test)}')\n",
    "print(f'Cross Val: {pipe_tflr.best_score_}')"
   ]
  },
  {
   "cell_type": "code",
   "execution_count": 34,
   "id": "02ed6344-208a-403f-9e5a-14ea4f8a6988",
   "metadata": {},
   "outputs": [
    {
     "name": "stdout",
     "output_type": "stream",
     "text": [
      "Fitting 5 folds for each of 648 candidates, totalling 3240 fits\n",
      "{'et__max_depth': None, 'et__min_samples_leaf': 1, 'et__min_samples_split': 25, 'tf__max_features': 25000, 'tf__min_df': 1}\n",
      "Training Accuracy: 0.9928998884268181\n",
      "Testing Accuracy: 0.7557042896257986\n",
      "Cross Val: 0.7596101895332216\n"
     ]
    }
   ],
   "source": [
    "pipe = Pipeline([\n",
    "    ('tf', TfidfVectorizer(stop_words = stopwords)),\n",
    "    ('et', ExtraTreesClassifier())\n",
    "    ])\n",
    "\n",
    "params = {\n",
    "    'tf__max_features': [None, 5000, 10000, 25000],\n",
    "    'tf__min_df': [1, 2, 3],\n",
    "    'et__max_depth': [None, 1, 2, 3, 4, 5],\n",
    "    'et__min_samples_split': [2, 10, 25],\n",
    "    'et__min_samples_leaf': [1, 5, 10]\n",
    "    }\n",
    "\n",
    "pipe.fit(X_train, y_train)\n",
    "pipe.score(X_train, y_train), pipe.score(X_test, y_test)\n",
    "\n",
    "pipe_tfet = GridSearchCV(pipe,\n",
    "                         params,\n",
    "                         cv = 5,\n",
    "                         verbose = 1,\n",
    "                         n_jobs= -1 )\n",
    "\n",
    "pipe_tfet.fit(X_train, y_train)\n",
    "\n",
    "print(pipe_tfet.best_params_)\n",
    "print(f'Training Accuracy: {pipe_tfet.score(X_train, y_train)}')\n",
    "print(f'Testing Accuracy: {pipe_tfet.score(X_test, y_test)}')\n",
    "print(f'Cross Val: {pipe_tfet.best_score_}')"
   ]
  },
  {
   "cell_type": "markdown",
   "id": "b1c6dc4f-f36d-40de-b0c3-71af189f0421",
   "metadata": {},
   "source": [
    "The GridSearches led to slightly better fitting models, but to the detriment of testing accuracy. These models are close, but looking to specificity as a tiebreaker, the best model is:\n",
    "**CV Logistic Regression**"
   ]
  }
 ],
 "metadata": {
  "kernelspec": {
   "display_name": "Python [conda env:dsi-111]",
   "language": "python",
   "name": "conda-env-dsi-111-py"
  },
  "language_info": {
   "codemirror_mode": {
    "name": "ipython",
    "version": 3
   },
   "file_extension": ".py",
   "mimetype": "text/x-python",
   "name": "python",
   "nbconvert_exporter": "python",
   "pygments_lexer": "ipython3",
   "version": "3.8.8"
  }
 },
 "nbformat": 4,
 "nbformat_minor": 5
}
