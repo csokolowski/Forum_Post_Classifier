{
 "cells": [
  {
   "cell_type": "markdown",
   "id": "a29b14ff-c277-41cc-8627-2cd58e4df4f1",
   "metadata": {},
   "source": [
    "# Imports"
   ]
  },
  {
   "cell_type": "code",
   "execution_count": 1,
   "id": "1cf92c4d-897e-4a21-a3b8-01222d7a17ff",
   "metadata": {},
   "outputs": [],
   "source": [
    "import numpy as np\n",
    "import pandas as pd\n",
    "import seaborn as sns\n",
    "import matplotlib.pyplot as plt\n",
    "import nltk\n",
    "\n",
    "from sklearn.pipeline import Pipeline\n",
    "from sklearn.linear_model import LogisticRegressionCV\n",
    "from sklearn.tree import DecisionTreeClassifier\n",
    "from sklearn.ensemble import RandomForestClassifier, ExtraTreesClassifier, GradientBoostingClassifier, AdaBoostClassifier, BaggingClassifier\n",
    "\n",
    "from sklearn.model_selection import train_test_split, GridSearchCV\n",
    "from sklearn.feature_extraction.text import CountVectorizer, TfidfVectorizer\n",
    "\n",
    "from sklearn.metrics import confusion_matrix, plot_confusion_matrix"
   ]
  },
  {
   "cell_type": "code",
   "execution_count": 2,
   "id": "38e0b569-b023-46e9-b2e5-701d57c53a7f",
   "metadata": {},
   "outputs": [],
   "source": [
    "pd.set_option('display.max_rows', None)\n",
    "pd.set_option('display.max_columns', None)\n",
    "pd.set_option('display.max_colwidth', None)"
   ]
  },
  {
   "cell_type": "markdown",
   "id": "504cc533-6e30-4817-ac55-971371ab150c",
   "metadata": {},
   "source": [
    "# Last Dataset Check/Additions"
   ]
  },
  {
   "cell_type": "code",
   "execution_count": 3,
   "id": "826eee49-9d93-4f39-94f5-0d24dac5b7ce",
   "metadata": {},
   "outputs": [],
   "source": [
    "model = pd.read_csv('../data/combined_score.csv')"
   ]
  },
  {
   "cell_type": "code",
   "execution_count": 4,
   "id": "57a34e74-39a5-4299-9129-410f3d03509f",
   "metadata": {},
   "outputs": [
    {
     "data": {
      "text/html": [
       "<div>\n",
       "<style scoped>\n",
       "    .dataframe tbody tr th:only-of-type {\n",
       "        vertical-align: middle;\n",
       "    }\n",
       "\n",
       "    .dataframe tbody tr th {\n",
       "        vertical-align: top;\n",
       "    }\n",
       "\n",
       "    .dataframe thead th {\n",
       "        text-align: right;\n",
       "    }\n",
       "</style>\n",
       "<table border=\"1\" class=\"dataframe\">\n",
       "  <thead>\n",
       "    <tr style=\"text-align: right;\">\n",
       "      <th></th>\n",
       "      <th>title</th>\n",
       "      <th>created_utc</th>\n",
       "      <th>score</th>\n",
       "      <th>subreddit</th>\n",
       "      <th>words</th>\n",
       "    </tr>\n",
       "  </thead>\n",
       "  <tbody>\n",
       "    <tr>\n",
       "      <th>0</th>\n",
       "      <td>TIL Kidney failure means the kidney is unable to filter out waste normally and does not mean the kidney starts becoming necrotic.</td>\n",
       "      <td>1635826276</td>\n",
       "      <td>14</td>\n",
       "      <td>todayilearned</td>\n",
       "      <td>22</td>\n",
       "    </tr>\n",
       "    <tr>\n",
       "      <th>1</th>\n",
       "      <td>TIL on 1978, Egyptian Special Forces raided Larnaca Airport (Cyprus) without authorisation from Cyprus government in an attempt to intervene in a hijacking, leading to exchange of heavy gunfire with Cyprus' army and the death of 17 Egyptian commandos</td>\n",
       "      <td>1614092825</td>\n",
       "      <td>121</td>\n",
       "      <td>todayilearned</td>\n",
       "      <td>39</td>\n",
       "    </tr>\n",
       "    <tr>\n",
       "      <th>2</th>\n",
       "      <td>TIL a PhD student was invited to submit a manuscript to a dubious academic journal, so as a joke he wrote a fake paper extolling the educational value of making meth which loosely followed the plot of Breaking Bad, with Walter White and Jessie Pinkman as\" co-authors\". They actually published it.</td>\n",
       "      <td>1610759830</td>\n",
       "      <td>10</td>\n",
       "      <td>todayilearned</td>\n",
       "      <td>51</td>\n",
       "    </tr>\n",
       "    <tr>\n",
       "      <th>3</th>\n",
       "      <td>TIL every New Year's Day from 1801 to 1932 (except during Wilson's presidency) a White House reception was held in which the public lined up to shake the president's hand. The line was often several blocks long and the president was expected to shake hands with everyone.</td>\n",
       "      <td>1612388676</td>\n",
       "      <td>159</td>\n",
       "      <td>todayilearned</td>\n",
       "      <td>47</td>\n",
       "    </tr>\n",
       "    <tr>\n",
       "      <th>4</th>\n",
       "      <td>TIL that Norman Lear, creator of \"All in the Family\", originally created Archie Bunker to be disliked by audiences. He was shocked when he became a beloved character by middle America.</td>\n",
       "      <td>1614802190</td>\n",
       "      <td>230</td>\n",
       "      <td>todayilearned</td>\n",
       "      <td>31</td>\n",
       "    </tr>\n",
       "  </tbody>\n",
       "</table>\n",
       "</div>"
      ],
      "text/plain": [
       "                                                                                                                                                                                                                                                                                                      title  \\\n",
       "0                                                                                                                                                                         TIL Kidney failure means the kidney is unable to filter out waste normally and does not mean the kidney starts becoming necrotic.   \n",
       "1                                                TIL on 1978, Egyptian Special Forces raided Larnaca Airport (Cyprus) without authorisation from Cyprus government in an attempt to intervene in a hijacking, leading to exchange of heavy gunfire with Cyprus' army and the death of 17 Egyptian commandos   \n",
       "2  TIL a PhD student was invited to submit a manuscript to a dubious academic journal, so as a joke he wrote a fake paper extolling the educational value of making meth which loosely followed the plot of Breaking Bad, with Walter White and Jessie Pinkman as\" co-authors\". They actually published it.   \n",
       "3                           TIL every New Year's Day from 1801 to 1932 (except during Wilson's presidency) a White House reception was held in which the public lined up to shake the president's hand. The line was often several blocks long and the president was expected to shake hands with everyone.   \n",
       "4                                                                                                                  TIL that Norman Lear, creator of \"All in the Family\", originally created Archie Bunker to be disliked by audiences. He was shocked when he became a beloved character by middle America.   \n",
       "\n",
       "   created_utc  score      subreddit  words  \n",
       "0   1635826276     14  todayilearned     22  \n",
       "1   1614092825    121  todayilearned     39  \n",
       "2   1610759830     10  todayilearned     51  \n",
       "3   1612388676    159  todayilearned     47  \n",
       "4   1614802190    230  todayilearned     31  "
      ]
     },
     "execution_count": 4,
     "metadata": {},
     "output_type": "execute_result"
    }
   ],
   "source": [
    "model.head()"
   ]
  },
  {
   "cell_type": "code",
   "execution_count": 5,
   "id": "6ca03e63-30db-4bfd-9ca7-189e2a50bb55",
   "metadata": {},
   "outputs": [
    {
     "data": {
      "text/plain": [
       "title          0\n",
       "created_utc    0\n",
       "score          0\n",
       "subreddit      0\n",
       "words          0\n",
       "dtype: int64"
      ]
     },
     "execution_count": 5,
     "metadata": {},
     "output_type": "execute_result"
    }
   ],
   "source": [
    "model.isnull().sum()"
   ]
  },
  {
   "cell_type": "markdown",
   "id": "31890947-ede4-45be-9770-716b036d71f0",
   "metadata": {},
   "source": [
    "All looks clean"
   ]
  },
  {
   "cell_type": "markdown",
   "id": "57b877a6-f3b1-4140-9780-8c35cb7b27f9",
   "metadata": {},
   "source": [
    "### Binarizing the Subreddit Column"
   ]
  },
  {
   "cell_type": "code",
   "execution_count": 6,
   "id": "bd62fb7f-0f80-429e-b12f-527288bc7866",
   "metadata": {},
   "outputs": [],
   "source": [
    "model.subreddit = model.subreddit.str.replace('todayilearned','1')\n",
    "model.subreddit = model.subreddit.str.replace('ShittyTodayILearned','0')\n",
    "\n",
    "model['subreddit'] = model['subreddit'].astype(int)"
   ]
  },
  {
   "cell_type": "markdown",
   "id": "5f7f517f-2855-4525-bfe0-ec2b4a54046f",
   "metadata": {},
   "source": [
    "### Creating Stopwords List"
   ]
  },
  {
   "cell_type": "code",
   "execution_count": 7,
   "id": "e5c905d6-83c4-45a4-b005-042d96f5cfd0",
   "metadata": {},
   "outputs": [],
   "source": [
    "stopwords = nltk.corpus.stopwords.words('english')\n",
    "stopwords.extend(('til', 'todayilearned', 'til:', 'stil', 'shittytodayilearned', 'today', 'learned'))"
   ]
  },
  {
   "cell_type": "markdown",
   "id": "046262dc-1be4-413f-9d48-4181df9c77e0",
   "metadata": {},
   "source": [
    "These words might artificially increase accuracy, which I do not want"
   ]
  },
  {
   "cell_type": "markdown",
   "id": "1ab1c5ef-778e-4ab6-875c-49a8b40919ff",
   "metadata": {},
   "source": [
    "# Simple Models"
   ]
  },
  {
   "cell_type": "markdown",
   "id": "93cb78c5-7dec-4674-b11c-a8ca05f35fdc",
   "metadata": {},
   "source": [
    "I will run all models and save comments until I see all. I am looking for models that have a higher accuracy than average."
   ]
  },
  {
   "cell_type": "code",
   "execution_count": 8,
   "id": "8d8696be-8c2f-4718-95b9-fc010fc100bc",
   "metadata": {
    "tags": []
   },
   "outputs": [],
   "source": [
    "X = model['title']\n",
    "y = model['subreddit']\n",
    "\n",
    "X_train, X_test, y_train, y_test = train_test_split(X , y, random_state = 42)"
   ]
  },
  {
   "cell_type": "markdown",
   "id": "8a1d1b94-f475-443b-9ab8-99dbadea8b75",
   "metadata": {},
   "source": [
    "This will be used in all models"
   ]
  },
  {
   "cell_type": "markdown",
   "id": "b60addee-3114-4df4-8d09-086c25b6f6ae",
   "metadata": {},
   "source": [
    "## CV Logistic Regression"
   ]
  },
  {
   "cell_type": "code",
   "execution_count": 9,
   "id": "f94ff5c8-5a2e-42d6-a6fa-98f2449109e2",
   "metadata": {},
   "outputs": [
    {
     "name": "stdout",
     "output_type": "stream",
     "text": [
      "Training Accuracy: 1.0\n",
      "Testing Accuracy: 0.7660581473968898\n"
     ]
    }
   ],
   "source": [
    "pipe = Pipeline([\n",
    "    ('cv', CountVectorizer(stop_words = stopwords, ngram_range = (1, 2))),\n",
    "    ('lr', LogisticRegressionCV())\n",
    "    ])\n",
    "\n",
    "pipe.fit(X_train, y_train)\n",
    "print(f'Training Accuracy: {pipe.score(X_train, y_train)}')\n",
    "print(f'Testing Accuracy: {pipe.score(X_test, y_test)}')"
   ]
  },
  {
   "cell_type": "code",
   "execution_count": 10,
   "id": "e4c96e6f-26d9-4390-b9bf-095e9be2929e",
   "metadata": {},
   "outputs": [
    {
     "name": "stdout",
     "output_type": "stream",
     "text": [
      "Specificity: 0.876750700280112\n",
      "Type I Error: 0.12324929971988796\n"
     ]
    },
    {
     "data": {
      "image/png": "[encoded data removed]",
      "text/plain": [
       "<Figure size 432x288 with 2 Axes>"
      ]
     },
     "metadata": {
      "needs_background": "light"
     },
     "output_type": "display_data"
    }
   ],
   "source": [
    "preds = pipe.predict(X_test)\n",
    "tn, fp, fn, tp = confusion_matrix(y_test, preds).ravel()\n",
    "plot_confusion_matrix(pipe, X_test, y_test, cmap='Blues', values_format='d');\n",
    "print(f'Specificity: {(tn) / (tn + fp)}')\n",
    "print(f'Type I Error: {(1 - (tn) / (tn + fp))}')"
   ]
  },
  {
   "cell_type": "markdown",
   "id": "28068a74-cbb9-4a4a-b9eb-a70f96e830e7",
   "metadata": {},
   "source": [
    "## CV Decision Trees"
   ]
  },
  {
   "cell_type": "code",
   "execution_count": 11,
   "id": "9f3babff-3e9c-4c0d-a694-ac153a17bbd8",
   "metadata": {},
   "outputs": [
    {
     "name": "stdout",
     "output_type": "stream",
     "text": [
      "Training Accuracy: 1.0\n",
      "Testing Accuracy: 0.6883029073698445\n"
     ]
    }
   ],
   "source": [
    "pipe = Pipeline([\n",
    "    ('cv', CountVectorizer(stop_words = stopwords, ngram_range = (1, 2))),\n",
    "    ('dt', DecisionTreeClassifier())\n",
    "    ])\n",
    "\n",
    "pipe.fit(X_train, y_train)\n",
    "print(f'Training Accuracy: {pipe.score(X_train, y_train)}')\n",
    "print(f'Testing Accuracy: {pipe.score(X_test, y_test)}')"
   ]
  },
  {
   "cell_type": "code",
   "execution_count": 12,
   "id": "cde9a02a-c377-4fb3-860c-a5e365809ee1",
   "metadata": {},
   "outputs": [
    {
     "name": "stdout",
     "output_type": "stream",
     "text": [
      "Specificity: 0.711484593837535\n",
      "Type I Error: 0.28851540616246496\n"
     ]
    },
    {
     "data": {
      "image/png": "[encoded data removed]",
      "text/plain": [
       "<Figure size 432x288 with 2 Axes>"
      ]
     },
     "metadata": {
      "needs_background": "light"
     },
     "output_type": "display_data"
    }
   ],
   "source": [
    "preds = pipe.predict(X_test)\n",
    "tn, fp, fn, tp = confusion_matrix(y_test, preds).ravel()\n",
    "plot_confusion_matrix(pipe, X_test, y_test, cmap='Blues', values_format='d');\n",
    "print(f'Specificity: {(tn) / (tn + fp)}')\n",
    "print(f'Type I Error: {(1 - (tn) / (tn + fp))}')"
   ]
  },
  {
   "cell_type": "markdown",
   "id": "7b03f49f-4867-4a03-ada9-be845a5920e5",
   "metadata": {},
   "source": [
    "## CV Gradient Boost"
   ]
  },
  {
   "cell_type": "code",
   "execution_count": 13,
   "id": "b77d10f5-216d-4e79-b6bb-b361d20d4c2a",
   "metadata": {},
   "outputs": [
    {
     "name": "stdout",
     "output_type": "stream",
     "text": [
      "Training Accuracy: 0.7757493802118549\n",
      "Testing Accuracy: 0.6910074374577417\n"
     ]
    }
   ],
   "source": [
    "pipe = Pipeline([\n",
    "    ('cv', CountVectorizer(stop_words = stopwords, ngram_range = (1, 2))),\n",
    "    ('gb', GradientBoostingClassifier())\n",
    "    ])\n",
    "\n",
    "pipe.fit(X_train, y_train)\n",
    "print(f'Training Accuracy: {pipe.score(X_train, y_train)}')\n",
    "print(f'Testing Accuracy: {pipe.score(X_test, y_test)}')"
   ]
  },
  {
   "cell_type": "code",
   "execution_count": 14,
   "id": "066af016-c557-4f57-b898-636867328f9c",
   "metadata": {},
   "outputs": [
    {
     "name": "stdout",
     "output_type": "stream",
     "text": [
      "Specificity: 0.8207282913165266\n",
      "Type I Error: 0.17927170868347342\n"
     ]
    },
    {
     "data": {
      "image/png": "[encoded data removed]",
      "text/plain": [
       "<Figure size 432x288 with 2 Axes>"
      ]
     },
     "metadata": {
      "needs_background": "light"
     },
     "output_type": "display_data"
    }
   ],
   "source": [
    "preds = pipe.predict(X_test)\n",
    "tn, fp, fn, tp = confusion_matrix(y_test, preds).ravel()\n",
    "plot_confusion_matrix(pipe, X_test, y_test, cmap='Blues', values_format='d');\n",
    "print(f'Specificity: {(tn) / (tn + fp)}')\n",
    "print(f'Type I Error: {(1 - (tn) / (tn + fp))}')"
   ]
  },
  {
   "cell_type": "markdown",
   "id": "861f1ac0-88b7-4736-a238-3fba6e8a529c",
   "metadata": {},
   "source": [
    "## CV ADA Boost"
   ]
  },
  {
   "cell_type": "code",
   "execution_count": 15,
   "id": "bed8cfea-dc4d-4e19-a091-62fecf661b05",
   "metadata": {},
   "outputs": [
    {
     "name": "stdout",
     "output_type": "stream",
     "text": [
      "Training Accuracy: 0.7302231237322515\n",
      "Testing Accuracy: 0.6741041244083841\n"
     ]
    }
   ],
   "source": [
    "pipe = Pipeline([\n",
    "    ('cv', CountVectorizer(stop_words = stopwords, ngram_range = (1, 2))),\n",
    "    ('abc', AdaBoostClassifier())\n",
    "    ])\n",
    "\n",
    "pipe.fit(X_train, y_train)\n",
    "print(f'Training Accuracy: {pipe.score(X_train, y_train)}')\n",
    "print(f'Testing Accuracy: {pipe.score(X_test, y_test)}')"
   ]
  },
  {
   "cell_type": "code",
   "execution_count": 16,
   "id": "56f70525-0eaf-4717-9381-3ff971773feb",
   "metadata": {},
   "outputs": [
    {
     "name": "stdout",
     "output_type": "stream",
     "text": [
      "Specificity: 0.7843137254901961\n",
      "Type I Error: 0.21568627450980393\n"
     ]
    },
    {
     "data": {
      "image/png": "[encoded data removed]",
      "text/plain": [
       "<Figure size 432x288 with 2 Axes>"
      ]
     },
     "metadata": {
      "needs_background": "light"
     },
     "output_type": "display_data"
    }
   ],
   "source": [
    "preds = pipe.predict(X_test)\n",
    "tn, fp, fn, tp = confusion_matrix(y_test, preds).ravel()\n",
    "plot_confusion_matrix(pipe, X_test, y_test, cmap='Blues', values_format='d');\n",
    "print(f'Specificity: {(tn) / (tn + fp)}')\n",
    "print(f'Type I Error: {(1 - (tn) / (tn + fp))}')"
   ]
  },
  {
   "cell_type": "markdown",
   "id": "06a7e261-a341-4752-b175-d89c64db8d18",
   "metadata": {},
   "source": [
    "## CV Bagging"
   ]
  },
  {
   "cell_type": "code",
   "execution_count": 17,
   "id": "14f1855c-29d3-4007-8600-4afd186574bf",
   "metadata": {},
   "outputs": [
    {
     "name": "stdout",
     "output_type": "stream",
     "text": [
      "Training Accuracy: 0.9785891368041469\n",
      "Testing Accuracy: 0.7200811359026369\n"
     ]
    }
   ],
   "source": [
    "pipe = Pipeline([\n",
    "    ('cv', CountVectorizer(stop_words = stopwords, ngram_range = (1, 2))),\n",
    "    ('bc', BaggingClassifier())\n",
    "    ])\n",
    "\n",
    "pipe.fit(X_train, y_train)\n",
    "print(f'Training Accuracy: {pipe.score(X_train, y_train)}')\n",
    "print(f'Testing Accuracy: {pipe.score(X_test, y_test)}')"
   ]
  },
  {
   "cell_type": "code",
   "execution_count": 18,
   "id": "7d2d80cf-e74f-4e8d-bfc7-8fba74e2b945",
   "metadata": {},
   "outputs": [
    {
     "name": "stdout",
     "output_type": "stream",
     "text": [
      "Specificity: 0.7661064425770309\n",
      "Type I Error: 0.23389355742296913\n"
     ]
    },
    {
     "data": {
      "image/png": "[encoded data removed]",
      "text/plain": [
       "<Figure size 432x288 with 2 Axes>"
      ]
     },
     "metadata": {
      "needs_background": "light"
     },
     "output_type": "display_data"
    }
   ],
   "source": [
    "preds = pipe.predict(X_test)\n",
    "tn, fp, fn, tp = confusion_matrix(y_test, preds).ravel()\n",
    "plot_confusion_matrix(pipe, X_test, y_test, cmap='Blues', values_format='d');\n",
    "print(f'Specificity: {(tn) / (tn + fp)}')\n",
    "print(f'Type I Error: {(1 - (tn) / (tn + fp))}')"
   ]
  },
  {
   "cell_type": "markdown",
   "id": "c59f79d1-3a63-473b-b4b9-c683349dadea",
   "metadata": {},
   "source": [
    "## TFID Logistic Regression"
   ]
  },
  {
   "cell_type": "code",
   "execution_count": 19,
   "id": "64ee0b77-dafd-4f64-8533-de7db11ad1ff",
   "metadata": {},
   "outputs": [
    {
     "name": "stdout",
     "output_type": "stream",
     "text": [
      "Training Accuracy: 0.9808429118773946\n",
      "Testing Accuracy: 0.7606490872210954\n"
     ]
    }
   ],
   "source": [
    "pipe = Pipeline([\n",
    "    ('tf', TfidfVectorizer(stop_words = stopwords)),\n",
    "    ('lr', LogisticRegressionCV(solver = 'liblinear'))\n",
    "    ])\n",
    "\n",
    "pipe.fit(X_train, y_train)\n",
    "print(f'Training Accuracy: {pipe.score(X_train, y_train)}')\n",
    "print(f'Testing Accuracy: {pipe.score(X_test, y_test)}')"
   ]
  },
  {
   "cell_type": "code",
   "execution_count": 20,
   "id": "6b7d9005-7187-4217-a995-e1d81f4c294e",
   "metadata": {},
   "outputs": [
    {
     "name": "stdout",
     "output_type": "stream",
     "text": [
      "Specificity: 0.742296918767507\n",
      "Type I Error: 0.25770308123249297\n"
     ]
    },
    {
     "data": {
      "image/png": "[encoded data removed]",
      "text/plain": [
       "<Figure size 432x288 with 2 Axes>"
      ]
     },
     "metadata": {
      "needs_background": "light"
     },
     "output_type": "display_data"
    }
   ],
   "source": [
    "preds = pipe.predict(X_test)\n",
    "tn, fp, fn, tp = confusion_matrix(y_test, preds).ravel()\n",
    "plot_confusion_matrix(pipe, X_test, y_test, cmap='Blues', values_format='d');\n",
    "print(f'Specificity: {(tn) / (tn + fp)}')\n",
    "print(f'Type I Error: {(1 - (tn) / (tn + fp))}')"
   ]
  },
  {
   "cell_type": "markdown",
   "id": "c43e6f2a-0b29-48d4-b0d1-f1ebbc874e47",
   "metadata": {},
   "source": [
    "## TFID Decision Trees"
   ]
  },
  {
   "cell_type": "code",
   "execution_count": 21,
   "id": "71892edc-ef06-40b3-96bc-64032655e2ec",
   "metadata": {},
   "outputs": [
    {
     "name": "stdout",
     "output_type": "stream",
     "text": [
      "Training Accuracy: 1.0\n",
      "Testing Accuracy: 0.7106152805949966\n"
     ]
    }
   ],
   "source": [
    "pipe = Pipeline([\n",
    "    ('tf', TfidfVectorizer(stop_words = stopwords)),\n",
    "    ('dt', DecisionTreeClassifier())\n",
    "    ])\n",
    "\n",
    "pipe.fit(X_train, y_train)\n",
    "print(f'Training Accuracy: {pipe.score(X_train, y_train)}')\n",
    "print(f'Testing Accuracy: {pipe.score(X_test, y_test)}')"
   ]
  },
  {
   "cell_type": "code",
   "execution_count": 22,
   "id": "89f91dc4-e3d4-44f2-9a9a-64ac4723049e",
   "metadata": {},
   "outputs": [
    {
     "name": "stdout",
     "output_type": "stream",
     "text": [
      "Specificity: 0.8207282913165266\n",
      "Type I Error: 0.17927170868347342\n"
     ]
    },
    {
     "data": {
      "image/png": "[encoded data removed]",
      "text/plain": [
       "<Figure size 432x288 with 2 Axes>"
      ]
     },
     "metadata": {
      "needs_background": "light"
     },
     "output_type": "display_data"
    }
   ],
   "source": [
    "preds = pipe.predict(X_test)\n",
    "tn, fp, fn, tp = confusion_matrix(y_test, preds).ravel()\n",
    "plot_confusion_matrix(pipe, X_test, y_test, cmap='Blues', values_format='d');\n",
    "print(f'Specificity: {(tn) / (tn + fp)}')\n",
    "print(f'Type I Error: {(1 - (tn) / (tn + fp))}')"
   ]
  },
  {
   "cell_type": "markdown",
   "id": "c44e8634-d163-4cf5-a8e9-70a331c381ec",
   "metadata": {},
   "source": [
    "## TFID Random Forest"
   ]
  },
  {
   "cell_type": "code",
   "execution_count": 23,
   "id": "f2b820f3-d8d1-4d38-8b92-ec385a9241be",
   "metadata": {},
   "outputs": [
    {
     "name": "stdout",
     "output_type": "stream",
     "text": [
      "Training Accuracy: 1.0\n",
      "Testing Accuracy: 0.7052062204192021\n"
     ]
    }
   ],
   "source": [
    "pipe_rf1 = Pipeline([\n",
    "    ('tf', TfidfVectorizer(stop_words = stopwords)),\n",
    "    ('rf', RandomForestClassifier())\n",
    "    ])\n",
    "\n",
    "pipe.fit(X_train, y_train)\n",
    "print(f'Training Accuracy: {pipe.score(X_train, y_train)}')\n",
    "print(f'Testing Accuracy: {pipe.score(X_test, y_test)}')"
   ]
  },
  {
   "cell_type": "code",
   "execution_count": 24,
   "id": "b4914f77-fe59-42b6-9141-816d04d255e5",
   "metadata": {},
   "outputs": [
    {
     "name": "stdout",
     "output_type": "stream",
     "text": [
      "Specificity: 0.819327731092437\n",
      "Type I Error: 0.18067226890756305\n"
     ]
    },
    {
     "data": {
      "image/png": "[encoded data removed]",
      "text/plain": [
       "<Figure size 432x288 with 2 Axes>"
      ]
     },
     "metadata": {
      "needs_background": "light"
     },
     "output_type": "display_data"
    }
   ],
   "source": [
    "preds = pipe.predict(X_test)\n",
    "tn, fp, fn, tp = confusion_matrix(y_test, preds).ravel()\n",
    "plot_confusion_matrix(pipe, X_test, y_test, cmap='Blues', values_format='d');\n",
    "print(f'Specificity: {(tn) / (tn + fp)}')\n",
    "print(f'Type I Error: {(1 - (tn) / (tn + fp))}')"
   ]
  },
  {
   "cell_type": "markdown",
   "id": "002edf10-04db-4c84-adba-f4a7f5c23f80",
   "metadata": {},
   "source": [
    "## TFID Extra Trees"
   ]
  },
  {
   "cell_type": "code",
   "execution_count": 25,
   "id": "4f72bb8d-9a97-4794-80d6-52b547b56e29",
   "metadata": {},
   "outputs": [
    {
     "name": "stdout",
     "output_type": "stream",
     "text": [
      "Training Accuracy: 1.0\n",
      "Testing Accuracy: 0.7457741717376606\n"
     ]
    }
   ],
   "source": [
    "pipe = Pipeline([\n",
    "    ('tf', TfidfVectorizer(stop_words = stopwords)),\n",
    "    ('et', ExtraTreesClassifier())\n",
    "    ])\n",
    "\n",
    "pipe.fit(X_train, y_train)\n",
    "print(f'Training Accuracy: {pipe.score(X_train, y_train)}')\n",
    "print(f'Testing Accuracy: {pipe.score(X_test, y_test)}')"
   ]
  },
  {
   "cell_type": "code",
   "execution_count": 26,
   "id": "e0ef193d-0be3-4274-b18c-9ab13942fbab",
   "metadata": {},
   "outputs": [
    {
     "name": "stdout",
     "output_type": "stream",
     "text": [
      "Specificity: 0.8781512605042017\n",
      "Type I Error: 0.12184873949579833\n",
      "Precision: 0.8454706927175843\n",
      "Recall: 0.6222222222222222\n"
     ]
    },
    {
     "data": {
      "image/png": "[encoded data removed]",
      "text/plain": [
       "<Figure size 432x288 with 2 Axes>"
      ]
     },
     "metadata": {
      "needs_background": "light"
     },
     "output_type": "display_data"
    }
   ],
   "source": [
    "preds = pipe.predict(X_test)\n",
    "tn, fp, fn, tp = confusion_matrix(y_test, preds).ravel()\n",
    "plot_confusion_matrix(pipe, X_test, y_test, cmap='Blues', values_format='d');\n",
    "print(f'Specificity: {(tn) / (tn + fp)}')\n",
    "print(f'Type I Error: {(1 - (tn) / (tn + fp))}')\n",
    "print(f'Precision: {(tp) / (tp + fp)}')\n",
    "print(f'Recall: {(tp) / (tp + fn)}')\n",
    "plt.savefig('../images/tfet_matrix.png')"
   ]
  },
  {
   "cell_type": "markdown",
   "id": "e44c33a5-dd8b-4ed2-9aba-ec72eae2d9fd",
   "metadata": {},
   "source": [
    "## TFID Gradient Boost"
   ]
  },
  {
   "cell_type": "code",
   "execution_count": 27,
   "id": "0b5497a8-1ea5-4ae2-9b32-e459a2b03309",
   "metadata": {},
   "outputs": [
    {
     "name": "stdout",
     "output_type": "stream",
     "text": [
      "Training Accuracy: 0.8005409060175794\n",
      "Testing Accuracy: 0.7139959432048681\n"
     ]
    }
   ],
   "source": [
    "pipe = Pipeline([\n",
    "    ('tf', TfidfVectorizer(stop_words = stopwords)),\n",
    "    ('gb', GradientBoostingClassifier())\n",
    "    ])\n",
    "\n",
    "pipe.fit(X_train, y_train)\n",
    "print(f'Training Accuracy: {pipe.score(X_train, y_train)}')\n",
    "print(f'Testing Accuracy: {pipe.score(X_test, y_test)}')"
   ]
  },
  {
   "cell_type": "code",
   "execution_count": 28,
   "id": "3356a201-d087-4e59-9f03-27d5939d6ac7",
   "metadata": {},
   "outputs": [
    {
     "name": "stdout",
     "output_type": "stream",
     "text": [
      "Specificity: 0.8683473389355743\n",
      "Type I Error: 0.13165266106442575\n"
     ]
    },
    {
     "data": {
      "image/png": "[encoded data removed]",
      "text/plain": [
       "<Figure size 432x288 with 2 Axes>"
      ]
     },
     "metadata": {
      "needs_background": "light"
     },
     "output_type": "display_data"
    }
   ],
   "source": [
    "preds = pipe.predict(X_test)\n",
    "tn, fp, fn, tp = confusion_matrix(y_test, preds).ravel()\n",
    "plot_confusion_matrix(pipe, X_test, y_test, cmap='Blues', values_format='d');\n",
    "print(f'Specificity: {(tn) / (tn + fp)}')\n",
    "print(f'Type I Error: {(1 - (tn) / (tn + fp))}')"
   ]
  },
  {
   "cell_type": "markdown",
   "id": "390972c2-d871-42e6-a50e-f536d5047afc",
   "metadata": {},
   "source": [
    "## TFID ADA Boost"
   ]
  },
  {
   "cell_type": "code",
   "execution_count": 29,
   "id": "c5e11aab-6103-4cc2-9ebe-0cd3958ba382",
   "metadata": {},
   "outputs": [
    {
     "name": "stdout",
     "output_type": "stream",
     "text": [
      "Training Accuracy: 0.7257155735857561\n",
      "Testing Accuracy: 0.6605814739688979\n"
     ]
    }
   ],
   "source": [
    "pipe = Pipeline([\n",
    "    ('tf', TfidfVectorizer(stop_words = stopwords)),\n",
    "    ('abc', AdaBoostClassifier())\n",
    "    ])\n",
    "\n",
    "pipe.fit(X_train, y_train)\n",
    "print(f'Training Accuracy: {pipe.score(X_train, y_train)}')\n",
    "print(f'Testing Accuracy: {pipe.score(X_test, y_test)}')"
   ]
  },
  {
   "cell_type": "code",
   "execution_count": 30,
   "id": "ec302b20-8d9e-428f-8495-ca250daf21fb",
   "metadata": {},
   "outputs": [
    {
     "name": "stdout",
     "output_type": "stream",
     "text": [
      "Specificity: 0.8543417366946778\n",
      "Type I Error: 0.14565826330532217\n"
     ]
    },
    {
     "data": {
      "image/png": "[encoded data removed]",
      "text/plain": [
       "<Figure size 432x288 with 2 Axes>"
      ]
     },
     "metadata": {
      "needs_background": "light"
     },
     "output_type": "display_data"
    }
   ],
   "source": [
    "preds = pipe.predict(X_test)\n",
    "tn, fp, fn, tp = confusion_matrix(y_test, preds).ravel()\n",
    "plot_confusion_matrix(pipe, X_test, y_test, cmap='Blues', values_format='d');\n",
    "print(f'Specificity: {(tn) / (tn + fp)}')\n",
    "print(f'Type I Error: {(1 - (tn) / (tn + fp))}')"
   ]
  },
  {
   "cell_type": "markdown",
   "id": "bcce71ef-f328-49fe-b52f-8866bd35614c",
   "metadata": {},
   "source": [
    "## TF Bagging"
   ]
  },
  {
   "cell_type": "code",
   "execution_count": 31,
   "id": "53e305e7-d03a-4729-8946-d07ebfa7ec23",
   "metadata": {},
   "outputs": [
    {
     "name": "stdout",
     "output_type": "stream",
     "text": [
      "Training Accuracy: 0.9821951769213433\n",
      "Testing Accuracy: 0.7302231237322515\n"
     ]
    }
   ],
   "source": [
    "pipe = Pipeline([\n",
    "    ('tf', TfidfVectorizer(stop_words = stopwords)),\n",
    "    ('bc', BaggingClassifier())\n",
    "    ])\n",
    "\n",
    "pipe.fit(X_train, y_train)\n",
    "print(f'Training Accuracy: {pipe.score(X_train, y_train)}')\n",
    "print(f'Testing Accuracy: {pipe.score(X_test, y_test)}')"
   ]
  },
  {
   "cell_type": "code",
   "execution_count": 32,
   "id": "197a44ff-0d82-4624-83f4-1d32f3b03226",
   "metadata": {},
   "outputs": [
    {
     "name": "stdout",
     "output_type": "stream",
     "text": [
      "Specificity: 0.8669467787114846\n",
      "Type I Error: 0.13305322128851538\n"
     ]
    },
    {
     "data": {
      "image/png": "[encoded data removed]",
      "text/plain": [
       "<Figure size 432x288 with 2 Axes>"
      ]
     },
     "metadata": {
      "needs_background": "light"
     },
     "output_type": "display_data"
    }
   ],
   "source": [
    "preds = pipe.predict(X_test)\n",
    "tn, fp, fn, tp = confusion_matrix(y_test, preds).ravel()\n",
    "plot_confusion_matrix(pipe, X_test, y_test, cmap='Blues', values_format='d');\n",
    "print(f'Specificity: {(tn) / (tn + fp)}')\n",
    "print(f'Type I Error: {(1 - (tn) / (tn + fp))}')"
   ]
  },
  {
   "cell_type": "markdown",
   "id": "ad027cc7-3af2-46bc-8ddc-d41a48e47520",
   "metadata": {},
   "source": [
    "Again, most classifiers fall into a testing accuracy of 70%. Similarly, the same 3 models stand above the rest: CV Logistic Regression, TFID Logistic Regression, and TFID Extra Trees."
   ]
  },
  {
   "cell_type": "markdown",
   "id": "eae1a3b3-3f7f-4ce4-97f0-0ddd5c2697cf",
   "metadata": {},
   "source": [
    "# GridSearches"
   ]
  },
  {
   "cell_type": "markdown",
   "id": "304ed627-af0e-4b4e-ae89-d077c193eac1",
   "metadata": {},
   "source": [
    "I will run all models and save comments until I see all. I am looking for models that have a higher accuracy than average."
   ]
  },
  {
   "cell_type": "code",
   "execution_count": 33,
   "id": "25808280-4ac1-499f-9c04-e83347b0c718",
   "metadata": {},
   "outputs": [
    {
     "name": "stdout",
     "output_type": "stream",
     "text": [
      "Fitting 5 folds for each of 432 candidates, totalling 2160 fits\n",
      "{'cv__max_features': None, 'cv__min_df': 2, 'lr__Cs': [1], 'lr__max_iter': 100, 'lr__penalty': 'l2'}\n",
      "Training Accuracy: 0.9846743295019157\n",
      "Testing Accuracy: 0.77079107505071\n",
      "Cross Val: 0.7924243578414943\n"
     ]
    }
   ],
   "source": [
    "pipe = Pipeline([\n",
    "    ('cv', CountVectorizer(stop_words = stopwords)),\n",
    "    ('lr', LogisticRegressionCV(solver = 'liblinear'))\n",
    "    ])\n",
    "\n",
    "params = { \n",
    "    'cv__max_features': [None, 100, 1000, 5000, 10000, 25000],\n",
    "    'cv__min_df': [1, 2, 3],\n",
    "    'lr__Cs': [[.1],[1],[5],[10]],\n",
    "    'lr__penalty': ['l1', 'l2'],\n",
    "    'lr__max_iter': [1, 100, 250]\n",
    "    }\n",
    "\n",
    "pipe.fit(X_train, y_train)\n",
    "pipe.score(X_train, y_train), pipe.score(X_test, y_test)\n",
    "\n",
    "pipe_cvlr = GridSearchCV(pipe,\n",
    "                         params,\n",
    "                         cv = 5,\n",
    "                         verbose = 1,\n",
    "                         n_jobs= -1 )\n",
    "\n",
    "pipe_cvlr.fit(X_train, y_train)\n",
    "\n",
    "print(pipe_cvlr.best_params_)\n",
    "print(f'Training Accuracy: {pipe_cvlr.score(X_train, y_train)}')\n",
    "print(f'Testing Accuracy: {pipe_cvlr.score(X_test, y_test)}')\n",
    "print(f'Cross Val: {pipe_cvlr.best_score_}')"
   ]
  },
  {
   "cell_type": "code",
   "execution_count": 34,
   "id": "1d852c3c-beb8-45eb-9545-05b1e6e913fa",
   "metadata": {},
   "outputs": [
    {
     "name": "stdout",
     "output_type": "stream",
     "text": [
      "Fitting 5 folds for each of 288 candidates, totalling 1440 fits\n",
      "{'lr__Cs': [1], 'lr__max_iter': 100, 'lr__penalty': 'l2', 'tf__max_features': None, 'tf__min_df': 3}\n",
      "Training Accuracy: 0.9188640973630832\n",
      "Testing Accuracy: 0.7626774847870182\n",
      "Cross Val: 0.774852219750754\n"
     ]
    }
   ],
   "source": [
    "pipe = Pipeline([\n",
    "    ('tf', TfidfVectorizer(stop_words = stopwords)),\n",
    "    ('lr', LogisticRegressionCV(solver = 'liblinear'))\n",
    "    ])\n",
    "\n",
    "params = {\n",
    "    'tf__max_features': [None, 5000, 10000, 25000],\n",
    "    'tf__min_df': [1, 2, 3],\n",
    "    'lr__Cs': [[.1],[1],[5],[10]],\n",
    "    'lr__penalty': ['l1', 'l2'],\n",
    "    'lr__max_iter': [1, 100, 250]\n",
    "    }\n",
    "\n",
    "pipe.fit(X_train, y_train)\n",
    "pipe.score(X_train, y_train), pipe.score(X_test, y_test)\n",
    "\n",
    "pipe_tflr = GridSearchCV(pipe,\n",
    "                         params,\n",
    "                         cv = 5,\n",
    "                         verbose = 1,\n",
    "                         n_jobs= -1 )\n",
    "\n",
    "pipe_tflr.fit(X_train, y_train)\n",
    "\n",
    "print(pipe_tflr.best_params_)\n",
    "print(f'Training Accuracy: {pipe_tflr.score(X_train, y_train)}')\n",
    "print(f'Testing Accuracy: {pipe_tflr.score(X_test, y_test)}')\n",
    "print(f'Cross Val: {pipe_tflr.best_score_}')"
   ]
  },
  {
   "cell_type": "code",
   "execution_count": 35,
   "id": "02ed6344-208a-403f-9e5a-14ea4f8a6988",
   "metadata": {},
   "outputs": [
    {
     "name": "stdout",
     "output_type": "stream",
     "text": [
      "Fitting 5 folds for each of 648 candidates, totalling 3240 fits\n",
      "{'et__max_depth': None, 'et__min_samples_leaf': 1, 'et__min_samples_split': 10, 'tf__max_features': 25000, 'tf__min_df': 1}\n",
      "Training Accuracy: 0.9995492449853505\n",
      "Testing Accuracy: 0.7822853279242732\n",
      "Cross Val: 0.7937757091928456\n"
     ]
    }
   ],
   "source": [
    "pipe = Pipeline([\n",
    "    ('tf', TfidfVectorizer(stop_words = stopwords)),\n",
    "    ('et', ExtraTreesClassifier())\n",
    "    ])\n",
    "\n",
    "params = {\n",
    "    'tf__max_features': [None, 5000, 10000, 25000],\n",
    "    'tf__min_df': [1, 2, 3],\n",
    "    'et__max_depth': [None, 1, 2, 3, 4, 5],\n",
    "    'et__min_samples_split': [2, 10, 25],\n",
    "    'et__min_samples_leaf': [1, 5, 10]\n",
    "    }\n",
    "\n",
    "pipe.fit(X_train, y_train)\n",
    "pipe.score(X_train, y_train), pipe.score(X_test, y_test)\n",
    "\n",
    "pipe_tfet = GridSearchCV(pipe,\n",
    "                         params,\n",
    "                         cv = 5,\n",
    "                         verbose = 1,\n",
    "                         n_jobs= -1 )\n",
    "\n",
    "pipe_tfet.fit(X_train, y_train)\n",
    "\n",
    "print(pipe_tfet.best_params_)\n",
    "print(f'Training Accuracy: {pipe_tfet.score(X_train, y_train)}')\n",
    "print(f'Testing Accuracy: {pipe_tfet.score(X_test, y_test)}')\n",
    "print(f'Cross Val: {pipe_tfet.best_score_}')"
   ]
  },
  {
   "cell_type": "markdown",
   "id": "fbb4aa77-4122-4d65-80ac-f8377161a0fb",
   "metadata": {},
   "source": [
    "These GridSearches lead to much better fitting models compared to Method One. Additionally, all testing accuracy increased as well. These models are close one again, but looking to specificity as a tiebreaker, the best model is:\n",
    "**TFID Extra Trees**"
   ]
  },
  {
   "cell_type": "markdown",
   "id": "7dc0872a-a134-4bae-ba64-38ea45d1ecb0",
   "metadata": {},
   "source": [
    "# Returning String Values of TP, TN, FP, FN"
   ]
  },
  {
   "cell_type": "markdown",
   "id": "6593a24c-1765-442f-8802-dfa176344a47",
   "metadata": {},
   "source": [
    "I want to give examples of posts where my best model succeeded and where it failed"
   ]
  },
  {
   "cell_type": "code",
   "execution_count": 36,
   "id": "0c45fcba-2d61-4d89-9998-96ce0bab9d93",
   "metadata": {
    "scrolled": true,
    "tags": []
   },
   "outputs": [
    {
     "data": {
      "text/plain": [
       "3240                                                                                                                                                                               TIL that Pegi 12 is not the studio that makes all my favorite games from the UK, but a rating system for European videogames\n",
       "3370                                                                                                                       TIL stunning trout for 60 seconds in an electric field of 250 V/m r.m.s. with a sinusoidal waveform of 1,000 Hz renders them permanently unconscious without degrading meat quality.\n",
       "5459                                                                                                                                                                                                                    TIL The \"Blue screen of death\" is not the same as \" the light at the end of the tunnel\"\n",
       "4094                                                                                                                                                                                                    TIL evolution is just a theory, like gravity or implied consent when you want to grab a woman's vagina.\n",
       "4058                                                                   TIL 10,000 years ago, Mr Skeltal and his skeleton army waged a month-long battle in October against an army of fuccbois. The end of the battle was on October 31st, and we now celebrate the end of the Great Skeleton War as Halloween.\n",
       "3113                                                          TIL that the ten commandments superseded Hammurabi's code as the supreme law of the country Europe in 1457 when the Prussian king Leonodis and his Sumerian allies defeated the Aztec pharaoh Attila the Hun of the Ming Dynasty in South Africa.\n",
       "5465                                                                                                                                                                                                                                                TIL guinea pigs are not pigs, nor are they Italian-American\n",
       "3717                                                                                                                                      TIL that in order to achieve the falsetto sound on their disco hit Stayin' Alive, the Bee Gees kicked each other in the balls as hard as they could before recording.\n",
       "4692                                                                                                          TIL if Bill Gates dropped $100, a banker would give him the $100 plus a $10 incentive for any future cash droppings, then the government would give the banker a $100 bailout on the missing $10.\n",
       "3692                                                                                                                                                                                        STIL 'Pap smears' only became widely accepted by women after the marketing team updated the name from 'Cunt Scrape'\n",
       "5066                                                                                                            TIL Snow has no market value due to the logistical issues with shipping it, especially to places near the equator. I just wish I had known that before I ended up with 3 feet of it in my yard.\n",
       "3680               TIL Keanu Reeves once stated, that after years of tests and data collection, he had created a plan to end world hunger. When questioned by world leaders and press, he said he didn't have the details anymore because he ate his datasheets. He got really hungry while he was researching.\n",
       "3859                                                                                                                                                                                        TIL that historians and archaeologists believe that the earliest urinals were little more than rocks on the ground.\n",
       "3253                                                                                TIL of LeBron James, a black guy who was sold to Nike for a record setting one billion dollars in February. His new owners expect to recoup this cost in 1-3 years through the sale of his semen. (beefcurtains.com/manage)\n",
       "3834                                                                                                                                                                                                                                                       TIL when you put water in the sea it becomes the sea\n",
       "5458                                                                                                                                                                                          TIL having your five year old son pick you up drunk from the bar in his Power Wheels is considered bad parenting.\n",
       "4638                                                                                                                                                                                                               TIL the largest snake ever caught, a South American green anaconda, was over 12 inches long.\n",
       "3441                                         TIL: The log ride was invented in 1963 by Pynchonov A. Logge to simulate human waste's journey through sewer pipes. Over 250,000 people now ride a turd every year at amusement parks across the US, with hands in the air as if to celebrate they're now regular.\n",
       "3333                                                                                                                                                       TIL the movie Dumb and Dumber was created by a time traveling filmmaker for the sole purpose of converting into reaction gifs over two decades later\n",
       "4010                                                                                                                                                                                                                     In a band, a bass player plays a type of guitar, not a big fish with strings attached.\n",
       "3499                                                                                                                                                                                                          Analingus was used as a punishment in the 17th century and is still used today in prison as such.\n",
       "5042                                                                                                                                                                                                                                TIL The metric system is called \"metric\" because imperial was already taken\n",
       "4589                                                                                                                                                                                                                                            TIL Simo Häyhä aka \"White Death\" was first 360 no scope killer.\n",
       "3405                                                                                                                     TIL that Tony the Tiger's famous slogan \"They're grrrrreat!\" only came to fruition after the rejection of their first slogan, \"Wham Kapow! Take that you Commie-Jew sons a' bitches!!\"\n",
       "3035                        TIL: McDonald's opened a pop-up store on top of Mount Everest in 2014 offering Big Macs for sale. None were sold and the Sherpa guides destroyed the store in anger because McDonald's overlooked the fact that Nepal is a Hindu country where cows are sacred and not to be eaten.\n",
       "3044                                                                                                                                                                                                Between 1969 and 1978, all British rock bands were required by law to have at least one member named 'Mik.'\n",
       "3944                                                                                                                                                                                               TIL if a cab has a license plate with the words 'Fresh' on it and have dice in the mirror, that cab is rare.\n",
       "4313                                                                                                                                                             TIL that if you were traveling during the \"Brexit\", you could be subject to living in airport terminals due to your home not existing anymore.\n",
       "3196              TIL After WWII, the U.K. felt bad about how hard they beat the Nazis once the U.S. joined in, so to even things out, they found out Alan Turing, their maths genius whose codebreaking was U.K.'s single biggest war-effort contribution, was gay, then they made him kill himself over it! 😳\n",
       "4307                                                                                                                                                                                                     At the time Led Zeppelin wrote \"Been a Long Time\" the band had actually been rocking quite frequently.\n",
       "3187                                                                                                                                                                                                                                                                TIL Jews were the Mexicans of Ancient Egypt\n",
       "5900                                                                                                                                                                                        TILObama could resurrect Whitney Houston if he was given permission to practice his ancient Kenyan medicine dance..\n",
       "3679                                                                                                                          TIL if Ivana Trump divorced Donald and then married and divorced Sean Bean, King Oscar of Norway, John Mayer, and Anthony Weiner, her name would be Ivana Bean Oscar Mayer Weiner\n",
       "4377                                                                                                                                                                                                                                  TIL Del Monte, the famous banana company, means \"Of the Monte\" in Spanish\n",
       "5167                                      TIL: Thanksgiving was originally called Tanks-killing. It was a festival where family conflicts were resolved via ritual combat and the weakest was sacrificed and eaten. This tradition continues today as a celebration of greed, gluttony and psychological abuse.\n",
       "3718                            TIL: In 1996 Congress passed a law criminalizing retrospective copyright infringement. As a result Disney sued the estate of William Shakespeare for similarities his play Hamlet to the movie The Lion King. Disney won and now owns copyright for all of Shakespeare's plays.\n",
       "3090                                                                        TIL that domestic hamsters have been specially bred for docility. Wild hamsters are carnivores that hunt in packs, swarming their prey in groups of up to several hundred and stripping off flesh similar to army ants or piranhas.\n",
       "3793                                                                                                                                              TIL that the fictional animal known as the \"kangaroo\" is part of an ancient Aboriginal legend about a creature that steals babies and puts them in its pouch.\n",
       "5210                                                                                                                                                                                                                TIL that Bill Gates has a black son. (But it's a secret from the media and general public.)\n",
       "3265                                                                                                               TIL there's a 15 pound wheel of Emmenthaler cheese in the lost and found in the Venice Canals Greyound terminal, worth anywhere between $150 to $275. Please pick that shit up. It's summer.\n",
       "3560                                                                                                                                                                                                                                                         TIL China borders a bunch of non-Chinese countries\n",
       "4008                                                                       TIL: The story of Game Of Thrones, was conceived by author George R. R. Martin whilst listening the 60s folk hit Puff The Magic Dragon during a bad LSD trip. Infact plot hints to the story can be found in the lyrics of the song.\n",
       "3509                                                                                                                                                                             TIL that Jimi Hendrix has a reputation as one of the laziest musicians in the industry, having not played a concert since 1970\n",
       "4549                                                                                                                                               TIL Japanese for Osaka is 大阪市, which means 大 representing man, 阪 for fish being hung in a clothes closet to dry, and 市 for an angry dude who wants to fight.\n",
       "4866                                                                                                                                                                                                                                        TIL That when a problem comes along you must whip it. Whip it good.\n",
       "3340                                                                                                                                                                                        TIL tarter build up in the teeth and gums is a source due mainly to your body producing sauce in the tarter glands.\n",
       "4679                                                                                                                                    TIL Dumbo's full name is Dumbo Goldstein. He suffered significant racial prejudice during college related to his large nose, and was denied entry in to the pachy-dorm.\n",
       "3732                TIL United flight 5135 had to undergo an onboard birth mid flight. After the delivery, the captain immediately detained the newborn for not having a boarding pass or social security number. After extensive inspection by the TSA, security likely released the infant back to her mother\n",
       "3764                                                                                                                               TIL of Ping and Pang, two Siamese twins who were eventually separated, then later reattached due to loneliness, only to find out that were never even related to begin with.\n",
       "4631                                                                                                                                                                                       TIL Joan of Arc privately believed that her own butthole was her twin sister, whom she referred to as \"Joan of Fart\"\n",
       "4416                                                                                                                                                                                                                    TIL that if you laid the world's population along the equator, most of them would drown\n",
       "5833                                                                                                                                                               TIL The Windows Operating system is apparently named after some weird rectangular device, supposedly used to view something called \"outside\"\n",
       "5137                                                                                                                                                                                                                           TIL North Korea is the world's largest importer of plastic fruit and vegetables.\n",
       "5704                                                                                                                                                                                                                                              TIL Ozzy Osbourne had a music career before he started acting\n",
       "4943                                                                                                                                                                                           TIL In 1979 Frank Zappa wrote a song \"Why Does It Hurt When I Pee\". In 1993 Frank Zappa died of prostate cancer.\n",
       "4755                                                                                                                                                   TIL four out of five doctors recommend gum for their patients who chew gum, but only two out of five recommend gum for their patients who don't chew gum\n",
       "4796                                                                                                                                                                                                                                A woman stops loving you once she stops giving blowjobs without you asking.\n",
       "4665                                                                                                                                       TIL the term 'Cray cray' originated from the Cray Supercomputer Company, since supercomputers are known to often go insane, as documented in '2001: A Space Oddysey'\n",
       "5698                                                                                                                                                                               TIL that chocolate is naturally green, and manufacturers give it its characteristic brown color by mixing it with raw sewage\n",
       "3308    TIL that the SARS (Severe Acute Respiratory Syndrome) virus is so infectious that one man in Hong Kong infected 183 people in 8 appartment buildings with one horriffic bowel movement, causing a plume of aerosolised faeces to circulate through the ventilation and outside on the wind. [crosspost]\n",
       "3842                                                                                                                                                                                                           TIL that Uranium is this thing called nuclear weapons and other things including some bad things\n",
       "3758                                                                                                                                                                                 TIL Space shuttle Atlantis didn't land on the lost city of Atlantis, and is a retired spacecraft because it didn't find it\n",
       "3167                                                                                                                                                                                   TIL: Despite the name, \"Fat Man\" was not an obese, radioactive American that was thrown out of a B-52 bomber over Japan.\n",
       "3578                                                                                                                                                                                                  TIL An elephant was used by German soldiers to move heavy logs near the Western Front of World War I, 191\n",
       "3947                                                                                                                                                                                                                        TIL that a woman with a yeast infection isn't always from having a bun in the oven.\n",
       "3641                                                                                                                                                                                        TIL by 2030 the number of self-driving taxis will outnumber the total amount of cars ever produced in human history\n",
       "3742                                                                     TIL: A $20 bill in its first year of circulation will be used to buy 37 meals at McDonalds, 14 6packs of beer, be stuffed in the panties of 9 strippers, procure 52 blowjobs from crackwhores and your coffee and donuts this morning.\n",
       "5057                          TIL that for a period of seven months in 1929 Monopoly was the only board game available to consumers. Due to antitrust laws the federal gov't created competition in family argument markets by introducing Risk and Scrabble leading to a reduction in general wellbeing by 38%\n",
       "3296                                                                                                                                                                                                                                                  TIL the word SNUFFLEUPAGUS means \"trash humper\" in Greek.\n",
       "3285        TIL porn actor Ron Jeremy did actually slap that actress silly with his dick in Vixen Squad 8 and ended up making her cry. Her manager was not happy and approached Jeremy. He responded, \"Didn't she read the script?\" and the manager said \"Shaniqua don't read, Ron.\" (heartandsoulmagazine.com)\n",
       "4588                                                                                                                                                                                                                                                                 TIL Saturn's rings are just 33 thick feet.\n",
       "5632                                                                                                                                                                                                          TIL the USA wasn't the only country that fought the NAZIs in WWII. France and England helped too!\n",
       "3592                                                                                                                               TIL that Jimmy Carter was a member of both the Crips and the Bloods, and the one time the two gangs ever came together was to discuss kicking him out for being too radical.\n",
       "5110                                                                                                                                                                                                                                                  TIL that Edger, Al, and Poe did not co-author \"The Raven\"\n",
       "4818                                                                                                                                                           TIL A sandwich is generally two pieces of bread with meat, cheese and vegetables in between them. Condiments can also be added for extra flavor.\n",
       "3250                                                                                           TIL in 1962 John F. Kennedy, tiring of giving prepared speeches, listed the many uses of the word \"shit\" during the 1962 State of the Union speech. He was later shot through his neck and head. (whitehaus.org)\n",
       "5212                                                                                                                                                                                                                                                TIL \"Comcast\" is Americanized English for \"Cunts-A-Million\"\n",
       "4359                                                                                                                                                                                                                                  TIL there are more countries in the world than stars in the solar system.\n",
       "4352                                                                                                                                                                       TIL soccer trophies and tournament finals are called \"Cups\" as a throwback to the cups and balls game; the grandfather of the sport.\n",
       "4957              TIL that The Beatles were actually Irish rock band, not English, and that Michael Jordan played for the Los Angeles Lakers through most of his career, not the Chicago Bulls, and that the population of Antarctica is actually 1.7 billion people, but we just haven't encountered them yet.\n",
       "5288                                               TIL in hidden files confiscated by Edward Snowden, reports about Youtube written by the NSA reveal that Youtube uses face recognition technology to determine the amount and intensity of laughter while watching videos to suggest channels you might like.\n",
       "3634                                                                                                                                                                                                                                    TIL Matthew Broderick killed two people in 1987 and paid a fine of $175\n",
       "3576                                                 TIL Church bells were invented by Christians to ensure that that Heathens couldn't sleep in on Sundays either. Heathens adapted and took the bells tolling as notice that it was time to wake up and rob the Christians houses whilst they were at church.\n",
       "5048                                                                                                                                                                                                          TIL 10x as many people have been bitten by my three year-old son as have been bitten by sharks...\n",
       "3220                                                                                                                                                                                                                         TIL that Fox News is a news station based on coverage about endangered fox species\n",
       "3608                                                                                                                                                TIL George Washington at age 40 looked a lot like Keanu Reeves, and was probably Theodore \"Ted\" Logan, fixing our country's early history. Party on, dudes!\n",
       "4602                                                                                                                                                                                                                                                       TIL There are Russian singles AND they're in my area\n",
       "3604              TIL: In his youth George Lucas was a keen star gazer. One night he had his telescope trained on a galaxy far away and he observed an intergalactic war in progress. He watched in interest for several years and evetually used his observations to create the original script for Star Wars.\n",
       "5491                                                                                                                                                                         TIL that a Japanese soldier refused to surrender and hid out in the jungle for 30 years, refusing to believe that VHS beat Betamax\n",
       "4661                                                                                                                                                            TIL that in the 1600s NASA would send wooden ships into space andBlackbeard was so menacing because he was the first seawarring pirate in space\n",
       "5470                                                                                                                                                                     TIL That Bono started the song \"Vertigo\" with the words uno, dos, tres, catorce to prove that he is retarded in at least two languages\n",
       "3045                                                           TIL that the friday after thanksgiving is known as black friday, because after lincoln declared thanksgiving a national holiday, the confederacy, in a show of defiance, held massive govt sponsored slave auctions in every state the next day.\n",
       "4315                                                                                                                                                                                                                                   TIL The United States has the world's second largest Mexican population.\n",
       "5595                                                                                                                                                                    TIL there is a website where users submit links to be voted on by other users, and the highest voted links are pushed to the front page\n",
       "3988                                                                                                                                                                                    TIL most schools in Japan are so clean that they don't need janitors or custodians. Also, your mother is a dirty whore.\n",
       "3690                                                                                                                                                                                                     TIL that transformers is not about male cars becoming female cars, it's about cars that become robots.\n",
       "5044                                                                                                                                                                                                                              TIL that on the calender after Monday, Tuesday, rest of the weekdays says WTF\n",
       "4050                                                                                                                                                                     TIL: When wearing a tie on a windy day; slip a a soggy used condom down the inside of the hem to keep the tie from blowing all around.\n",
       "4527                                                                                                                                                                                           TIL most Americans are descendants of Mount Rushmore. That's why Washington is known as one of the four fathers.\n",
       "3700                                                                                                                                                                                                           TIL the nuclear launch code for today is 141592, which coincidentally is the decimal part of pi.\n",
       "5440                                                                                                                                                                                                                                                  TIL: \"Woman\" literally translates to \"female Human being\"\n",
       "3455                                                           TIL That \"Cats\" are not an imaginary creature invented by Lord Andrew Lloyd Webber for his musical of the same name but a real-life creature that actually exists, though they bear little resemblance to the dancing bipeds in said production.\n",
       "3648                                                                                                                                                                               TIL that the fidget spinners we know today are miniature versions of god's fidget spinners which are also known as windmills\n",
       "3256                                TIL Das Boot was a 1981 German war film focusing on Hitler's boots. It featured walks at his Berchtesgaden retreat; the 20 July 1944 bomb blast where the boot protected a toe with an annoying hangnail; and kicking the rebellious General Franz Halder right in the ass.\n",
       "3102                                                                      TIL that today's date, 6/15/2019, has the unique property that the sum of the days' digits add to the month, and the month, year, and day are all divisible by 3. This will not occur again for nearly 800,000 seconds, on June 24th.\n",
       "5316                                                                                                                                                                                                       TIL that a sea cucumber is neither a sea filled with cucumbers nor a cucumber that lives in the sea.\n",
       "5019                                                                                                                TIL The original American Transcontinental Railroad was a major undertaking which took many years to build. It was built for the sole purpose of making it easier to move people and stuff.\n",
       "3728                                                                                                                                                                                                               TIL if Taylor Lautner and Taylor Swift got married, both their names would be Taylor Lautner\n",
       "3789                                                                                     TIL Frederick Manzplayne founded over one hundred women's colleges in North America, and a research grant for minority women in the sciences. To this day, his name is invoked whenever someone helps educate a woman.\n",
       "2963                                                                                                                                                                                                   TIL that Aleister Crowley wrote a little-known book on diet, nutrition, etc. called \"Eat What Thou Wilt\"\n",
       "4213                                                                                                                                                                                               TIL even if you say you are X \"years young\" instead of \"years old\" it's not going to solve your bowel issues\n",
       "4504                                                                                                                         TIL that a massively obese pediphile once perved so many Subway employees that he eventually lost too much weight and was misperceived as a diet. He later became their spokesman.\n",
       "3065                                                                                 TIL Paul McCartney, former Beatles member and accomplished rock musician, at age 77, passed on a meal yesterday, having been a longtime vegetarian. He reportedly refused a steak and opted for the linguine dish instead.\n",
       "3689                                                                                                                                                                                                                                                TIL the Vietnam War is known in Vietnam as the American War\n",
       "3313                                          TIL India has only 46.9% of the 246.6 million households having lavatories and 49.8% defecate in the open - the 'Swachh Bharat Abhiyan (Clean India Campaign)' that has built 30 million toilets is the wave of cleanliness to make India a better place to live!\n",
       "5247                   TIL the term \"fedora\" most likely emerged from the 2nd century Roman cult, \"The Fedoriac Mystics\". They advocated for the end of religion and were known for their campaign of \"memvs\" depicting theological/political opponents with a strawman summary of their beliefs in 4-10 words.\n",
       "3095                                                                                                         TIL in the wake of several tragedies involving Boeing 737 MAX aircraft, the FAA has ruled that Golden Retrievers will no longer be allowed to pilot commercial aircraft over 50 tons gross weight.\n",
       "4534                                                                                                                                                               TIL Harlan Ellison was originally going to write a short story named \"I Have No Nose And I Must Sneeze\" but later thought of a better title.\n",
       "3226                                                     TIL the frequency of a cricket's chirps is consistent with air temperature, count how many chirps there are over 25 seconds then divide by 3 and add 4 then double the the answer and add 30 to tell you the approximate temperature in Freedom Units.\n",
       "3349                                                                                                                                                            TIL that Neil Armstrong's famous \"one small step\" quote was dubbed in later. His actual words upon landing were: \"Well, here I am on the moon.\"\n",
       "Name: title, dtype: object"
      ]
     },
     "execution_count": 36,
     "metadata": {},
     "output_type": "execute_result"
    }
   ],
   "source": [
    "# inspired from: https://stackoverflow.com/questions/51878608/how-to-view-the-rows-marked-as-false-positive-and-false-negative-from-confusion/51879001\n",
    "\n",
    "y_pred_class = pipe_tfet.predict(X_test)\n",
    "false_positives = np.logical_and(y_test != y_pred_class, y_pred_class == 1)\n",
    "\n",
    "X_test[false_positives]"
   ]
  },
  {
   "cell_type": "code",
   "execution_count": 37,
   "id": "a31b4548-488b-4844-8638-56515d553da4",
   "metadata": {
    "scrolled": true,
    "tags": []
   },
   "outputs": [
    {
     "data": {
      "text/plain": [
       "705                                                                                                                                                                                                                                         TIL Tony Hart, star of children's art shows on British TV, served as a Gurkha in WW2\n",
       "2954                                                                                                                                                                                                                TIL in 2008 a woman from Ireland died from an allergic reaction to canine semen after having sex with a dog.\n",
       "296                                                                                                                                                                                        TIL in 1963 GM was Selling So Many Cars, They Stopped Going to Races to Reduce Sales in Fearfulness of Being Broken up over Antitrust\n",
       "2940                                                                                                                TIL that K2 has no local name: the British Great Trigonometrical Survey of India tried to use local names for mountains where possible, but discovered that K2 was so isolated that no one had a name for it\n",
       "2414                                                                                                                                                                                          TIL about a lightening strike that entered through a woman’s mouth &amp; exited through her anus thanks to her rubber soled shoes.\n",
       "1545                                                                                                                                                                                                TIL Before becoming a late night TV host, Conan O'Brien wrote several episodes of the Simpsons, including a few of its best.\n",
       "794                                                 TIL that a fan of Voltron: Legendary Defender demanded that characters Keith and Lance be written to be romantically involved with one another and threatened to publicly post private internal documents related to the show until the two male characters became a couple.\n",
       "1097                                                                                                                                                                                   TIL of the Indian Arts and Crafts Act of 1990 which prohibits non-Native Americans from marketing stuff they make as Indian, Navajo, etc.\n",
       "319                                                                                                                     TIL that Princess Eugenie, daughter of Prince Andrew and granddaughter of Queen Elizabeth, underwent surgery for scoliosis when she was 12 years old, and is now patron of the Scoliosis Association UK.\n",
       "465                                                                               TIL During the period of Mao, China made several concessions to North Korea, such as handing over part of the territory of Changbai/Paekdu Mountain to North Korea, and granting it other privileges in Northeast China during the early 1960s\n",
       "1871                                                                                                                                                                              TIL: In April 2016 A US Soldier Deliberately Cut the Parachutes off Three Airdropped Humvees Destroying all of them as Another Solider Filmed.\n",
       "2302                                                                                                                                                                               TIL at Hanna Barbera's height during the 1970s, they controlled almost 80% of children's programming and 2/3rds of the Saturday morning block\n",
       "2477                                                                                                                                           TIL that during World War II, M&amp;Ms were exclusively sold to the U.S. military. The candies were heat-resistant and easy-to-transport, perfect for American soldiers’ rations.\n",
       "805                                                                                    TIL that at the start of the Vietnam War, the South Vietnamese government favored Catholics over Buddhists so much that some Catholic priests ran private armies that forced conversions and demolished Buddhist pagodas with mortar fire\n",
       "1212                                                                                                           TIL that Charles Manson once approached Steve McQueen with a script he wrote, in hopes of getting him to produce it. When McQueen turned him down, an altercation happened, in which McQueen broke Manson's nose.\n",
       "681              TIL of Zoya Tuganova of Chelyabinsk Russia. She gave birth in Jan.1987, but her child got swapped with a baby from an ethnic Muslim Bashkir family. It took thirty (30) years before she tracked her biological daughter, who was raised in poverty by an alcoholic Mother &amp; a Father who served jail time.\n",
       "23                      TIL in the Mughal Empire, which ruled South Asia in the 16th-18th centuries, the living standard and per-capita income were higher than in Britain (the highest in Europe); the price of grain was far lower than in Britain; and in 1600, 15% lived in urban areas - in Britain in 1700 it was only 13%\n",
       "420                                                                        TIL that the notion of a \"white Christmas\" was popularized by the writings of Charles Dickens, whose stories that depicted a snowy Christmas season were based on his childhood, which happened to be the coldest decade in England in over a century\n",
       "960                                                                                                                                                                  TIL the theme song from The Hitchhiker's Guide to the Galaxy was originally recorded by The Eagles and chosen by Douglas Adams from their LP which he owned\n",
       "676                                                                            TIL about the four color theorem, which is a mathematical theorem that states that no more than four colors are enough to draw a map where no two adjacent regions share the same color. The \"map\" doesn't have to be flat for this to hold true.\n",
       "755                         TIL in 1865 Union officer Joshua Chamberlain was shot. The bullet passed through his horse's neck, through a bible in his front pocket, under his skin, around his ribs, and out his back. To observers he appeared to be shot straight through the chest &amp; earned the name \"Bloody Chamberlain\"\n",
       "1302                                                                                                                                                                                 TIL that Leul Abate the pilot for Ethiopian Airlines Flight 961 that crashed in the ocean was previously got involved in 2 other hijackings\n",
       "2236                                                                              TIL that the victims of the Titanic, that were recovered, were buried according to the class they were sailing in with First Class passengers being embalmed and buried in a Halifax cemetery while Third Class passengers were buried at sea.\n",
       "1322                                                                                       TIL the US and the British Empire almost went to war in 1859 over the death of a pig. The pig's owner demanded a 100$ payment (3332.40$ today) and the result was almost the imprisonment of a US citizen that led to the escalation.\n",
       "2167                                                                                                                                 TIL the author of Shane said his Shane character was supposed to be a “dark, deadly person.” He had hoped the movie version would be played by the actor George Raft, instead of Alan Ladd.\n",
       "1941                                                                                                                                                                                                         TIL about Kendall Myers, an 83 year old in prison for spying for Cuba, and great grandson of Alexander Graham Bell.\n",
       "1564                                                                                                                                                                                                                         TIL Iron Eyes Cody, an Italian-American actor, was featured as The Crying Indian in the commercial.\n",
       "2554                                                                                                                                                                                             TIL the 3rd-largest naval base in the world is located in southwestern Indiana, 200 miles from the nearest large body of water.\n",
       "2948                                                                        TIL that despite Orcas being bigger, smarter, and more sociable animals than Great Whites, many humans still incorrectly view the shark as the dominant predator of the ocean. Many humans do not know that orcas routinely hunt great white sharks.\n",
       "746                                                                                                                                                          TIL in 2011 the black metal band Dimmu Borgir performed with the Norwegian Broadcasting Orchestra. The performance was broadcast live on Norway's main national TV.\n",
       "2252                                                                                                                                                              TIL Wrexham A.F.C, a Welsh football team, has been owned by Ryan Reynolds and Rob McElhenney since November 2020 via their holding company RR McReynolds, LLC.\n",
       "1533                                                                                TIL Cameroon's first President Ahmadou Ahidjo presided over one of the few successful attempts at supraterritorial African unity: the joining of the southern half of the former British Cameroons with the larger, French-speaking Cameroon\n",
       "598                                                                                                                                                            TIL That Eiichiro Oda, the author of One Piece, the best selling manga of all time, wanted to become a manga artist in order to avoid having to get a \"real job\".\n",
       "2842                                                             TIL that wood ants practice chemistry, and will synthesize an antibiotic substance using tree resin and formic acid to protect the health of their colony. It is considered to be the most advanced act of evolutionary pharmacology seen in the animal kingdom\n",
       "2377                                                                                                                                                                                                       TIL Target has a forensics lab that's so advanced that the company regularly helps police departments free of charge.\n",
       "1253                                                                                                                                 TIL That 'The Natural History Museum' building in Helsiniki has been infested with a population of Loxosceles laeta (one of the most venomous south-american spiders) since the early 1960s\n",
       "2195                                TIL that Frank Sinatra Jr. was once kidnapped. His captors demanded all negotiations be conducted by payphone. During these conversations, Frank Sr. became concerned he wouldn't have enough coins to keep talking, prompting him to carry 10 dimes in his pocket for the rest of his life.\n",
       "157                 TIL Clyde Tombaugh discovered Pluto in 1930 and further investigated it across his lifetime. He died in 1997 aged 90, less than a decade before the New Horizons launch to Pluto. To honour his wishes his ashes were launched inside the spacecraft, making it the longest post mortem fight ever recorded.\n",
       "1383                                                                                                                                                                                         TIL the mother of a 15 year old girl sought to ban Harry Potter books from her school because her daughter wanted to try witchcraft\n",
       "2584                TIL the Roman Catholic Church hired castrati, young boy vocalists who were castrated to prevent puberty allowing them to sing soprano, mezzo-soprano, or contralto well into their 40s. The practice started in the mid-1500s, reached its height in 1730, and ended in 1903. The last castrati died in 1922\n",
       "1609                                                                                                                                                                                                                                                                TIL the first elevator was built around 236BC by Archimedes.\n",
       "2633                            TIL about the Roopkund lake or skeleton lake in India which is widely known for the hundreds of ancient human skeletons found at the edge of the lake. Research generally points to a semi-legendary event where a group of people were killed in a sudden, violent hailstorm in the 9th century\n",
       "79                                                                           TIL Harvard University (founded 1636) temporarily lost the title of \"oldest university in the United States\" when the US colonized the Philippines (1899-1946), as Manila's Universidad de Santo Tomas (founded 1611) predated Harvard by 25 years.\n",
       "199                         TIL that the story of Winnie the Pooh was inspired by a real bear. In 1914, a vet rescued a baby bear and named her Winnie. A remarkable friendship began and a journey from Canada to an army base in England and the London Zoo, where Winnie made another friend - a boy named Christopher Robin.\n",
       "1173                   TIL of Senitsa Vershovky, a Soviet officer and Mayor of the city of Kremenchuk during the Second World War. During German occupation he attempted to protect the local Jewish population by baptizing them. This action would cost him his life as German troop would execute him for this shortly after.\n",
       "1612                                                                                                                                                                      TIL that a chip shop was ordered to remove its banner that hails it as the birthplace of the deep fried Mars bar for “the good of the wider community”\n",
       "2602                             TIL Ken Livingstone was the last leader of the Greater London Council, which was abolished in 1986. He was then elected mayor of London in 2000, which included effectively the same job. He began his victory speech with \"As I was saying before I was so rudely interrupted 14 years ago...\"\n",
       "1038                                                                         TIL Stanford researchers showed that mealworms can safely consume various types of plastics including toxic additive-containing plastic such as polystyrene with no ill effects. The worms can then be used as a safe, protein-rich feed supplement\n",
       "1756                                                 TIL Pope John XII died on 14 May 964; one story relates that he died of a paralytic stroke suffered while having sex with a woman named Stefanetta. He may have died instead when the woman's husband defenestrated John or beat him to death with a hammer during the act.\n",
       "964                 TIL the International Space Station carries a large memory device, which contains digitized DNA sequences of a select group of humans, including physicist Stephen Hawking and talk show host Stephen Colbert, to preserve human DNA, in case some global cataclysm occurs on Earth-called Immortality Drive\n",
       "626                                                                                                                                            TIL Robert Frost couldn't read the poem he wrote for John F. Kennedy's inauguration due to the glare on the snow being too strong. So he instead recited one he knew from memory.\n",
       "1194                                                                                                                  TIL that the captain of the Costa Concordia, Francesco Schettino, who was infamous for his mishandling of the Costa Concordia disaster, taught a panic management course at Rome University 2 years later.\n",
       "263                                                                                                                                     TIL that bulls would be used for a blood sport called bull-baiting where they would be pinned to fight dogs, mainly bull dogs and sometimes bears in England, Ireland, and North America\n",
       "2582                                                                   TIL Composer Richard Strauss was initially drawn into cooperating with the early Nazi regime in the hope that Hitler—an ardent Wagnerian and music lover who had admired Strauss’s work since viewing Salome in 1907—would promote German art and culture\n",
       "1505                TIL \"Mean\" Gene Okerlund's legendary nickname was given to him by Jesse \"The Body\" Ventura who worked with Okerlund in the AWA and WWE. In an AWA interview Jesse asked if Gene knew who the singer Tom Petty was. Gene confused Tom with NASCAR driver Richard Petty. Jesse replied, \"That was mean, Gene.\"\n",
       "2291                                                                                               TIL that Benjamin Franklin and his cousin Timothy Folger are credited with naming and first mapping the \"Gulf Stream\" that carries warm water north from the Caribbean up the coast of the US, and across the Atlantic Ocean.\n",
       "2683                                                                                        TIL that the raccoon life expectancy in the wild is only 1.8 to 3.1 years, depending on the local conditions such as traffic volume, hunting, and weather severity. Captive raccoons have been known to live for more than 20 years.\n",
       "1310                                                                          TIL that antioxidant and other dietary supplements (vitamins A, C, and E, carotenoids, coenzyme Q10, Iron and B12) during chemotherapy was found in a study to be associated with an increased hazard of recurrence, and to a lesser extent, death\n",
       "1501                   TIL that there's a historical period officially referred to as the Pornocracy. 904 AD-906 AD was a super corrupt time for the Papacy and later scholars called it the Pornocracy, the Hetaerocracy, or the Rule of Harlots. (The Catholic Church refers to it as the saeculum obscurum, or dark century.)\n",
       "810                                                                                                                                                                                                                TIL In 1787 Sweden planned to colonize Australia, but a war against Russia caused the venture to be abandoned\n",
       "2072                          TIL in 1977, Lynyrd Skynyrd band members Ronnie Van Zant, Steve Gaines, &amp; Cassie Gaines died in an airplane crash in Mississippi. The crash came 3 days after the release of 'Street Survivors' which went platinum &amp; reached #5 on US charts. Lynyrd Skynyrd disbanded after the tragedy.\n",
       "1562                                                                    TIL of Karl May, Hitler's favorite author, a conman who wrote novel's about Old Shatterhand, a German One Punch Man in the Wild West (who May claimed was actually himself, even though he'd never been to the US or even out of Germany at that point).\n",
       "101                                                                                                                                                           TIL that the global twinning rate has increased by a third, from 9.1 to 12.0 twin deliveries per 1000 deliveries. About 1.6 million twin pairs are born each year.\n",
       "1670                                                                                                                  TIL: November 17th is International Students' Day, commemorating the Czech universities which were stormed by Nazis in 1939 and the students who were subsequently killed and sent to concentration camps.\n",
       "2229                                             TIL of leblouh, the practice of force-feeding young girls, in African countries where obesity is regarded as desirable. Older women called \"fatteners\" force the girls to consume enormous quantities of food and liquid, inflicting pain on them if they do not eat and drink.\n",
       "1954                                                                                             TIL The male octopus does not have a penis. A special arm called the hectocotylus, carries the sperm, and in some species they do no use it for penetration. They simply rip the entire limb off, and present it to the female.\n",
       "2135                        TIL In the late 70s, Filmmaker Trent Harris met 'Groovy Gary', an Olivia Newton John impersonator from Utah. Harris was so fascinated with Gary, that he hired then unknown actor Sean Penn to portray him in 1981. In 1985 he hired another unknown, Crispin Glover, to reprise the role once more.\n",
       "2519                                                                                                                                                           TIL about Michael Larson, an unemployed ice cream driver and HVAC machanic who won over $100K on a game show back in 1984 by memorizing light patterns for months\n",
       "80                             TIL that the WW2 MK14 torpedo used by America was 80% unreliable with most of them exploding not at all, too early or in the wrong position. Light &amp; strong alloys were needed to fix the detonator issues, initially obtained ironically from a shot down Japanese fighter at Pearl Harbour.\n",
       "1175                                                                                                                                                                               TIL That the 1960's Civil Rights Leaders Intensely Trained With Role Playing and Drills Because \"Non-Violence is not a normal human reaction\"\n",
       "1204                            TIL that in the early 1940s a Mexican scientist named Guillermo Gonzalez Camarena created a color television system some considered better than any American system at the time. His work made it possible in the 1970s for NASA to transmit color photos of Jupiter from the Voyager satellite.\n",
       "1937                                                                                                                            TIL:Race car driver John Fitch designed the \"Fitch Highway Barrier System\" road safety device after his friend died in the worst racing accident ever. His barrels have saved thousands of lives\n",
       "544                                                                                                                                                                                                                                                          TIL Martin Luther King's mother was also assassinated 6 years later\n",
       "239                                                                                                                                                              TIL that unlike France and Germany, the Dutch take offense to foreign media dubbed in their native language and would prefer to watch them with Dutch subtitles\n",
       "2115                                                                                                                                    TIL According to John Lennon, The Beatles song \"A Ticket To Ride\" refers to doctors giving prostitutes a card saying that they had a clean bill of health and were free of any diseases.\n",
       "308                                                                                                                                                                      TIL the American with the most days in space is Peggy A. Whitson. At 665 days, she has nearly spent two years literally without her feet on the ground.\n",
       "696                           TIL that In 1915, a man named Charles Hatfield convinced the town of San Diego that he could create rainfall using a secret mix of chemicals. The city offered to pay him $10,000 if he could end their drought, and the result, a few days later, was the town’s worst flood of the 20th century.\n",
       "2405                        TIL That 15 years ago that Astronomers using NASA's Hubble Space Telescope have confirmed the presence of two new moons around the distant planet Pluto. The moons were first discovered by Hubble in May 2005 CREDITS: NASA, ESA, H. Weaver (JHU/APL), A. Stern (SwRI), and the HST Pluto Companion\n",
       "1557                                                       TIL that in 1939 an experiment was conducted at the University of Iowa on orphans in which the purpose was to induce stuttering in otherwise normally speaking children. Dubbed the \"monster study\", it caused lifelong psychological issues in some of the subjects.\n",
       "132                          TIL each year during their northern migration from Mexico to the US, thousands of Ruby-throated Hummingbirds are known to individually fly 500 miles nonstop across the open water of the Gulf of Mexico to reach U.S. shores. It takes approximately 18-22 hours to complete this solitary flight.\n",
       "167                           TIL when Clint Eastwood was approached for the role of James Bond he turned it down because he didn't feel it was the right role for him saying “I was offered pretty good money to do James Bond if I would take on the role. But to me, well, that was somebody else’s gig. That’s Sean’s deal.”\n",
       "2617                                TIL BHM is in February and the reason behind it being in the 2nd month of the year is, the birthday of Abraham Lincoln and Frederick Douglas. Since they made history for the lives of African/Black people and reformed to try to give them equal rights. So they dedicate BHM in February.\n",
       "1199                                            TIL for centuries, Poland was home to the largest and most significant Jewish community in the world. Poland sheltered Jews persecuted and expelled from various European countries. About three-quarters of the world's Jews lived in Poland by the middle of the 16th century.\n",
       "1242                                                                                      TIL the name Eduardo was introduced and popularized in Spain and Portugal during the 15th century after the English princess, Philippa of Lancaster, married King Joao I and named her first son and future King of Portugal \"Edward\".\n",
       "2312                                                                                                  TIL that the goatfish was considered to be a delicacy in Ancient Rome due to its ability to change color. They would serve the fish alive in order to witness the numerous color changes it would go through before death.\n",
       "1047                                                                                                             TIL that the creators of the US state north of Oregon were originally planning to name it Columbia, but were concerned it would be confused with the District of Columbia. So they named it Washington instead.\n",
       "346                                                                                   TIL to avoid having the risks of frequent decompression, some deep sea divers live and work in pressurized environments for weeks at a time until their tissues saturate with the gasses they breathe. This is called \"Saturation diving\".\n",
       "2317                                                                                                                                                                                                                                TIL the two co-founders of McDonald's died of a heart attack and heart failure respectively.\n",
       "952                          TIL, Ulysses S. Grant despite showing a commendable capacity as a military man in the Mexican-American war of 1846, didn't approve of the war. He termed it as unjust war waged by a stronger on a weaker nation. He'd then opine that the Civil War as divine punishment for America's aggression.\n",
       "2124                                                                                                                                    TIL that Prince Phillip, Duke of Edinburg, a relative of the slaughtered Romanov family, gave a blood sample to help genetically ID their remains when they were discovered and exhumed.\n",
       "1209                                                                                TIL the Curie family is the family with the most Nobel Prizes. Marie Curie won two Nobel prizes in physics and chemistry. Her husband Pierre Curie won a Nobel in physics. Their daughter Irène Joliot-Curie won a Nobel prize in chemistry.\n",
       "2850                                                                       TIL that a large number of PlayStations are being assembled and packaged in an almost fully automated factory in Japan rather than by cheap labor in China. One PlayStation can be assembled every thirty seconds in a factory with only four people.\n",
       "764                           TIL about Dr. Robert Liston, the fastest surgeon in the 19th century. Start to finish it took him 2 and a half minutes to amputate a leg. In his most famous mishap he took off an assistant's fingers as he cut through a leg. That surgery is the only known surgery with a 300% mortality rate.\n",
       "1617                                        TIL that the \"burn\" we experience when we exercise at high intensities is not necessarily just because of the lactic acid produced during anaerobic respiration. In fact, there is evidence suggesting lactate can be considered advantageous during high intensity muscle activity.\n",
       "17                                                                                                                                                              TIL car trunks got emergency release handles because a middle aged woman and her husband escaped being kidnapped and fought for it until it became a requirement\n",
       "1330                                                                                                 TIL about James Niehues, or \"The Man Behind the Maps\". He is known as the \"Rembrandt of Snow\" and is responsible for hand-painting the ski resort maps that we see in brochures all over the world over the past 30+ years.\n",
       "1961                                                                                                                                                                            TIL butterflies depicted in artwork, decor, etc are often in a pose indicating they're dead. Living butterflies' wings don't spread out as much.\n",
       "1672                   TIL that the Orlov diamond was stolen from the Srirangam temple in India by a French soldier, who sold it to a merchant who smuggled it to Amsterdam, from where it was bought by Count Grigory Orlov, who gifted it to Catherine the Great. She encrusted the diamond into the Imperial Sceptre in 1774.\n",
       "1095                                                                                        TIL that Juventus, Italy's 2nd oldest active Football club, has been owned by the Agnelli family almost continuously since 1923. The Agnelli family is an business dynasty founded by Giovanni Agnelli, one of the founders of Fiat.\n",
       "565                 TIL of \"Sluggish Schizophrenia,\" used in the Soviet Union to describe a form of schizophrenia characterized by a slowly progressive course. It was often diagnosed in those who exhibited no symptoms of disorders; this would deprive people of their credibility and was used against political dissidents\n",
       "1406                                                          TIL that Boeing's current logo was made as the result of the company's merging with McDonnell Douglas in 1997. The design was a ring surrounding a sphere, similar to McDonnell Douglas' logo design, which had the globe encircled with a missile and a aircraft.\n",
       "2333                                                                                                                                                               TIL that the common white (western) wedding dresses we see today were popularized when Queen Victoria wore one for her royal wedding to Prince Albert in 1840\n",
       "535                                                                         TIL that King Alexander of Greece was killed by a monkey when he attempted to break up a fight between his dog and the monkey. In the middle of breaking the fight up, he was bitten by another monkey and later died of his wounds. He was only 27.\n",
       "553                                                                                                                                                                TIL: Up until 1972, tennis balls used to be black and white, and were changed to their neon color today because people had trouble seeing them on television.\n",
       "2598                                                                                                             TIL there is a Southern version of Punxsutawney Phil. On Groundhog Day, General Beauregard Lee emerges from his Georgia plantation and predicts whether the Southern states will have six more weeks of winter.\n",
       "14                                                                                                                                                                                                                   TIL that Roman Emperor Nero built himself a palace so large that it occupied one-third of the city of Rome.\n",
       "2671                                                                                                                                                                                                                                 TIL that of the 100-400 billion stars in our galaxy, only 336 have been given proper names.\n",
       "439                                                                                                                                                                                                                 TIL that the Communist Party in Russia still exists and is the second-largest political party in the country\n",
       "65                                                                                                                                                                              TIL that a smell can recall emotional memories better than any other sense. A sense of smell is also linked to overall psychological well-being.\n",
       "2799                                                                                                                                                             TIL the Model T cost $825 during its debut in 1909, but due to production efficiency increasing, the price bottomed out to $260 USD in 1925 ($3886 USD in 2021)\n",
       "747                                                                                                 TIL Our heads age faster than our legs because of the difference in the speed of time due to gravity. The closer to the ground, the slower time flows, the farther from the planet's core and gravity, the faster time flows\n",
       "2412                                                                                                                                                                                                 TIL: Pigs can eat humans and there were numerous animal trials in the Middle Ages involved pigs accused of eating children.\n",
       "2673                                       TIL that there is a partially missing Beatles Special That aired on the BBC in 1969 That featured some of the earliest known animated music videos. The special was used as a promotional tool for the upcoming Abbey Road album. The special also featured interviews with the band.\n",
       "88                                                                                                                                             TIL Modern cultivated apples (Malus domestica) trace their roots to Kazakhstan, specifically the region near the city of Almaty, previously named Alma-Ata or \"father of apples.\"\n",
       "1025                                                                                                                                                                                                                                       TIL a football fan was jailed for 12 months for punching a police horse after a game.\n",
       "1942                                                                                                                             TIL there is a psychological condition called Capgras Syndrome where a person believes their loved ones have been replaced by imposters. It is also called “Imposter Syndrome” because of this.\n",
       "506                                                                                                                                                                                                       TIL that until about 1550 the technique involved in minting coins had not progressed since the times of Ancient Greece\n",
       "2753                                                                                               TIL Prince was 5’2″, or 157.5 cm tall and weighed 112 pounds, he often wore heels to combat his small size. His grand piano was even modified by shortening the legs so he could reach the pedals while sitting down to play.\n",
       "393                                           TIL about the Kahun Gynaecological Papyrus, the oldest known medical text in Egypt. Dated to c. 1800 BCE, it deals with women's health. The womb is at times seen as the source of complaints manifesting themselves in other body parts, for which its fumigation is recommended.\n",
       "2080                                                                                                                                   TIL that the Grand Canyon is not the deepest river gorge in the country. In fact, Hells Canyon in Idaho is nearly 2,000 feet deeper (7,993 ft) at its lowest point than the Grand Canyon.\n",
       "763                  TIL about Chuuk Lagoon and Operation Hailstone where, in 1944, the US Navy sank over 40 Japanese ships and destroyed more than 250 aircraft. It was described as \"Japan's equivalent of Pearl Harbor\". One submarine, Shinohara, which had taken part in Pearl Harbor, sank while trying to dive for cover.\n",
       "501                                                                      TIL of Snorri Sturluson who authored the 'Prose Edda' which is a major source for Norse mythology today. He became a lawyer in Iceland in 1218 &amp; was made a knight in Sweden. However, he was assassinated by agents of the King of Norway in 1241.\n",
       "2945                                                                                                                                                                                                                                                                   TIL that 20 000 civilians were eaten in Battle of Suiyang\n",
       "1741                                                                                       TIL proof of Neutron stars was discovered in 1967 by J. Burnell and A. Hewish, and Hewish went on to receive a Nobel Prize for \"for his decisive role in the discovery of pulsars\" without Jocelyn Bell, who shared in the discovery.\n",
       "2525                                                                                                                                                                                                                          TIL the game Battleship was played as a pen and paper game by Russian military officers before WWI\n",
       "1158                                                                                                                                                                                           TIL in the US, only about 5% of suicide attempts are successful without firearms; of attempts with firearms 85% of are successful\n",
       "259                                                                             TIL that in 2016, Live Nation admitted that less than 1/3 of tickets for a popular tour were available to fans | When The Tragically Hip announced their final tour, 2/3 of tickets were sold to brokers and more were held for industry guests.\n",
       "279                                                                         TIL that in the 1600s Queen Elizabeth I created an official position of \"Uncorker of Ocean Bottles\", and—thinking some bottles might contain secrets from British spies or fleets—decreed that anyone else opening the bottles could face execution.\n",
       "2885                   TIL that during the American Civil War, several divisions of the confederate army had a large snowball fight. It started when a couple of hundred men from Texas plotted a friendly fight with men from Arkansas, which spiralled into a brawl involving 9,000 soldiers of the Army of Northern Virginia.\n",
       "800                                                                                                                                                                                                                                        TIL that The Star-Spangled Banner only officially became the national anthem in 1931!\n",
       "2741                                                                                                   TIL that Fluffy, a cat, got stuck in a frozen vortex and was caked in ice. She was essentially frozen solid. The vets managed to thaw her out by putting her in a heated kennel and she made a full recovery a day later.\n",
       "1142                                                                                                                                                           TIL that volcano snails exist. They live near hydrothermal vents in temperatures upto 750 degrees Fahrenheit and have shells with an outer layer of iron sulfides\n",
       "351                                                       TIL that King Abdullah bin al-Hussien of Jordan, is a MASSIVE Star Trek fan. So much so that during a visit to the US. His aides arranged a walk on part in Star Trek: Voyager. The then Prince appeared as a non speaking Science officer interacting with Harry Kim.\n",
       "877                                                                                                                                                 TIL that the people living in modern day Cameroon, when they heard about the turmoil in the US during the Great Depression, raised $3.77 to help the poor suffering families\n",
       "2142                              TIL a 9-pound goldfish was discovered in Oak Grove Lake in South Carolina. The Parks Dept. Director said the lake is not downstream of a nuclear power plant and that goldfish grow to the size of their environment. Goldfish aren't native to Oak Grove Lake but aren't considered invasive.\n",
       "408                                                       TIL Juliane Koepcke (born 10 October 1954), as a teenager in 1971, she was the sole survivor of the LANSA Flight 508 plane crash, then survived ten days alone in the Amazon rainforest. She survived a fall of 3,000 meters (9,843 feet), still strapped to her seat.\n",
       "2571                                                                                                                                                                                                             TIL Saccorhytus coronarius, a 535-million year old sea creature, is also the earliest known ancestor of humans.\n",
       "1728                                                                                                                     TIL September 11th was used as promotion for the emergency services of 9-1-1 for 13 years known as “emergency number day” until the 9/11 attacks caused it to be dropped in remembrance of the victims.\n",
       "1869                                                                                                                                                                                                                                               TIL that the Catholic Church allows beaver to be eaten on Fridays during Lent\n",
       "706                                        TIL: Chemists at the University of Alberta determined that they can now measure how much pee is in a pool by measuring artificial sweeteners contained in urine. The average amount of pee in a public swimming pool is 20 gallons and most pool water doesn't get changed for years.\n",
       "1362                                                                                                                                                                                    TIL about Minneapolis Skyway System. A collection of interlinked footbridges that connect various buildings spanning over 15km (9 miles)\n",
       "1144                                 TIL that the most recognazible symptom of rabies, hydrophobia, isn't specific to water but any liquid too, including the infected's own saliva. Being unable to swallow saliva, causes it to accumulate on the mouth, increasing the chances of the host spreading the virus through biting\n",
       "1694                                                                                                                                                                                                                                         TIL that prior to the 1950's, Los Angeles was sometimes pronounced with a \"hard G\".\n",
       "8                                                                                                                                                                                         TIL that there's a Jupiter-like planet named HAT-P-7b where it rains rubies and sapphires. It is located 1,000 light-years from Earth.\n",
       "2794                                                                                                                                        [TIL] Larry Bird is the only person in NBA history to have won Rookie of the Year, Most Valuable Player, NBA Finals MVP, All-Star MVP, Coach of the Year, and Executive of the Year.\n",
       "926                                                                                                                                   TIL at the end of the movie Kingpin, where Bill Murray's character bowls three strikes in a row, Murray actually bowled three strikes on the first take so the crowd's reaction is genuine\n",
       "230                                                                                                        TIL The Simpsons episode \"Bart Sells His Soul\" would originally feature \"Jesus He Knows Me\" by Genesis, but since they could not obtain the rights to use it \"In-A-Gadda-Da-Vida\" by Iron Butterfly was used instead.\n",
       "2807                                                                                                                                                                                                                                                         TIL a United States $20 coin sold at auction in 2002 for $7,590,000\n",
       "2755                                                                                                                                                                     TIL after learning of Napoleon escape from Elba Four Great Powers declared Napoleon an outlaw and declared war not on France but to Napoleon personally\n",
       "2716                                                                                                                                                                                                                                                               Til it takes between two and three years to grow a pineapple.\n",
       "1438                                                  TIL that the first two ironclad ships, one from each side during the civil war, battled for hours because their cannon shots proved entirely ineffectual against each other's iron armor. After a long period of fighting, both ships retreated to their respective ports.\n",
       "33                                                                                                                  TIL at US Supreme Court, the most junior associate justice is charged with menial tasks, such as answering the door of conference room, serving beverages and transmitting orders of the court to the clerk.\n",
       "1773                         TIL that in a episode of the 2016 Docu-series finding hitler that they find a man claiming to have a grandpa who took nazi's to argentina and they gave them a photo of \"old hitler\" which the show claimed was him but the actual dude who was in the photo was Moses Harry Horwitz aka MOE HOWARD\n",
       "44                                                                                                                      TIL About ‘The Triangle of Death’. This refers to the area of the face where if a pimple is popped it can cause an infection under the skin and can eventually lead into the bloodstream causing sepsis.\n",
       "742                                                                                                                                                                              TIL The Story of the Country Mouse and the City Mouse is likely over 2500 years old, having appeared in the earliest editions of Aesop's Fables\n",
       "2663                                                                                                                                                                                                              TIL North America used to be split in half by a \"Western Interior Seaway\" ; T-Rex lived on the western island.\n",
       "751                                                          TIL in 2014 the Ancient Order of Hibernians the largest Irish American organization in the US undertook a large campaign to try to stop retailer Spencer Gifts from selling St Patrick's Day parody merchandise they saw as denigrating to people of Irish heritage\n",
       "655                                                                                                                   TIL legendary football coach Paul \"Bear\" Bryant earned his nickname by agreeing to wrestle a bear for $1 at a carnival when he was 13 years old. The bear bit his ear, and the carnival never paid him $1.\n",
       "1261                                                     TIL that according to Stan Lee, Hulk was originally supposed to be gray. However, an issue at the printer turned him green. Lee wrote \"So as of issue #2, with no explanation, he turned green.\" Now, the green Hulk is one of the most iconic superheroes of all time.\n",
       "63                                      TIL of Erwin Kreuz, a German tourist who planned to visit San Francisco but accidentally disembarked early, and then spent days looking for the Golden Gate Bridge and other Bay Area landmarks in Bangor, Maine. Amused and touched, Maine residents turned him into a local celebrity.\n",
       "576                                                                                                TIL That as a result of the Battle of the Somme, a major World War I engagement that saw some of the most destructive, attritional warfare known to mankind, 25 Somme villages and towns disappeared off of the map..forever.\n",
       "1022                                                                                                                                                                  TIL that this swedish guy rode his bicycle from Sweden to Mount Everest ( 13000 KM ), climbed the mountain ( twice) and rode back to Sweden. Holy shit !!!\n",
       "2213                                                                                                                                                            TIL that Pope Francis is the first pope to be born outside of Europe since Gregory III, who was born in Syria. Pope Francis was born in Buenos Aires, Argentina.\n",
       "2809                                                                                                                                          TIL various sequels to Space Jam were considered after its success, including Spy Jam (starring Jackie Chan), Race Jam (starring Jeff Gordon), and Skate Jam (starring Tony Hawk).\n",
       "2829                                  TIL of Kurt Gödel, one of the most influential mathematicians of the 20th century who proved that there are true statements in math that can never be proven. He had a delusion that people were trying to poison him and refused to eat. He weighed 65 pounds when he died of starvation.\n",
       "2803                                       TIL that one of New Zealand PM, Julius Vogel, was a fantasy writer. In 1898 he wrote an utopian novel about a world where women held many positions of authority. Four years later, after 20 years of suffrage campaign, NZ became the first country to give women the right to vote.\n",
       "2792                                                                                                                                         TIL the egyptian fertility god min,whose symbol was the lettuce and the bull, was often depicted with an erect penis.Lettuce was considered an aphrodisiac among ancient egyptians.\n",
       "324                                                                                  TIL about Tom Garvey, who lived in secret apartment at Philadelphia's Veterans Stadium from 1979 to 1981. When the stadium was empty he would roller skate around the concourse, smoke pot in the dugout and have friends over for parties.\n",
       "1057                                                                                                                  TIL Octaviano Larrazolo was a Republican politician who served as the fourth governor of New Mexico and a United States senator. He was the first Mexican-American and first Latino United States Senator.\n",
       "1397                                                                                                                                   TIL that if one pair of siblings mates with another pair of siblings, the resulting offspring are considered double cousins, sharing twice the genetic material as regular first cousins.\n",
       "2450                             TIL that a genetically modified strain of corn called Minnesota 13 was created to germinate faster in the shorter MN summer. Because of this it also made for one of the best corns for moonshine mash. Minnesota 13 moonshine was widely popular across the USA and Canada during prohibition.\n",
       "1436                                                                  TIL that Nintendo never intended to create Mario. The original arcade Donkey Kong was intended to be a Popeye game. When they lost the license, they came up with their own characters; Mario for Popeye, Donkey Kong for Bluto and Pauline for Olive Oyl.\n",
       "2299                                                                                                                                                                                                                      TIL That the small town of Dalton, Georgia produces more than 90% of the world's functional carpeting.\n",
       "1219                                                                                                                                                                                TIL that Shaquille O’Neal holds the record for biggest total purchase in Walmart history. Shaq spent $70,000 in one stop at Walmart in 2008.\n",
       "538                                                                                                                                                                                                   TIL that the tumbleweed, icon of the American West, is an invasive species, imported in contaminated flaxseed from Russia.\n",
       "1168                TIL The founders of Samsung and LG, Lee and Koo, were close friends since elementary school. In 1968, Lee met Koo and told him that Samsung was planning to enter electronics, which meant becoming LG's direct competitor. Angered, Koo yelled at him and left. Afterwards, the two were never close again.\n",
       "410                                           TIL Emperor Vespasian decided to slap a tax on urine, to be paid by all purchasers of public pee because Urine collectors were a common sight in the public toilets of Ancient Rome. The ammonia-rich urine was used in a number of processes such as tanning and wool production.\n",
       "561                                                    TIL that in 2017, two University of Kentucky students were charged with burglary after crawling through air ducts to steal an exam paper from their tutor's office. They were foiled when their tutor, who was working late, came back to his office and discovered them.\n",
       "1945                 TIL that in the 19th century, French doctor Louis Auzoux created papier-mâché models of the human body. Bodies of hanged murderers served as models for dr Auzoux, which is why his models have a head tilting forward (from the noose) and an erect penis (pressure on the cerebellum caused by the noose)\n",
       "2316                 TIL that the DeLorean car, made famous by Back to the Future (1985) relied on the British Government for about $120 million of its $200 million start-up cost to build a plant in Belfast, Northern Ireland. The DeLorean Motor Company (DMC) went bankrupt in 1982 and approximately 9,000 cars were made.\n",
       "2498                           TIL The poet Charles de Gaulle, uncle of the general/politician of the same name, was fluent in Breton, Welsh, and Gaelic. Additonally de Gaulle wrote extensive poetry in the languages, but never visited a Celtic-speaking country, as his poor health confined him to his apartment in Paris.\n",
       "1509                                                                                                                                                                                 TIL about Fern bars; a style of bars popular in the late 1970’s and the 1980’s. TGI Friday’s and the set of Cheers are based on this style.\n",
       "2913                                                                                                                                    TIL about Jeff Dabe, a competitive arm wrestler, has the biggest recorded ring size of 38, with his finger measuring 4.78\" around. His wrists and forearms are 12\" and 19\" respectively.\n",
       "240                                                                                                                                  TIL the female of the mayfly species Dolania dies within 5 minutes into their adult lives, just enough time to mate and lay eggs. Males fare better, drowning from exhaustion in 30 minutes\n",
       "1323                                                              TIL that bebop legend Dizzy Gillespie ran for president in 1964. Though it started as a joke, he kept it up in part because proceeds from his campaign merchandise went to CORE, the Southern Christian Leadership Conference, and Dr. Martin Luther King, Jr.\n",
       "2318                                                                                                                                                        TIL Kevin O'Leary first got rich by acquiring the companies that created Oregon Trail, Number Munchers, Treasure Mountain, and Where In The World Is Carmen Sandiego\n",
       "1351                                                                                                                                                           TIL Hitler, Stalin, Trotsky, Archduke Franz Ferdinand, Sigmund Freud and Emperor Franz Joseph all lived within 2 square kilometres from each other in Vienna 1913\n",
       "333                   TIL William Melchert-Dinkel; A man joining suicide chats pressuring victims for his 'suicide fetish', got convicted for 3 year for 2 proven cases. After appeals, it was decided encouraging/advising was protected by the First Amendment. Later he was convicted for 1 year for assisting, sat 4 months.\n",
       "2925                                      TIL that before the Xinhai Revolution which overthrew the Qing China, debates between royalists who were largely upper class and revolutionaries who were workers occurred in the Chinese community of Malaya. They debated between constitutional monarchy and democratic revolution.\n",
       "247                                                                                                                               TIL That the early opening credit s for married with children used unused images from national lampoon's vacation movie. If you look real close you can see the trickster coming off the ramp.\n",
       "2473                                                                                                                                                     TIL: \"A recent SEC filing reveals Citadel Securities and a handful of other market-making firms paid Robinhood nearly $100 million in the first quarter of 2020 alone.\"\n",
       "1600                                                                                                                                                                                                                          TIL Maila Nurmi, aka Vampira, had a child with Orson Welles while he was married to Rita Hayworth.\n",
       "1835                                                                                                                                             TIL The bunny costume (Playboy) was the first commercial uniform to be registered by the United States Patent and Trademark Office (U.S. trademark registration number 0762884)\n",
       "1902                                                                                                                TIL about \"persistent pupillary membranes\" which are remnants of fetal membranes that persist as strands across the pupil when the natural atrophy is incomplete, but typically does not cause any symptoms.\n",
       "1075                                                                                                                                             TIL that at the end of the Falklands War, British troops reported white flags in the capital of the Falklands, which are now believed to actually have been somebody's laundry.\n",
       "2225                 TIL that witches are banned from flying above 150 meters in the landlocked African nation of Eswatini. Any witch caught flying their broomstick above the limit faces arrest and a hefty R500,000 fine according to the country’s civil aviation authority. There's no penalty for flying below 150 meters.\n",
       "1044                                                                                                                                TIL about the Antikythera Mechanism. An ancient Greek device used to predict astronomical positions and eclipses decades in advance, and thought to be the World's oldest analogue computer.\n",
       "149                                                           TIL that after janitor James Hampton died in 1964, his massive outsider artwork entitled \"Throne of the Third Heaven of the Nations' Millennium General Assembly\", it was donated to the Smithsonian American Art Museum, where it has been on display ever since.\n",
       "1188                                                                                                            TIL Frank Hayes, a 35-year-old jockey and a horse trainer who had never won a race before, crossed the finish line first while already being dead in the middle of the race due to heart attack on June 4, 1923.\n",
       "1281                                                                                                                                                                                                                 TIL about the British K-Class submarine which was steam-powered and was criticized as having too many holes\n",
       "290                                                TIL dazzle camouflage is a type of ship camouflage which uses complex patterns of geometric shapes in contrasting colors to conceal the ship's range, speed and heading. There is limited evidence that it works but it did catch the attention of artists including Picasso.\n",
       "453                                 TIL in 2013 a Canadian bank robber obsessed with Taylor Swift stole a Cessna 172 from a flight school, crossed the US border and flew to Nashville undetected. The plane crashed at Nashville International Airport, killing him instantly. No one noticed the burning wreck for five hours.\n",
       "1315                                                                                                                                                                                                                                                      TIL - Kodak had weapons-grade uranium in underground lab in New York..\n",
       "1832                     TIL that if a hermit crab finds a shell on the beach that doesn't perfectly fit, it will wait for another to come try it. More hermit crabs will join, forming a line until one fits the found shell perfectly. They will then proceed to trade shells until they all have perfectly fitting new homes!\n",
       "2640                                                              TIL the two eldest brothers of Donnie &amp; Marie Osmond were born mostly deaf. They were never \"official\" members of the family group, but they learned to dance and play instruments alongside their siblings by feeling the vibrations of the musical beat.\n",
       "2177                 TIL Despite being land locked countries, a Czech-Austrian inventor was the first to use a screw type propeller to power a ship. His ship, Civetta of 48 gross register tons, reached a speed of about 6 knots (11 km/h). This was the first ship successfully driven by an Archimedes screw-type propeller.\n",
       "1559                                                                                                                                TIL in 1942 Nazi Germany began working on a long range bomber capable of striking the United States. A lack of materials and the worsening war situation caused the project to be abandoned.\n",
       "586                                                                                                                                                          TIL of the monks and nuns of New Skete, two monasteries in upstate NY known for exceptional breeding/training of German Shepherds and delicious gourmet cheesecakes\n",
       "1345                 TIL Ringo Starr contracted tuberculosis as a child and was admitted to a sanatorium for two years. During his stay the staff made an effort to stimulate motor activity and relieve boredom by giving him a makeshift mallet made from a cotton bobbin that he used to strike the cabinets next to his bed.\n",
       "1706                                                                                                                            TIL Scottish F1 legend Jim Clark won the British Grand Prix despite serious engine malfunction near the end of the race by turning his car off before cornering and back on during the straights\n",
       "1507                   TIL about Moss Hills, an entertainer aboard the cruise ship Oceanos who, after the ship began to sink in violent seas and most of the crew fled in panic, worked alongside fellow entertainers and the cruise director to help passengers evacuate. Not a single life out of the 550 passengers was lost.\n",
       "1183                                                                                                                                                                TIL a Canadian named Dominique Rousselle has spent 1 month every year for the past 20 years traveling to Thailand to provide food and medicine to stray dogs\n",
       "1669                                                                                                  TIL BBC was cautious about producing realistic documentaries about the effects of Nuclear War. They feared a realistic portrayal would result in mass suicide. It only changed in 1982, with cold war tensions increasing.\n",
       "1128                                                                                                                                                                                                   TIL that macOS Catalina was named after Santa Catalina Island, a Southern California island full of non-native BUFFALOES.\n",
       "381                                                                       TIL the word melancholy comes from Greek: µέλαινα χολή - melaina chole - meaning black bile. Melancholia as a concept is derived from ancient or pre-modern medicine, which regarded melancholy as one of the four temperaments present inside humans.\n",
       "2851                                                                                                                                              TIL that iconic musical duo Daft Punk got their name from a scathing review by a British music magazine, in which their previous band was described as “A daft, punky thrash.”\n",
       "422                                                          TIL gyroscopes are unaffected by the rotation of the earth. They will spin on the exact same axis— for us, appearing to turn as they go around the earth’s curvature. This is where the gyroscope gets it’s name: (gyros, circle or rotation, and skopeein, to see)\n",
       "2406                      TIL: Charles Dickens' character Ebenezer Scrooge was inspired by the tombstone of Ebenezer Lennox Scroggie, whose stone read \"Meal Man,\" referencing his profession as a corn merchant. Dickens' misread it as \"Mean Man.\" Scroggie, known as a generous man, led a colorful and even scandalous life.\n",
       "1193                                           TIL Marilyn Monroe’s signature breathy speaking voice was actually a tactic the actress used to overcome a childhood stutter. A speech therapist reportedly trained her to adopt the throaty style, and it ended up becoming one of her standout traits as an actress and singer.\n",
       "124                 TIL Princess Léopoldine Doualla-Bell of Cameroon's Douala royal dynasty, was the world's first Black Air Hostess. The princess began her career aged 17 in 1957 - and by the 1960s was first cabin chief on Air Afrique. Despite her status, she was frequently assaulted by passengers in her line of work.\n",
       "102                                                                                                                                TIL That octopuses, when given the drug Ecstacy, were affected in very similar ways to humans, such as showing an increase in social behavior and more exploratory touching with their peers.\n",
       "2110                                                                                      TIL that the comet that killed the dinosaurs 65 million years ago was the equivalent to released as much energy as 100 trillion tons of TNT, more than a billion times more than the atom bombs that destroyed Hiroshima and Nagasaki.\n",
       "1643                TIL the 1995 short \"multi-facial\" written, directed, produced by and starring Vin diesel was made on a $3000 budget and shot over the course of three days. It aired at Cannes film Festival later that year and caught the eye of Steven Spielberg who would then go on to cast him in Saving Private Ryan.\n",
       "994                                                                                                                                         TIL I learned the enterobacteria Salmonella was named in honor of veterinarian Daniel Elmer Salmon, who spent his career studying animal diseases and how they impact public health.\n",
       "2098                                                                                      TIL that a sports writer wrote a rude and snarky article about the WNBA even though he had never been to a game. He was confronted by a WNBA star who chided him and invited him to watch her play. Two years later they were married.\n",
       "135                                               TIL In 2018, a multi-award winning journalist was outed for fabricating news articles in Der Spiegel, a German publication, largely focused on American life, including one article claiming the town of Fergus Falls, Minnesota erected a sign that read “Mexicans Keep Out”.\n",
       "811                                                                                                                               TIL that many public libraries in the US participate in Inter Library Loan (ILL). That means you have access to virtually any book, journal,magazine or dvd held by any library in the country\n",
       "1433                                                                                                                                                                                                  TIL there is also an almost complete (85%) T-Rex skeleton in Taiwan, owned by a private collector on display at his museum\n",
       "2351                                                   TIL Patricia Demauro walked to a craps table at Atlantic City's Borgata Hotel Casino and Spa with $100. Four hours and 18 minutes later, Demauro had rolled the World Record for Craps Rolls. She rolled 154 times, the odds of accomplishing this is 1 in 1.56 trillion.\n",
       "1215                                                     TIL that the University of Oxford is nearly 700 years older than the USA, 400 years older than the English Language, 300 years older than Machu Picchu, 200 years older than Aztecs, 150 years older than Easter Island heads and 100 years older than the Magna Carta.\n",
       "2292                                                           TIL: The world's first penis transplant occurred in 2006. However, it was not \"successful\", as the man and his wife had severe \"psychological\" issues with it and they had to cut it off 2 weeks later. They found there was no issue with the body accepting it.\n",
       "2942                                                                                                                                        TIL that in 1946 Disney made a 10-minute short film called The Story of Menstruation. It was commissioned by Kimberly-Clark and was a part of American health ed classes of the era.\n",
       "1468                                                                                                   TIL that although Philippine shamans (Babaylans) are mostly regarded as the people with the highest position in pre-colonial Philippine society, it is predominantly held by females, or at often times, 'feminized men'.\n",
       "1049                                                                                                                                                                                                                                                   TIL \"area codes\" for telephone numbers were originally called \"STD codes\"\n",
       "2117                                                                                                                                                 TIL that Edward Munch created more than just one version of The Scream 😱, including one made from “crayon on cardboard” that currently resides in the Munch Museum in Oslo.\n",
       "380                                                                                                                                                                TIL about Suriname sea toad. A species of toad that collects its eggs on their back, covers it with their skin and litterally gives birth through their skin.\n",
       "915                                                                TIL that U.S. president Zachary Taylor passed away after eating far too many cherries and drinking milk at a Fourth of July party in 1850. He died on July 9th from gastroenteritis. The acidic cherries along with the milk is believed to have caused this.\n",
       "611                                                                                                                       TIL that Sirocco, the Kakapo that gained global fame by his frisky encounter with zoologist Mark Carwadine, is New Zealand's official Spokesbird for conservation (partly because of said global fame)\n",
       "418                                                                                                                       TIL that our bodies age through the same process that rusts metal, oxidation which is a very slow burn. That means that the same air we breathe is also killing us very slowly by burning us to death.\n",
       "2456                                                            TIL that the world's smallest unit of time is zeptosecond, which is trillionth of a billionth of a second, which means 1zeptosecond=0.000 000 000 000 000 000 001second and an interesting fact is a photon takes 247 zeptoseconds to cross a Hydrogen molecule.\n",
       "783                                                                                                                                                                   TIL The Beatles were all still in their 20s when they broke up. George Harrison was 26, Paul McCartney was 27, John Lennon was 28, and Ringo Starr was 29.\n",
       "248                                       TIL There is a ranking system called the Kardeshev scale to classify other possible alien civilizations on a 1 - 4 based on their ability to harness their own planet (1), solar system(2), galaxy (3), and then multiple galaxies (4). Humans are ranked at about 0.75 on this scale.\n",
       "996                           TIL about perpetual stew, a stew containing whatever is on hand and added to as needed. Constantly kept above the “danger zone”, it can be in the same pot for years if always above 140f, creating a perpetual cycle of adding and removing from it. It was often a staple of medieval inn meals.\n",
       "447                                                                                                                                                                                             TIL During WW2 Betty White Joined The \"American Women's Voluntary Services\". She Transported Military Supplies Around Hollywood.\n",
       "1172                                                                                                                                                                                                  TIL that seeing guide horses (miniature breeds) were created by a woman that pleaded guilty of starving 22 horses to death\n",
       "881                                                                                                                                                                                     Today I learned the story of a 21 year old welder named Fred. Fred Koramatsu fought against concentration camps in America in the 1940s.\n",
       "1632                                                                                                                                TIL Thaumatin a natural sweetener and flavor enhancer is 2000 times more potent than sugar. It is produced in the katemfe fruit in response to an attack upon the plant by viroid pathogens.\n",
       "654                                                                                                                                                                                                                TIL that an estimated 120,000 prisoners in the United States prison system have been wrongfully incarcerated.\n",
       "2087            TIL of Diego, a tortoise whose high libido helped save his species. He &amp; E5 (another male) brought the population from 15 to 2,000, and now the species is considered self-sufficient. After 80 years in captivity, Diego is now retired in the Galápagos, where he'll spend the rest of his life having sex\n",
       "787                                       TIL Composer Franz Liszt's hotness is a matter of historical record. Such was his beauty, talent and benevolence, the Hungarian pianist was said to bring about states of 'mystical ecstasy' and 'asphyxiating hysteria' in his fans. Many doctors felt he posed a public health risk.\n",
       "589                                                                                                                                    TIL how Pringles are made. They start off with potato dough, the dough is cut into potato-dough cookies, molded into curves, deep-fried, blown-dried, salted, stacked into cans and sold.\n",
       "2244                                                                                                                                                                                   TIL Steve Jobs purchased a company from George Lucas in 1986, named it \"Pixar\", and its first client after being incorporated was Disney.\n",
       "1520                                                                                     TIL Buddy Holly asked his wife out on their first meeting and proposed to her on the second. His manager disapproved of the relationship saying it would upset his female fans, so during his tours she was presented as his secretary.\n",
       "2915                                                                                                                                                                                                                                                                         TIL becoming a librarian requires a master's degree\n",
       "1779                                                                                                                                                                                                                             TIL owls make almost no noise from flying, even when tested in a room with multiple microphones\n",
       "2714                                                                                                                                                                                                      TIL the documentary \"POM Wonderful Presents: The Greatest Movie Ever Sold\" was financed entirely by product placements\n",
       "425                                                                                                                                                                  TIL that although it’s cousins in North America are very timid, Norwegian Lemmings are extremely confrontational, and have even been known to kill weasels!\n",
       "2902                                                                                                                                                   TIL the reason Fear Factor was cancelled was because they had a challenge where the contestants drank donkey semen. It wasn’t even the final test to win the grand prize.\n",
       "812                                                                        Til about Scott Flansburgh's (The Human Calculator) 13 month calendar. It is a solar 13-month calendar of 4-week months with the extra day being the first day, or rather the zeroth day of the year and belonging to the first month but to no week.\n",
       "2732                                                     TIL horse-dawn Snow Rollers were invented in the late 1800s to compact snow covered roads in the White Mounts of New Hampshire, enabling carriages to be used in the winter. These became today’s steamrollers/road rollers, which flatten and smooth out new pavement.\n",
       "1893                 TIL baseball announcer Phil Rizzuto publicly maintained he was tricked by Meatloaf when he recorded \"Paradise by the Dashboard Light\" and did not know the song was about sex. But Meatloaf states Rizzuto did know the truth, but felt like he had to deny it after being confronted by his parish priest.\n",
       "437                                                                                                         TIL that when one gram of antimatter collides with one gram of its matter, an explosion occurs, generating 4.184 x 10^12 Joules. This represents 40% of the energy released by the Hiroshima atomic bomb detonation.\n",
       "1620                             TIL In Greek Mythology, when Cronus castrated (his father) Uranus, from Uranus' blood which splattered onto the earth, sprang the Furies, the Giants, and the Meliae. Cronus threw the severed genitals into the sea, around which \"a white foam spread\" and \"grew\" into the goddess Aphrodite.\n",
       "107                                                                                                                                                                                                         TIL That Macau is the most population dense area on earth, with a population density per square kilometer of 21,458.\n",
       "1471                                               TIL that 'John Wick' (2014) was originally titled 'Scorn' but Keanu Reeves kept telling everyone that he was starring in a movie called 'John Wick' so the studio decided to roll with that instead because it was four to five million dollars in free advertising for them.\n",
       "584                                                                              TIL that greater social integration during wartime as the society struggles toward a common cause leads to a decline in suicide, especially for men. In Germany the male suicide rate fell from 34/100,000 before the war to 21 during the war.\n",
       "1108                                                                                                                                                        TIL that One of Harvard College’s first buildings was a brewery. The college built it so that students would have a good supply of beer to drink in the dining hall.\n",
       "2025                                         TIL of Rev. Ronald (Doc) Myers, Sr., MD., he was the founder of the National Juneteenth Observation Foundation. His efforts have resulted in the recognition of Juneteenth as a state holiday or state holiday observance in 45 states. But sadly passed away in September of 2018.\n",
       "1220                                                                                                                  TIL lyricist Lorenz Hart, who wrote many famous hits including Blue Moon ,The Lady Is a tramp, and My Funny Valentine, hated himself &amp; died of pneumonia from exposure in 1943, after drinking heavily\n",
       "2535                                                                                                                                                                                       TIL that the Kowloon Walled City, an area of Hong Kong, was actually never leased to the British and always remained a part of China.\n",
       "2166                                                                                                                                                                                                                                              TIL that 6 million pounds of space dust settles on earth's surface every year.\n",
       "1197                                                                                                                                                                                                     TIL that wine merchant Bill Sokolin accidentally broke a bottle of Thomas Jefferson's wine that was valued at $519,000.\n",
       "1073                    TIL that in 1903 Horatio Nelson Jackson, Sewall K. Crocker, and Bud the Pit Bull became the first people to drive across the US in a 20 HP Winton touring car. The trip took 64 days, it started in SF and ended in NY. By the end of the trip there were only a few original parts left on the vehicle.\n",
       "90                                                                         TIL after the Reagan assassination attempt, the top aides didn’t have the briefcase containing the codes for launching nuclear missiles, the Veep was unavailable, &amp; no-one knew what to do. A Soviet sub then moved closer than usual to the US.\n",
       "1650                                                                                                                                                                              TIL a Penn professor designed Ouroboros Steak from human mouth cells and expired blood from blood banks as satire of lab-grown meat production\n",
       "2916                                              TIL sweatshirts were invented in 1926 by Alabama football player Benjamin Russell Jr. as a more comfortable alternative to abrasive wool for practice jerseys. They were made by the Russell Manufacturing Company, founded by Russel Sr. and known today as Russell Athletic.\n",
       "624                                                                          TIL George C. Scott agreed to star in \"Patton\" only if they used an earlier discarded script written by Francis Ford Coppola. Coppola said \"I had this very bizarre opening where he stands up in front of an American flag and gives this speech\".\n",
       "69                                                                        TIL that in 1867, Van Zandt County, located in northeast Texas, decided to secede from the United States, as well as Texas. While celebrating their newfound independence, many citizens became intoxicated, and the U.S. Army easily regained control\n",
       "1272                 TIL in 2007 that Philip Ray Workman requested a vegetarian pizza for his last meal, and that the pizza be given to homeless person. The prison refused but due to the media spreading word of his request, thousands of pizzas were donated to TN homeless shelters, with one shelter receiving 170 pizzas.\n",
       "932                                      TIL of the Diomede Islands which are located in-between Alaska and Siberia. Despite the two islands only being 2.4 miles apart, Big Diomede (Russia) is 21 hours ahead of Little Diomede (USA). Because of this, the islands are sometimes called Tomorrow Island and Yesterday Island.\n",
       "293                                                                                                                                                                                                                 TIL In 2005, Roger Federer played tennis with Andre Agassi on a helipad located 1,053 feet above the ground.\n",
       "2862                                                                                                                                            TIL: Dustin Diamond died in February only three weeks after being diagnosed with cancer. The Peacock \"Saved By The Bell\" reboot plans to dedicate an episode to him in season 2.\n",
       "468                                                  TIL that the lyrics in Le Freak by CHIC originally contained the words “fuck off” rather then “freak out”. They got the idea after being denied entry to a club and the bouncer told them to “fuck off”. The lyrics were changed since they couldn’t say fuck on the radio.\n",
       "1978                                                                        TIL that Tchaikovsky disliked having his voice recorded. For one recording, he was asked play something on a piano or at least say something. Tchaikovsky refused, saying, \"I am a bad pianist and my voice is raspy. Why should one eternalize it?\"\n",
       "432                                                                          TIL in 2012 the President of Malawi's dead body was flown to South Africa \"for medical treatment\" for a fatal heart attack, in an unsuccessful attempt to hide his death and organize a coup while preventing the Vice President from taking office\n",
       "2118                                                                                                                                TIL rosemary is poisonous in large quantities. Rosemary is up to 0.5% camphor by weight; 400 grams of rosemary contains up to 2 grams of camphor, which is enough to cause serious toxicity.\n",
       "367                                                                                            TIL pirates accepted gay marriage and often had relationships with other male pirates for protection and companionship. Pirates enmeshed in matelotage shared everything from affection and other sexual partners to possessions.\n",
       "1074                                                                                                                                                                                                                 TIL that along with the Captain, ships sometime need a Pilot to navigate through dangerous/ unknown waters.\n",
       "2843                  TIL about Yun Sim-deok, known as Korea's first soprano. Her song \"Hymn of Death\" became Korea's first pop song; selling 100,000 copies after her death in 1926. Yun had been having an affair with the married writer Kim Woo-jin and the pair committed suicide together by jumping off a passenger ship.\n",
       "907                                                           TIL that several former Nazis, including Adolf Heusinger, who served as acting Chief of Staff of the Army for Nazi Germany, and Johannes Steinhoff, who was one of the highest scoring Luftwaffe pilots, took high level positions within NATO after World War II.\n",
       "2344                                                                                  TIL that during the middle ages in France, a nun started to uncontrollably meow and the behaviour quickly started spreading to the rest of the convent weirding out the surrounding commiunities until they were threathened to be whipped\n",
       "555                                                          TIL that 23% of the world's international borders are rivers. South America stands out in this regard with almost half of it's international borders being marked by rivers. The longest river border is the part of the US-Mexico border marked by the Rio Grande.\n",
       "2462                                                                                                                          TIL in ancient times some inuit people did not have access to enough wood for their sleds and often used frozen fish wrapped in skins in place of runners. They used blocks of ice to reduce drag.\n",
       "2380                  TIL In 1932 Admiral Harry E. Yarnell launched a simulated carrier attack on Pearl Harbour, in almost exactly the same way as the actual Japanese attack 10 years later. Declared a total success by umpires, Yarnell warned of the vulnerability. Naval Intelligence knew Japanese writers reported on it.\n",
       "1992                                                                                                                                                      TIL about the “American Plan,\" under which thousands of women were forcibly detained, examined for STIs, and imprisoned on the vague suspicion that they were immoral.\n",
       "2024                                                                                                                              TIL that \"pog\" was a copyrighted word for a type of fruit juice made by the POG company, and the caps used from the juice were used to play a 1990s game called \"Milk Caps\" also called \"Pogs\"\n",
       "1420                 TIL the American Humane Association started overseeing all film productions involving animals because of the controversy surrounding animal abuse on the set of 'Heaven's Gate', including cows being slaughtered to provide blood and 'fake guts' for the actors, and a horse being blown up with dynamite\n",
       "2698                                                                                                                                                                                     TIL That the potential for the most disastrous earthquake in the United States isn't in California, but rather near Memphis, Tennessee.\n",
       "1665                                                                                                                                                      TIL of Jim Abbott, who played ten seasons in Major League Baseball despite being born with one hand. In 1993, he pitched the eighth no-hitter game in Yankees history.\n",
       "2828    TIL In the 1936 Olympics two Japanese pole vaulters (Shuhei Nashida &amp; Sueo Oe) tied for second. Declined to compete against each other, Nashida was awarded silver and Oe bronze. On return to Japan they had the medals cut in two &amp; joined together to make two 'friendship medals' out of silver &amp; bronze\n",
       "748                                                                                                                                                               TIL in 1990, a man scaled an airport wall without a stitch of clothing, fought off four security guards, stole a Jeep, and drove it into a running jet engine.\n",
       "1181                                                                                                                                      TIL about the Crypt of Civilization, one of the first modern time capsules, sealed in 1940 in Georgia. Modeled after the Egyptian tombs of the pharaohs, it will be opened in 8113 AD.\n",
       "2778                                                                   TIL of “Who Killed Bambi?”, an unfinished film meant to introduce the Sex Pistols to America rather than releasing a single or album (\"They play music and they write songs but they are more of a social event.”) The script was written by Roger Ebert.\n",
       "2944                                                                                                                                                                                                                   TIL that the human brain can process and correctly identify images seen for as little as 13 milliseconds.\n",
       "1703                                                                                                                                                                                        TIL in 1999, British network ITV aired a remake of That 70's Show called Days like These that was cancelled after only six episodes.\n",
       "471                                                                                                                                                                                                                                 TIL about the Pig War (1859). The US and Canada almost had a war because someone shot a pig.\n",
       "2886                                                                                                                                                                                                                                                              TIL the cost of the U.S. Air Force's F-35 helmet is US$400,000\n",
       "2654                TIL that in the 2004 MLB postseason, Red Sox pitcher Curt Schilling played through two critical games with an acute ankle injury. The injury was so severe that his white sock became visibly soaked with blood. First sock was then sold at an auction, and the second sock was placed in the Baseball HoF.\n",
       "1867                                                         TIL that Zelda Fitzgerald believed that her husband, Francis Scott, was likely having an affair with Ernest Hemingway. To prove that he was not gay, F. Scott bought condoms and decided to have sex with a prostitute, which flew Zelda into an even greater rage.\n",
       "354                                                                                                               TIL in 2003 the U.S. Defense Intelligence Agency created a set of playing cards to help the military identify key Iraqi leaders. To date, out of the 52 leaders carded, 47 have been either killed or captured\n",
       "251                                                                                                                                                                                                                                                            TIL: Elephants without tusks evolve quickly due to ivory poachers\n",
       "1027                 TIL that the US Army has historical protocols associated with using a sword to cut cake. Traditionally, the oldest and youngest soldiers are chosen to cut the cake in some ceremonies as a way of linking the past with the future.Swords dating from the Revolutionary War are often used at such events.\n",
       "2099                                                                                                                                                                         TIL: The amount of disposable diapers the US uses every year would make a stack high enough to reach the international space station over 75 times.\n",
       "2445                                                                                                          TIL about Alexander Courage. He wrote the theme song for Star Trek TOS. Gene Roddenberry wrote lyrics for the song without any intention of using them so that he could get half of the royalties as \"co-creator\".\n",
       "977                                                                                                                                                    TIL about UNICOR, they a government company that uses federal prisoners paid between 23¢ and $1.15 an hour to produce almost all the furniture seen in federal buildings.\n",
       "2899                                                                                       TIL In the 1800s and early 1900s, Mozart's oboe concerto was presumed to be lost and was rediscovered in 1920. The first movement of Mozart's unfinished Oboe Concerto in F major was completed by a scholar and musicologist in 2015\n",
       "292                                                                                                                                                                                                          TIL that the beautiful \"watermelon snow\" is a phenomenon caused by algae which enjoy living in freezing cold water.\n",
       "1962                                                                                                                                                            TIL that in the event of The Queen's death (Operation London Bridge), Radio New Zealand stations are specifically instructed not to play music by the band Queen\n",
       "889                                                                                                  TIL The US Navy maintains 50k acre Constitution Grove at NSWC Crane, Indiana, to have white oak timbers for the lone wooded sailing ship in the Navy - USS Constitution built in 1797 and commissioned by George Washington\n",
       "1921                   TIL that in 1940, on the way to their invasion or Ardennes, France, the massive German army got into a major traffic jam. French reconnaissance pilots spotted it and reported it to French High Command who promptly said \"that can't be true\" and ignored it. An aerial attack could have ended the war\n",
       "1268                                                          TIL about Operation Christmas Drop. Every year around Christmas, the US Air Force drops toys, school supplies, and humitarian aid over the islands of Micronesia. It has been running since 1952, making it the longest-running humanitarian airlift in the world.\n",
       "1454                                                                                                                     TIL that between 1950 to 1970, The Scottish government coerced about 60,000 Scottish mothers into giving up their children simply because they were unmarried. The children were given up for adoption.\n",
       "2218                                                                                                                                                                                TIL Denmark and Sweden holds the world record for most wars fought between two countries, with around 30 wars fought since the 15th century.\n",
       "1244                  TIL that in 427BC Athens sent a ship to Mytilene which had instructions to kill all adult men in the city-state. The next day, Athenians voted to change their decision - a second ship was dispatched. Racing through the night, it reached Mytilene just in time to prevent the massacre from happening.\n",
       "1086                                                                                                          TIL The Babylonians used Base 60 because they would count to 12 on one hand by pointing their thumb at each finger bone, then would raise a finger on the opposite hand each time they reached 12 - a total of 60.\n",
       "613                                  TIL on 3 December 1976, seven gunmen attempted to assassinate Bob Marley. During the trial, one of the gunmen claimed that the CIA hired them to do it, as Marley backed the left wing party PNP rather than the right wing LP. Two days later the injured Marley gave a 90 minute concert.\n",
       "2465                                                                                              TIL Potato Head has many different versions including Star Wars Luke Frywalker, Darth Tater, R2-POTATOO, C-3PotatO, Mashter Yoda, Transformers Optimash Prime, Indiana Jones Taters of the Lost Ark, and Iron Man Tony Starch.\n",
       "1737                                                                                                                                                                                                                                                   TIL that the human eye can distinguish about 10 million different colors.\n",
       "2093                TIL that Ronald Reagan was so indelibly type-cast as the 'great loser' in films that when Jack Warner, movie magnate and his longtime employer, was first apprised of the actor's ambition to run for Governor of California, he protested: \"No, Jimmy Stewart for Governor. Ronald Reagan for Best Friend.\"\n",
       "2860                                                                                                                                                         TIL About Comair Flight 5191, where the pilot took off from the wrong runway causing a crash where 49 out of 50 passengers to die. The lone survivor was the pilot.\n",
       "1002                          TIL, one of the founders of JPL (Jet Propulsion Laboratory) also started AeroJet in which he sold his shares to finance the occult, Ordo Templi Orientis. He was also friends with L. Ron Hubbard whom took all his money and his girlfriend to finance his first book, thus creating Scientology.\n",
       "1421                                                                                              TIL that men also have hormonal cycles albeit not to the same degree as women but testosterone rises and falls over the course of a day or multiple days and can cause similar symptoms regarding ones mood and mental health.\n",
       "505                                                                                                                                                TIL - In the 1980's, Bob Crandall, the head of American Airlines, saved $40,000/year for the airline by removing just one olive from every dinner salad served to passengers.\n",
       "2699                                                                                                                         TIL of Adacylidium mites. The females mate with their brothers inside their mothers, then eat their way out of their mother to find food. Four days later, their own daughters do the same to them.\n",
       "1419                                                                                                                                                                                  TIL while in 1988 only 30 countries had laws restricting anti-competitive conduct by companies, by 2008 this number grew to 111 countries.\n",
       "1608                                                                                  TIL about Bessie Stringfield, was an American motorcyclist who was the first African-American woman to ride across the United States solo, and was one of the few civilian motorcycle dispatch riders for the US Army during World War II.\n",
       "106                                                                                                                                                                                                                     TIL the concept for having a “credit score” to judge if you could receive a loan didn’t exist until 1989\n",
       "2641                            TIL tiny lobster larvaes that are nearly see-thru travel around on jellyfish that they attach themselves to in order to eat them alive. People studying lobster turds found out venomous jellyfish stingers are wrapped in a protective membrane during snacking to protect the lobster's belly.\n",
       "2388                TIL of the Tumu Crisis. Centuries after the fall of the Mongol Empire, the northern tribes reunited and launched an invasion of the Ming Dynasty. The small army defeated tens of thousands of Chinese soldiers and even captured the Ming Emperor, but their demands were simply ignored until they gave up\n",
       "2201                     TIL on steam powered paddle ships, visibility was greatly hindered by the two large arches on either side of the ship. To combat this, a literal bridge would be built between them so the captain and helmsman could still get good visibility, thus why a ship's command center is called a \"bridge\".\n",
       "2833                 TIL while being disrespectful passing a funeral after winning the 1951 Gaelic Football final, the Mayo county team were placed under curse to not win again so long as the players live. Mayo have not won since, losing by five points to Dublin today, and their three previous finals by only one point.\n",
       "1033                                                            TIL Shia LaBeouf came under heavy fire for plagiarizing his directorial debut in 2012. When he publicly apologized to the original artist, Dan Clowes, people discovered that Shia's apology was itself plagiarized verbatim off a Yahoo Answers post from 2010.\n",
       "1786                                                                                                                                                                                         TIL that before Fibber McGee &amp; Molly, the stars were on a radio show called Smackout that's considered the first modern sitcom.\n",
       "1350                                                                                                                                                            TIL U.S. stamps may not visibly depict any person who has been dead for less than 10 years, except for ex-Presidents who may appear one year after their demise.\n",
       "1695                                                                                                                                             TIL that the term kamikaze means \"divine wind\" and gets its origins from two typhoons in 1274 and 1281 wiping out Mongol warships invading a severely outmatched Japanese army.\n",
       "416                                                                TIL: Charles Lightoller, formerly the 2nd officer of RMS Titanic, also helped with the evacuation of Dunkirk during WW2, rescuing over 127 servicemen on his small yacht, \"the Sundowner\". He inspired the character, \"Mr. Dawson\", in the 2017 film Dunkirk.\n",
       "691                                             TIL about Clair Engle, the senator who had himself rolled into the senate with terminal brain cancer, so he could vote on the Civil Rights Act. He couldn't speak due to the cancer so, when called, he pointed to his left eye to signal his vote ('Aye'). He died weeks later.\n",
       "564                                                                                                                                     TIL that Earth Tides rise and fall by up to 14 inches. Entire cities rising and falling as the Moon pulls on the Earth. The Twin Towers in New York would also tilt by up to two inches.\n",
       "478                                                                                                   TIL that a large number of major luxury sunglasses and prescription glasses brands, including Chanel, Ray-Ban, Versace, Giorgio Armani, Prada, and Burberry are manufactured by a single Italian company called Luxottica.\n",
       "179                 TIL about The Darién Project - an attempt by an independent Scotland to colonise Central America in the late 1690s by establishing New Caledonia. The 'Empire' failed resulting in thousands of deaths, Scottish nobility almost being bankrupted, and ultimately the Union of England and Scotland in 1707.\n",
       "142                     TIL about Joseph Beuys, a german artist from the 20th century. In 1965 he performed for three hours, wandering about the gallery while cradling a dead hare, his face covered in honey , talking to the animal about his paintings. The public was let in after 3 hours of watching through the windows.\n",
       "1046                                                                                                                                                                               TIL There is a genus of spiders named after the cast of the film Predator (1987) due to the spiders' face resembling that of a predator alien\n",
       "1554                                                                                                                                                                               TIL that before Led Zeppelin’s formation, Jimmy Page was the session guitarist in John Paul Jones’ recording studio for at least 20 hit songs\n",
       "605                                                                       TIL about the Niños Héroes, where six cadets died defending Chapultepec Castle in Mexico City. Legend has it that the last of the six, Juan Escutia, leapt to his death wrapped in the Mexican flag to prevent the flag from falling into enemy hands.\n",
       "2937                 TIL that a factor in the fall of Constantinople was a huge cannon called Basilica that was over 8m long, .75m in diameter, and could fire 270kg stone balls over 1.5km. Basilica took 3 hours to reload, and collapsed under its own recoil after 6 weeks of use. It took 60 oxen and 400 men to transport.\n",
       "93                                                                                                                                                     TIL about Don Johnson, who won $15 million in blackjack against three Atlantic City casinos on 2009 by using promotional offers to gain a mathematical edge over the bank\n",
       "1084                                                                                                                           TIL the Russian biplane An-2 \"has no stall speed\" - if the aircraft dips below a certain speed, spring-loaded slats pop out of the wings and the aircraft will \"sink at the rate of a parachute\".\n",
       "1718                                                                                                                                                                                                  TIL, Liverpool became the first English based club to win all 6 of their group stage matches in the UEFA Champions League.\n",
       "2834                                TIL Queen Victoria was buried in a white dress and her wedding veil, alongside many mementos. Her late husband's dressing gown and a plaster cast of his hand was placed beside her, and a lock of her favourite servant John Brown's hair along with his photo was placed in her left hand.\n",
       "472                  TIL about a hunter who won an auction to kill an endangered black rhino in Namibia. In this controversial practice, several older rhinos that are no longer able to breed but still pose a deadly threat to younger males areIDd. The proceeds are meant to go toward anti-poaching and conservation effort\n",
       "1297                                                                                                                                                                                           TIL that the guitarist on “Black Betty” by Ram Jam also played on another one-hit wonder, “Green Tambourine” by the Lemon Pipers.\n",
       "228                                                                             TIL The recorder was very popular during the Renaissance before the transverse flute came into use. However, the recorder basically stopped developing during the early Baroque Period, just when the transverse flute was growing in popularity\n",
       "2488                                                                                              TIL there is a special name, \"Errors, Freaks and Oddities\", or EFO, for postage stamps that have had some mistake in their creation, and it can increase their value. Some of them are the most expensive stamps in the world.\n",
       "110                                                                                                                                      TIL that the notorious Colombian drug lord Griselda Blanco embraced the nickname “The Godmother” and even named her son “Michael Corleone Blanco” after the character in the 1972 film.\n",
       "2245                                                                                                                          TIL about CANZUK, a theoretical union between the UK, Canada, Australia and New Zealand, highly popular within each country, polling between 68% (UK) and 76% (Canada) for such a union to happen.\n",
       "2451                                                                        TIL that NIST was assigned the job at the US federal level of investigating structural failure in large buildings in 2002 as a result of the 9/11 attacks. (I only knew of NIST as the guys who run the atomic clocks and keep reference standards.)\n",
       "2063                                         TIL Trepanning the act of cutting a hole in a persons skull dates back at least 8 thousand years. It is the oldest known form of surgery, and it is still in medical use! Today it is called a craniotomy and it is used to access the brain for surgery, or to alleviate swelling.\n",
       "1539                                                                                        TIL In 1599 Will Kemp resigned from Shakespeare’s company. To prove how popular he was, he bet he could perform a morris dance from London to Norwich over the course of 9 days, a distance of 100 miles. It took him about a month.\n",
       "730                                                                                                                       TIL: According to a 2017 study, the Brazilian Butt Lift (taking fat from elsewhere and injecting it in the buttocks) is one of the most dangerous cosmetic surgeries with 1 in 3,000 leading to death.\n",
       "1544                                                                                                     TIL the great-great-grandson of Charles Dickens, Gerald Charles Dickens, is an actor who has written and performed one-man shows of Great Expectations, Nicholas Nickleby, A Tale of Two Cities, and A Christmas Carol.\n",
       "272                                                                                                                                                      TIL that upon the death of the Inca emperor Huayna Capac in 1527, as many as 4,000 servants, court officials, favorites and concubines were killed as human sacrifices.\n",
       "896                 TIL the opening crawl to Star Wars begins with a storybook-esque narration (\"A long time ago in a galaxy far, far away....\") because George Lucas first imagined his films as stories being told by an ancient race of immortals. The immortals were written out for early films, but this vestige remained.\n",
       "2664                         Today I learned about the State of Muskogee. A short lived sovereign state in Florida designed to protect the Native Americans of the Seminole and Muscogee tribes. The leader, William Augustus Bowles, envisioned it to grow to also protect the Cherokee, Choctaw, and Chickasaw tribes as well.\n",
       "336                          TIL that for 33 years scientists have been studying a common ancestor populations of E. coli in lab constant conditions which now surpasses 60,000 generations. In 2003 the bacteria began to consume a previously ignored carbon source that had been present in their environment from the start.\n",
       "1862                                                                                                                                                                                      TIL that Pauline Parker was convicted of murdering her mother and later became deputy headmistress of a special needs school in the UK\n",
       "625                                                                                                                                              TIL that workers in wine cellars used to wear iron face masks because 20-90 percent of sparkling wine bottles would explode due to instability, often causing a chain reaction.\n",
       "1335                                                                                                                                                    TIL The name for nightingales has been in use for over 1,000 years. It's recognizable even in its Old English form, \"nihtegale\", which translates to \"night songstress\".\n",
       "1894                                                                                                                                                                                                                                         TIL, Craig Mazin, the writer who co-wrote Scary Movie 3 and 4 also wrote Chernobyl.\n",
       "486                                                                             TIL that in the 1970s, American Kitchen Foods released 'I hate peas!', which were just peas disguised in a fry-shaped format to get more kids to eat peas. The product, along with the rest of the 'I hate' line, was not well-received by kids.\n",
       "1765                                                                    TIL that before the introduction of psychoactive drugs in the 1950s, all psychiatric hospitals had seclusion chambers with cushion lined walls. The cushions prevented the secluded patients from hurting themselves by hitting their head on the walls.\n",
       "286                   TIL the Statue of Liberty almost wasn't built in New York because the governor wouldn't use city funds to build its pedestal, but Joseph Pulitzer's newspaper articles inspired 160,000 people to donate. Though a majority of donations were less than $1, they raised over $100,000 in just five months.\n",
       "2275                       TIL that Bill Watterson, creator of Calvin and Hobbes, refused to license his characters for toys or other products. He made an exception for a 1993 textbook, Teaching with Calvin and Hobbes, which is now so rare that only 7 libraries in the world have copies. A copy sold for $10,000 in 2009.\n",
       "307                                                                                                                                                                                           TIL That under the Wildlife and Countryside Act 1981, it is explicitly illegal in Britain to use a machine gun to kill a hedgehog.\n",
       "2029                                                                                                                                     TIL: The Pittsburgh Steelers didn't have a winning season for their first ten years, and not until they had merged with the Philadelphia Eagles during WWII, playing as the \"Steagles\".\n",
       "254                                                                                                                                                                                                    TIL Actress Courtney Cox was the first person to use the word “period” (for menstruation) on TV, in a commercial in 1985.\n",
       "1370                         TIL There exists something such as Breeding Snakes With Special Patterns .Justin Kobylka specialises in breeding snakes this way, which he later puts up for sale. Such patterns are a result of recessive mutations that despite occurring naturally are an extremely rare phenomenon in the wild.\n",
       "2845                                                                                                                                                                     TIL: A US businessman in dispute with the Department of Motor Vehicles (DMV) paid his $3,000 tax bill using five wheelbarrows containing 300,000 coins.\n",
       "71                                                                                                                                                                                      TIL the Law and Order \"clang\" sound is actually 6-7 separate sounds, including the sound of 500 Japanese men stomping on a wooden floor.\n",
       "1488                                                                                                             TIL that in 1813 after disastrous Russian campaign Allies offered peace to Napoleon but under condition that France would be reduced to pre-revolution borders, Napoleon refused and in the end lost everything\n",
       "711                                                                                                                                                                                                                           TIL that the population of China is equivalent to US + Brazil and 63 other more countries combined\n",
       "1020                                                                                                                                                                        TIL about the Secret Court of 1920, where students at Harvard were investigated for engaging in homosexual activities. It was unreported until 2002.\n",
       "1186                                                                 TIL about the 1964 election for the Illinois House of Representatives, where a failure to pass a redistricting map for the state meant all 177 seats were elected at the statewide level. Voters got 10 minutes to mark their ballot in the election booth.\n",
       "2232                                                                                                                                 TIL Ronald Reagan was an announcer for the Chicago Cubs in the 1930s until he landed a 7-year movie contract after taking a screen test while traveling with the Cubs in California in 1937\n",
       "1566                                                                                                                                                                                                      TIL: From cereal boxes to mailboxes, between 1993 and 2006 AOL sent over 1 billion CDs with their free trail software.\n",
       "2370                      TIL Thanks to British Intellgence Services, the Soviet Union knew where and when the German attack at Kursk was going to take place in 1943. The Soviets knew months in advance that it would fall in the Kursk salient, and built up a large network of fortifications so they could defend in depth.\n",
       "1344                                                                                                                                                                                   TIL Anthony Fox, former co-owner of The Viper Room (known as the location River Phoenix overdosed), has been missing since December 2001.\n",
       "344                                   TIL that in Andrei Tarkovsky’s legendary film “Stalker”, most of the lead actors and Tarkovsky himself, met an extremely early death from health causes that people involved with production attribute to the toxic Soviet filming locations that they spent extensive periods of time at.\n",
       "911                                    TIL That temperature can be used to identify poor or affluent neighbourhoods in cities. This is because trees increase the \"albedo\" of a district by absorbing/reflecting heat radiation, whilst poorer districts tend to have less trees in public and private spaces than posher areas.\n",
       "47                    TIL that ball boys in football originated in 1905 while William \"Fatty\" Foulke – 6'4\" and 300+ pounds – was Chelsea's goalkeeper. The club placed small boys behind Foulke in order to accentuate his massive frame and intimidate strikers. Eventually the boys started collecting out-of-play balls too.\n",
       "443                                                                                                       TIL that \"Big Bang Theory\" actress and \"Jeopardy\" host Mayim Bialik commissioned a wall sculpture that includes preserved pieces of her baby's amniotic sac, placenta, umbilical cord and foreskin. [non-paywall link]\n",
       "2422                                  TIL about the fascinating research being done in biotechnology in the use of spider silk. 5 times stronger than steel and ultra light the possibilities in uses are vast. There exists a spider goat born by gene splicing in labs that has spider genes and can produce silk in its milk.\n",
       "2882                                   TIL P.T. Barnum paid his actors really well and legitimately gave them a chance to make a living when no one would give them that chance. Tom Thumb was a millionaire with a yacht. Myrtle Corbin was my personal fav. You don't hear she gave birth out of both sets of legs very often!\n",
       "1161                               TIL: The Finnish Alcoholic Beverage Retailer, Alko, Mass-Produced Molotov Cocktails in the 1940s for use during the Winter War between Finland and the Soviet Union. They even improved the Molotov Cocktail's design, allowing it to ignite on impact without having to light it beforehand.\n",
       "2210                     TIL about Silvio García, a black Cuban baseball player who was scouted to break the color barrier in MLB. When Branch Rickey asked García what he would do if a player spit on him, García replied, \"I kill him.\" That honest answer ended the Cuban experiment, setting the table for Jackie Robinson.\n",
       "2669                                                           TIL of Labi Siffre. Dr. Dre wanted to sample his 1970s song \"I got the...\" for Eminem's \"My Name Is\" but Siffre, openly gay, initially refused, demanding sexist and homophobic lyrics be removed. Dre and Eminem made changes and the song became a massive hit.\n",
       "776                                  TIL animals are smarter and more aware than we think. Certain animals have passed the mirror test, thus proving they can identify themselves. Note that babies under the age of 18 months are unable to do this consistently (50% success) however as they age, they improve progressively.\n",
       "183                                                                                                                                                                                                                                    TIL That Ancient India Had It's Own Republics - It Was Not All Monarchy In Ancient India!\n",
       "734                                                        TIL about False Olaf, a prussian man who was burned at the stake after impersonating Olaf II of Denmark who had died 15 years earlier, before being escorted to Olafs mother, Margaret I of Denmark, by the Grand Master of the Teutonic Knights, to prove his claim.\n",
       "452                                                                                                           TIL Abraham Lincoln's family line is believed to have gone extinct in 1985 after the death of his last great-grandson. While other relatives exist, no direct descendants of the former president are alive today.\n",
       "1371                               TIL about the planet PSO J318.5-22, a \"rogue planet\" that doesn't orbit a sun. It likely formed in a solar system, but was kicked out of orbit due to gravitational instability between planets. Despite not having a sun, the temperature under its clouds could exceed 800 degrees Celsius.\n",
       "30                                                                              TIL: The majority of Baywatch fans were female. 65% of its fans were women between the ages of 18 and 34. Focus groups revealed that women liked the show's strong, independent women who were heroic, saved lives, and treated as equal to men.\n",
       "789                                                                      TIL that during WWII, the Merchant Marines had the highest casualty rate of any service. Mariners died at a rate of 1 in 26. Much of the deaths and lost tonnage occurred in the North Atlantic while providing materiel and supplies for the Red Army.\n",
       "100                                                                                                                                                              TIL about the world's first scheduled passenger airline. It was called the St. Petersburg-Tampa airboat line, and it was in operation from January to May 1914.\n",
       "1654                                                                                                                      TIL that the world’s tallest tree, Hyperion, is over 380ft (115.8m) tall. It was discovered in 2006 in California’s Redwood National Park, but to prevent damage, its exact location remains a secret.\n",
       "2402                                                                             TIL the sinking of the Titanic was a popular subject for early African-American rapping (known as Toasts), specifically the story of a fictional black worker named \"Shine\" who tries to warn the captain about water flooding, but is ignored.\n",
       "861                                                                                                                                                          TIL about the John Riley. A US Army soldier who led roughly 200 Americans of Irish Catholic descent to defect and fight for Mexico during the Mexican-American War.\n",
       "903                                                                                                                TIL the term \"Third World\" originally referred to countries unaligned with NATO (\"First World\") or the Communist Bloc (\"Second World\"). Sweden, Finland and Austria were all considered third world countries\n",
       "109                                                                                                                                 TIL that Dr. Seuss was afraid of public speaking because he was traumatized by President Teddy Roosevelt as a Boy Scout. In his later years, he lived in isolation at the top of a mountain.\n",
       "2694                                                                                                                                TIL of Robert Evans, a minister and amateur astronomer that holds the record for visual supernova discoveries. He continues searching for more from his back porch in Hazelbrook, Australia.\n",
       "2627                                                                                                                                                                      TIL The song \"Weatherman\", which is prominently featured in the film Groundhog Day, was recorded for the film and co-written by director Harold Ramis.\n",
       "1840                     TIL that Austrian Emperor Franz Joseph suffered immense personal tragedies, execution of his brother Maximilian in Mexico, suicide of his son and heir, murder of his wife and finally assassination of his nephew Archduke Franz Ferdinand in 1914 that lead to WW1 and destruction of Habsburg Empire\n",
       "2689                             TIL Bill Gates' primary residence overlooks Lake Washington in Medina, Washington. The mansion is a modern design in the Pacific lodge style, with classic features such as a private library with a dome-shaped roof and oculus. In 2009, property taxes were reported to be US $1.063 million\n",
       "1094                                                                                                                                                                                                       TIL chimpanzees put time &amp; effort into fashioning leaves into makeshift cups designed for drinking jungle alcohol\n",
       "1121                                              TIL about how in 2008 during the macy's thankgiving day parade, during the final performance of the \"foster's home for imaginary friends\" float the pre-planned musical number, the music was cut, only for Rick Asltey to come out and perform \"Never Gonna Give You Up\" live\n",
       "2131                                                    TIL of Aardman Animations, a British animation studio based in Bristol. They are known for films using plasticine and clay animations, their most famous characters being Wallace and Gromit. They also did the animation for Peter Gabriel's \"Sledgehammer\" music video\n",
       "809                                                                                                                                                                                         TIL of the FBI investigation into SAC capital - a hedge fund accused of using insider information in the largest such fraud to date.\n",
       "1514                                                                                                           TIL that there are still many radioactive power generators missing across the former Soviet Union. When they are found by scavengers, people rarely know the risks and get injured or die of radiation poisoning.\n",
       "1393                                                                                                                                                                                                                                                             TIL The Netherlands has the best work-life balance in the world\n",
       "2209                 TIL as a student of Aristotle, Alexander the Great was said to be a philosopher king, that is, a ruler who possessed both a love of wisdom, as well as intelligence, reliability, and a willingness to live a simple life. Such a king was the ideal ruler in Plato's fictional utopian city of Kallipolis.\n",
       "1699                                                                                                                                        TIL the Business Ryokan Asahi, a hotel in Japan, offers a room for only 92 cents a night. A requirement for booking this room is that you agree to be livestreamed during your stay.\n",
       "2867                                                                 TIL about the Karni Mata Temple, an hindu temple located in the state of Rajasthan, India. It houses 25.000 black rats which are revered and considered sacred, so much so that eating food which has been nibbled on by them is considered to be an honor.\n",
       "2763                                                                            TIL that the highest flying known bird in the world is the Rüppell's vulture, with a record altitude of 37,000 feet. A jet was flying over Abidjan, Ivory Coast on 29 November 1973 when a Rüppell's vulture got sucked into one of its engines.\n",
       "1595                                                                                                                                             TIL that Ethanethiol, one of the chemicals that makes natural gas smell bad, is so notorious among chemists for its awful odor that \"stench\" is an accepted common name for it.\n",
       "2728                                                               TIL that around the birth of Ted Kennedy his 14-year old brother John (JFK) asked their parents to be his godfather and to name him George Washington Kennedy since he was born on Washington’s 200th birthday. Their parents only granted the first request.\n",
       "829                                       TIL I learned that in WWI food supply was a major factor in stopping the German Spring Offensive in 1918: As the Germans advanced to Amiens the troops found shops filled with all types of food. Such was their hunger and desperation for food that the discipline soon disappeared.\n",
       "1411                 TIL that \"Breast-shaped hill\" is an actual technical term used to describe certain landforms. Example landforms include the \"Breasts of Aphrodite\" in Mykonos, Greece; \"Paps of Anu\" (Irish) in County Kerry, Ireland; and \"Marens Patter\" (Maren's Breasts) in Denmark, a Bronze Age landmark for sailors.\n",
       "438                                                                                                                                                                                                             TIL that in the military it's considered extremely bad luck to eat the 'Charms' candy that used to come in MRE's\n",
       "627                                                                                    TIL Ikea products are not given names like “white table” just in Swedish. They are actually given the names of people, cities, etc. It’s the equivalent of entering a Home Depot and buying a lamp named Steve and a desk named New York.\n",
       "1287                                                                                                                                                                                                       TIL that between 2007 and 2015, the city of Chicago received over 6000 requests to remove shoes from telephone wires.\n",
       "925                                                                                                                                                                                        TIL: The SECOND Music Video which aired on MTV was \"You Better Run\" by Pat Benatar, after \"Video Killed the Radio Star\" played first.\n",
       "2941                                                                                                                                                                                         TIL that rapper Jadakiss stirred up controversy in July of 2019 when it was discovered he likes to order pizza with only the crust.\n",
       "1817                                           TIL that graffiti artist Banksy sought to trademark his image of a protester throwing flowers. The trademark office denied it on the grounds of him having no interest in selling his work. In the ruling they used a quote from one of Banksy's books: \"copyright is for losers\"\n",
       "2373                                                                                       TIL That the president of France is also the Co-Prince of Andorra, a sovereign microstate on the border of France and Spain. Currently, it is a legal diarchy ruled by the Bishop of Urgell and the President of the French Republic.\n",
       "1888                                                                                                                                                                                                                                                TIL that on nights before a full moon, people go to bed later and sleep less\n",
       "944                            TIL Nickelodeon is named after the first theater in the world exclusively devoted to showing motion pictures. Opened on June 19, 1905 in Pittsburgh, Pennsylvania, Nickelodeon's name was concocted from nickel (the cost of admission) and the ancient Greek word odeion, a roofed-over theater.\n",
       "12                       TIL that Paul Walker in 2010 after the devastating earthquake in Haiti took him and a team down to help out. After returning home he started his own non-profit relief organization call Reach Out Worldwide (ROWW). He declined use of government grants and used his own money to fund the operation.\n",
       "642                                                                                                                                                  TIL Bob Klosse was the lead guitarist of the band The Pink Floyd Sound, along with Roger Waters, Nick Mason, Richard Wright and Syd Barrett. He left before they got famous\n",
       "1550                                                                 TIL of the Uffington White Horse, a three thousand year old pictogram made of chalk. The horse is thought to be the oldest hill figure in England and requires regular cleaning and maintenance, a custom that has been occurring since it was constructed.\n",
       "1623                                                                                                                                  TIL that the Ancient Greek \"Lego\" means to gather, pick up, collect and bind. But the brand name LEGO is a portmanteau of the unrelated Danish phrase “leg godt”, which means “play well”.\n",
       "1328                   TIL that, in 1915, when Charlie Chaplin had become \"universally familiar\", there was a Charlie Chaplin lookalike contest which Chaplin himself decided to attend, mostly as a joke -- and he took home third prize, which meant two people looked more like Charlie Chaplin than Charlie Chaplin himself.\n",
       "1870                                                                                               TIL of Margaret Corbin. When her husband went into battle in the American Revolution, she went along side him. When he was killed she took his post and was able to fire, clean and aim the cannon with great ease and speed.\n",
       "429                                                                                                                                                                                                           TIL Bobby Fischer is believed to have played online chess in the year 2000, well after his last known game in 1982\n",
       "2776                                                                                                                                                                                                                            TIL that in 1834 ketchup was sold as a cure for indigestion by an Ohio physician named John Cook\n",
       "838                                                                                                                                                                                                        TIL The banana plant is a herb, distantly related to ginger. There are more than 1,000 types of bananas in the world.\n",
       "1087                                                                                                                                                                                                                              TIL that with few exceptions, US presidential inaugurations were held on March 4th until 1937.\n",
       "856                                                                                                                                                                                                                                      TIL there's a species of freshwater seal and they exist only around one lake in Russia.\n",
       "2407                                                                                                                             TIL George C. Parker, the conman who fraudulently \"sold\" the Brooklyn Bridge multiple times, dodged his first prison sentence by grabbing a sheriff's uniform and walking out of the courthouse\n",
       "1561                                                                                    TIL that right before the WHO was about to declare smallpox eradicated, one last case occurred in Birmingham, England. As a result of the outbreak, more stringent safety measures where introduced in labs housing infectious diseases.\n",
       "1844                                     TIL that possums and opossums are entirely different animals. Generally, opossums live in North and South America, while possums live in Australia. A British botanist, Sir Joseph Banks, thought the possum looked enough like the North American opossum to give them a similar name.\n",
       "693                                      TIL: in 1962 then manager of Benfica (a Portuguese football/soccer team) Béla Guttmann, had his pay rise request denied. He stormed out and said these final words... \"Not in a hundred years from now will benfica ever be European champions.\" It's known as the Béla Guttmann curse.\n",
       "2873                                                                                                                                      TIL In the 1880’s, the Old Faithful geyser would be used to launder clothes. Dirty clothes would be placed in the crater and after an eruption, they were “ ejected thoroughly washed”\n",
       "287                                                                                                                                      TIL: Some swiss cheese lacks holes because the milk used to make it is too clean. A Swiss agricultural institute discovered that tiny pieces of hay dust are responsible for the holes.\n",
       "2922                                                                                                                TIL The Soviets stole much of the data for the Space Shuttle Buran by breaking into ARPANET, the Internet's predecessor. NASA developers were using ARPANET to post and exchange design files in the 1970's.\n",
       "2868                     TIL that Walt Disney designed Epcot to be a fully functioning city of the future with over 20,000 inhabitants. The city was to be Disney’s biggest contribution to society but he died from lung cancer before construction began. His ambitious plan was then turned into the theme park we see today.\n",
       "2273                                                                                                                                                                                                          TIL that comedic legend Chris Farley is related to Jim Farley, who is the President and CEO of Ford Motor Company.\n",
       "2480                                                                                           TIL pomeranians used to be much bigger, weighing about 40 lbs (18 kilos). Then Queen Victoria got a tiny one, which immediately became popular. By the time she died 12 years later, the size of the breed had decreased by half.\n",
       "210                                                      TIL about Private David Fagen, a black American soldier who was among the 15 U.S. soldiers who defected to the Philippines during the Philippine-American war, and was apparently so successful fighting American soldiers that a price of $600 was placed on his head.\n",
       "1897                                                                                                                                                  TIL that the first Polish encyclopaedia included such definitions as \"Horse: Everyone knows what a horse is\", and \"Dragon: Dragon is hard to overcome, yet one shall try.\"\n",
       "73                                                                                                                                                           TIL that during the first week of move-in into the White House, the American president is asked to plan his or her funeral should his or her death occur in office.\n",
       "2447                                 TIL of the Chicago College All-Star Game, an NFL preseason game between the NFL Championship Team of the previous season vs a team of the best college football players. It was played from 1934 to 1976. Of the 42 games played, the college team won 9 times with their last win in 1963.\n",
       "2543                                                                                                                                                                                                         TIL that in Russia the number of flowers you gift to a woman should be odd. Even numbers are reserved for funerals.\n",
       "113                                              TIL some luxury buildings in New York City will only let you buy an appartment there after board approval. Mariah Carey was once rejected after showing up to the interview in a 'bare midriff' and answering \"he be dead\" when asked if Biggie would be visiting the building.\n",
       "1780                                                            TIL in 1664 French painter Charles Le Brun drew what he imagined a space launch vehicle would someday look like. His drawing was added to a Gobelins tapestry and bears an astonishing resemblance to a three-stage rocket during liftoff, seen from a distance.\n",
       "1732                TIL in 1982 Andy Warhol had a $400,000 robot created in his likeness. The robot was going to be in a \"no-man show\" which would've included two robots of his pet dachshunds. The show never happened due to his death, but Warhol had expressed a hope his robot would take over his public appearances too.\n",
       "1611                                  TIL a group of Dutchmen celebrating the New Year caused an explosion so powerful that it destroyed all the windows of a hotel and damaged two other properties. Within five days, social media fundraising efforts raised €1,170 for the property owners, and €24,000 for the perpetrators\n",
       "350                                                                                                     TIL the controversial \"Smiley Faced Killer\" theory, at least 45 male college students across the whole continental US, drown after getting drunk to incapacity. A smiley face graffito being found generally nearish by.\n",
       "2463                                                                                                                                                                                           TIL Through the first 12 years of his career, Baseball Hall Of Famer Joe DiMaggio had more home runs (349) than strikeouts (333).\n",
       "457                                                     TIL that during the Men's Marathon at the 1904 Olympics, competitor Fred Lorz, after suffering from a cramp, hitched a ride in a car. After the car broke down after driving for 19 miles, Fred re-entered the race and jogged to the finish line, winning the marathon.\n",
       "479                                                                      TIL in 1940 the WPA and NYC Tax Department took a picture of nearly every building in the five boroughs of NYC, these were digitized by the NYC Municipal Archives in 2018, collated, and geo-tagged to create a comprehensive streetview of 1940s NYC.\n",
       "26                                                                                                                                                                                               TIL that the first British animated film \"Animal Farm\" was secretly produced and funded by the CIA as anti-Communist propaganda\n",
       "2094                                                                                                                           TIL that in 1985 French Military Agents bombed a green peace vessel in a New Zealand harbor that was there to protest French Nuclear testing on a nearby island. The blast killed one crewmember.\n",
       "2647                                                                                                                                                                                          TIL the atomic bomb that detonated in Hiroshima only had 1.7 percent of it's material fission and was considered very inefficient.\n",
       "607                                                                                                                                                                                                                                                            TIL waking up early reduces the risk of suffering from depression\n",
       "2083                                                                                                                                                                                                               TIL that year long Daylight Saving Time was attempted in 1974 but was so unpopular that it got repealed early\n",
       "2742                                                                                                                TIL that Richard Donner received hate mail and death threats for making Superman (1978), which draws parallels between Superman and Jesus, with one letter telling him his \"blood would run in the streets\".\n",
       "203                      TIL The famously large President Taft followed a weight loss program. Taft was in contact with Dr. Yorke-Davies for over twenty years and kept a daily record of his weight, food intake, and physical activity. Taft managed to go from 340 to 244 pounds and walked 3 miles to the Capitol every day.\n",
       "339                                                                                                                                                TIL a Roman legion would march onto an enemy completely silent until close enough to attack. At that point, the entire army would utter a battle cry to frighten their enemy.\n",
       "387                                                                              TIL of the Rhinocerous Party of Canada, whose platform included building one nuclear power plant per household, including monthly distributions of lead underwear to Canadians. Indoor lighting would then be provided by radioactive citizens.\n",
       "2187                                                                                                                                                          TIL Tug of War was a Summer Olympics sport from 1900 to 1920. Since multiple teams were allowed from each country, in 1904 the United States won all three medals.\n",
       "2509                 TIL In 2013 Lucasarts games had a game in development following Boba Fett going through the criminal underworld of Coruscant's level 1313. According to interviews the staff was inspired by the GTA series. The Game was cancelled when Lucasarts was acquired by Disney and laid off most of their staff.\n",
       "1729                     TIL that in 2000, a man named Danny Stewart found an abandoned newborn baby in a NYC subway station. The baby went unclaimed for 3 months. Stewart later attended a court hearing, and the judge asked him if he wanted to adopt the infant. Stewart said yes. He and his partner named the baby Kevin.\n",
       "2910                                  TIL the USSR used nuclear explosions to search for oil, create water and toxic waste storage underground cavities, and in once instance to stop a gas well that had been on fire for over 1,000 days (they never could put it out, so decided to use an underground nuclear bomb to do so)\n",
       "2077                                TIL of 17-year-old Willie Francis, who screamed “I am not dying!” as he writhed in pain during a botched electric chair execution. Francis survived, appealed to the Supreme Court on the grounds that going back to the chair would be unconstitutional, and lost his case in a 5-4 ruling.\n",
       "1569                    TIL That Spaceballs was originally going to be titled Planet Moron, but was changed when a film titled Morons from Outer Space was released; Spaceballs, despite the assumed innuendo, was a result of needing “space” in the title and Brooks considering it one of his trademark “screwball” comedies.\n",
       "677                                                                                                                                                                                        TIL the United States never recognized the incorporation of the Baltic Republics (Estonia, Latvia, and Lithuania) in the Soviet Union\n",
       "2357                                   TIL the Preakness, part of horse racing's Triple Crown, has a mascot named Kegasus, a \"half-man, half-thoroughbred, party manimal.\" Kegasus starred in ads to promote the course's all-you-can-drink “Mug Club,\" after attendance had fallen 25% when outside drinks were banned in 2009.\n",
       "61                                  TIL The United States Olympics Committee, and U.S. Olympic &amp; Paralympic athletes are not funded by the federal government, and rely on individual, and corporate sponsorship for funding. This is the exception, as most countries that participate in the Olympics fund their athletes.\n",
       "1483                         TIL that a wave of Jew-burning swept through Western Europe in the beginning of the Black Death (1348-50). Localities with those pogroms were: 6 times more likely to attack jews, had 1.5 times more votes for the nazi party and reported more jews than other localities almost 600 years later.\n",
       "1407                                                                                                                                  TIL about The Prisonaires -- an American music group, whose hit \"Just Walkin' in the Rain\" was released while the group was incarcerated in the Tennessee State Penitentiary in Nashville.\n",
       "2313                                                                                                                                                                                                           TIL all ski area maps look the same because they were all painted by the same man. James Niehues, Ski Map Artist.\n",
       "1400                                                                                 TIL that Dinorwig power plant in Wales UK remains one of the largest and fastest-acting pumped storage plants in Europe even after 35+ years, its six generating units can achieve maximum output of 1,728MW, from zero, within 16 seconds.\n",
       "733                                                                                                           TIL An episode of Peppa Pig \"Mr. Skinny Legs\" was banned in Australia due to the fact the moral of the episode is that spiders are harmless. Australia has some of the most dangerous spiders in the entire world.\n",
       "1747                                                                                                                                                    TIL that Loreta Janeta Velazquez was a Cuban-American woman who masqueraded as a male Confederate soldier during the Civil War. She was in essence a 19th century Mulan.\n",
       "2784                                                                                                                                                                                         TIL the first ever NBA game was played in Canada, on Nov.1, 1946, between the Knicks and the Toronto Huskies at Maple Leaf Gardens.\n",
       "2594                        TIL that there is a yearly event in Hungary where various peoples of Asian nomadic celebrate the first week of August called the Great Kurultáj. In addition to a nations parade, they ride horses, shoot arrows, etc. Hungary, Turkey, Mongolia, the ex Soviet states, and even Manchus participate\n",
       "2042                      TIL 1979 Doctor Who serial City of Death was one of two televised Doctor Who serials scripted by Douglas Adams. It features film actor Julian Glover, a cameo by John Cleese, was the first shot on location outside the United Kingdom and was the highest rating Doctor Who serial in the UK to date\n",
       "857                                                                 TIL that voice actor Frank Welker has voiced Fred from Scooby Doo continuously since the show's inception except for one series where the characters were children. You may also know him as the voice of Megatron from the live action Transformers movies!\n",
       "2153                                                                                                                                   TIL after an obese umpire died during a game, Major League Baseball decided to enforce weight limits. In 1999 under this policy, umpire Eric Gregg was fined $5,000 for exceeding 300lbs.\n",
       "2680                                                           TIL The Three Stooges performed at the very first Super Bowl Halftime Show. During their performance, Larry Fine spotted a football player hitting on his wife. He flipped him the bird, and for this he got in trouble with CBS and had to pay a fine of $42.50.\n",
       "2579                                                                                                                                                                                          TIL one of the few times Pink Floyd allowed the music to be used for corporate advertising was a bizarre 1973 ad for Dole bananas.\n",
       "1288                                                                                                                                                                                                                                                              TIL The US still has a problem with unexploded Civil War bombs\n",
       "1115                                                                                          TIL that Henry VIII of England and Francis I of France, who had just been in war with each other, had a wrestling match at a Royal Summit in 1520. Francis I won, and it was even said that they both left the meeting as friends.\n",
       "582                  TIL the most successful pirate in history was a woman called Ching Shih, prostitute wed to Cheng I during the Qing dynasty, who succeeded him and commanded over 1,800 pirate ships, and an estimated 80,000 men. She finally retired in 1810 by accepting an offer of amnesty from the Chinese government.\n",
       "1965                                                                                                              TIL a one word article was the shortest ever published in the New York Times. The title: “When I’m Mistakenly Put on an Email Chain, Should I Hit ‘Reply All’ Asking to Be Removed?” The entire article: \"No.\"\n",
       "1964                TIL that in 1942, the Luftwaffe dropped three bombs on the church of Mosta, Malta. Two of them deflected without exploding, but one 500kg high explosive bomb pierced the dome and entered the church, where more than 300 people were awaiting evening mass. The bomb did not explode and was later defused\n",
       "1224                  TIL The Supreme Royal Circle of Friends of the World, (Royal Circle of Friends) was an African-American fraternal organization founded in 1909 in Arkansas. It supplied insurance and was dedicated to the moral, physical, social, and economic welfare of its members. Men and women were equal members.\n",
       "1071                                                                                   TIL About Miroslav Šatan, a former NHL hockey player. Because his name so closely resembles that of Satan, a popular April Fool's joke was that he was traded to the New Jersey Devils as a captain, making him the leader of the Devils.\n",
       "1860                 TIL that during the 1930's, brothers Homer and Langley Collyer filled their house with over 140 tons of debris (including guns, human organs in jars, and fourteen pianos) which they made into a booby-trapped maze. Langley was killed by one of the traps in 1947, and Homer, unable to escape, starved.\n",
       "2812                      TIL that Alan Moore wrote Rorschach in 'Watchmen' to be Batman in the real world but didn't realize that 'smelling' and 'not having a girlfriend' would come off as heroic to comic fans. \"Fans come up and say I'm Rorschach. This is my story and I'm thinking, Could you never come near me again?\"\n",
       "1258                                                                                                                                    TIL: When Jimmy Carter Sang \"Salt Peanuts\" with Dizzie Gillespie it was the first Whitehouse Jazz concert, and the first and only time a President performed a Jazz song while in office\n",
       "95                                                                                                                                                                       TIL of Times Beach, a city in Missouri that was abandoned and demolished in 1985 after since a massive Dioxin contamination made the town uninhabitable\n",
       "842                 TIL of Sir David Brailsford, a British cycling coach who theorizes if you make a 1% improvement in a host of tiny areas, the cumulative benefits will be extraordinary. Utilizing this theory of \"marginal gains\"; his teams have won 18 gold medals, six Tour de France titles, and 59 World Championships.\n",
       "2670                                                                                                                                                                                                       TIL that roly polies aka pill bugs are crustaceans and more closely related to shrimp and lobsters than to other bugs\n",
       "2364                                                                                                            TIL Phosphorus Was Discovered By A German Alchemist Trying to Make Gold Out of Human Pee Pee and Its Name in Latin Means \"Lucifer.\" Phosphorus is in every cell of the human body, mostly in the teeth and bones\n",
       "322                                                                                                                                                                                      TIL that because Christopher Mintz-Plasse (McLovin) was 17 at the time of shooting Superbad his mom had to be in set for the sex scene.\n",
       "334                                                                                                                                                                                                                                                                  TIL Walmart loses about 3 billion dollars a year from theft\n",
       "2575                                                                                                                         TIL There is a clear ceramic made out of Aluminum that is stronger than bulletproof glass, and has a higher melting point than stainless steel. It is called ALON, and is used for armored windows.\n",
       "332                   TIL that In 1889 a lion escaped from a travelling show in Birmingham and ran into the sewers. When an angry mob formed, Frank Bostock, the owner secretly snuck another lion out the back. He then returned with the lion clearly visible and was hailed a hero. The escaped lion was still in the sewers!\n",
       "833                                                                       TIL that when Truman told Stalin about the Manhattan project in July of 1945, Stalin displayed little reaction, since Stalin had known about the project for almost 4 years before Truman, and he arguably knew more about it than Truman himself did.\n",
       "1652                                                                                                                                                                                                       TIL in 2009 Amazon sold as many Michael Jackson albums in the 24 hours after his death than in the previous 11 years.\n",
       "731                                                                                                                                                                            Today I learned that the colorful “flowers” of poinsettias are actually modified leaves called “bracts” and the smaller yellow pet is the flower.\n",
       "2548                                                                                                                   TIL that actor John Candy was a high school football player, and a knee injury kept him from playing professionally. He was also part owner of the Toronto Argonauts and they won the Grey Cup that year.\n",
       "291                                                                                                                                             TIL that the Saturn V was so powerful, Walter Cronkite had to hold up the blast window in the CBS studio as he called the very first launch: “Part of our roof has come in here”\n",
       "533                                                                                                                                                                                  TIL that Soviet general Grigory Kulik was responsible for many of the better-known failures of the Soviet army during Operation Barbarossa.\n",
       "2759                                             TIL Iceland is one of the few countries that is mosquito-free despite having 1600 species of dryland animals. However, in 1980 a professor of the University of Iceland found a mosquito on a plane and it is now kept in a jar at the Icelandic Institute of National History.\n",
       "1777                                                                                                                                          TIL that on May 15, the first stork chicks had hatched in Britain in 600 years– the first to be born in since a pair nested on the roof of St Giles Cathedral in Edinburgh in 1416\n",
       "657                                                                                                                                                                                              TIL that Disney Once Considered Making an Animated Catcher in the Rye with German Shepherds. It would have been called, \"Dufus\"\n",
       "2417                        TIL: When the 80's He-Man film started going over budget, Cannon's solution was to cut the budget of other films in works in order to finish it. The film most affected was Superman its 35 million budget cut in half. Both films would bomb at the box office and Cannon would fold 7 years later.\n",
       "428                                                                                                              TIL The Beatles song Blackbird (solo Paul McCartney) has a tapping that keeps time. The tapping was thought to be a metronome but was in fact Paul's foot keeping time as he played guitar and sang the lyrics.\n",
       "2164                                                                                                TIL that in 1971, a young hacker named John Draper discovered that the toy whistles found in Captain Crunch cereal boxes were capable of mimicking the tones used by phone companies, allowing him to make free phone calls.\n",
       "1222                               TIL of Origen of Alexandria, an early Christian scholar (c.184-c.253). According to accounts, his father was a martyr, beheaded by the Romans. The teenage Origen planned to accept execution as well but his mother hid all his clothes and he was too embarrassed to leave the house naked.\n",
       "1498                                                                                                    TIL In parts of Africa, people with albinism are being hunted, sold and eaten. If their bodies are ingested, it is believed that it contains magical powers that will promote and ensure better health for the consumer.\n",
       "2173                                                                                                                                                                                                                                                         TIL During the Edo period, 70% of the Japanese population was male.\n",
       "2389                                       TIL Hanno the Navigator, an ancient Carthaginian from the 5th century BCE, was one of the first to record the discovery of what he described as \"hairy, savage people\". The local tribes called them Gorillai and viewed them as a type of human and were described as a type of man.\n",
       "1726                                                                                                               TIL under the US criminal code \"whoever mutilates, cuts, defaces, disfigures, or perforates, or unites or cements together, or does any other thing\" to money will be fined or/and imprisoned up to 6 months.\n",
       "2251                                                                                                                                                                             TIL in 1941 Lenin's body was secretly moved from Moscow to Tyumen (a distance of around 2,500 km) in during the German invasion of the U.S.S.R.\n",
       "2104                                                                                                                            TIL the most powerful volcanic eruption in the last 7,000 years, on the Indonesian island of Lombok, led to a global mini-ice age that contributed to the disappearance of the Greenland Vikings\n",
       "1738                                                                                                                                                                                  TIL Rabies often causes involuntary erections and hands-free orgasms, sometimes as many as 30-50 per day in the final phases before death.\n",
       "1720                                                                                                                                                                                           TIL that there is an exoplanet, J1407, that has a ring system with a larger diameter than the sun (120M km as opposed to 1.4M km)\n",
       "1292                 TIL there is evidently an oceanic \"cookie monster,\" and it turns out to be the cookie-cutter shark, a parasitic predator which attaches itself to larger fish and marine mammals leaving round \"melon-baller\" wounds behind after it feeds. This shark has also reportedly attacked submarines on occasion.\n",
       "70                                                                                                           TIL: the reason the donkey represents the democratic party is because back in 1828, Andrew Jackson's political opposition started referring to him as a \"jackass\" he then incorporated that as his campaign symbol.\n",
       "2706                                                                                TIL that Lewis Carroll was also a mathematician and wrote \"Alice's Adventures in Wonderland\" as a satire to critique the abstract mathematics being developed in his time by using a mathematical technique known as \"reductio ad absurdum\".\n",
       "2900                                                                                                                                                                      TIL the song commonly held to be the first Chicago house record, On and On (1984), had re-used the bassline from Australian novelty hit Space Invaders\n",
       "1630                                                                                                                                                                              TIL Senegal and other African countries are building a wall of trees across the width of Africa to stop the advancement of the Saharan desert.\n",
       "1340                                                                                     TIL Irene of Athens had her son's eyes gouged out &amp; had him imprisoned declaring herself as Empress. However, Pope Leo III declared no woman could rule the Roman Empire throne. Irene was exiled to the island of Lesbos and died.\n",
       "831                                                                                                                                                                                                                                                                TIL that the US Coast Guard had Horseback Patrols during WWII\n",
       "2874                        TIL of Yoshie Shiratori, who escaped from prison 4 times. First, he picked a lock, then he climbed the walls and escaped through a skylight. Third, through a narrow food slot in his door, and finally he dug a tunnel out. He was recaptured each time, and eventually released for good behavior.\n",
       "1456                          TIL the first large-scale dog food company, Spratt's, used snob appeal to get consumers to switch from feeding their dogs table scraps to their food. Their aggressive advertising and targeting of health-conscious pet owners helped convince people to buy a product they didn't actually need.\n",
       "238                                                                                                                                                                                             TIL James Earl Ray was not arrested until two months after MLK’s assassination and had traveled to Canada, Portugal and England.\n",
       "92                                       TIL Canadian Parliament has a Sargeant-at-Arms who is in charge of security. In 2014 Kevin Vickers was called into action when a gunman stormed Parliament. He returned fire on the gunman and helped put an end to the shootings. He was rewarded by being made ambassador to Ireland.\n",
       "2144                                                TIL of the Space Liability Convention, in which a state which launches an object into space is liable for damages caused by that object. Canada billed the Soviet Union $6,041,174.70 for cleanup of Kosmos 954 including radioactive debris in 1978 (they paid $3,000,000).\n",
       "1001                                                                                                                               TIL that the area code for Brevard County, Florida, home to the Kennedy Space Center, is 321. This was done deliberately; it is a reference to the countdown heard before every space launch.\n",
       "957                                                                             TIL about Null Island, the place where the Prime Meridian and Equator meet. It is a fictitious island with the geographical coordinates of 0,0 - off the coast of Africa. And it only exists in geographical databases to highlight data errors.\n",
       "Name: title, dtype: object"
      ]
     },
     "execution_count": 37,
     "metadata": {},
     "output_type": "execute_result"
    }
   ],
   "source": [
    "true_positives = np.logical_and(y_test == y_pred_class, y_pred_class == 1)\n",
    "\n",
    "X_test[true_positives]"
   ]
  }
 ],
 "metadata": {
  "kernelspec": {
   "display_name": "Python [conda env:dsi-111]",
   "language": "python",
   "name": "conda-env-dsi-111-py"
  },
  "language_info": {
   "codemirror_mode": {
    "name": "ipython",
    "version": 3
   },
   "file_extension": ".py",
   "mimetype": "text/x-python",
   "name": "python",
   "nbconvert_exporter": "python",
   "pygments_lexer": "ipython3",
   "version": "3.8.8"
  }
 },
 "nbformat": 4,
 "nbformat_minor": 5
}
